{
 "cells": [
  {
   "cell_type": "markdown",
   "id": "ec788153",
   "metadata": {},
   "source": [
    "### Silver_Bronze10"
   ]
  },
  {
   "cell_type": "markdown",
   "id": "1737c5d5",
   "metadata": {},
   "source": [
    "#### 2536 색종이"
   ]
  },
  {
   "cell_type": "code",
   "execution_count": 18,
   "id": "98c43ec9",
   "metadata": {},
   "outputs": [
    {
     "name": "stdout",
     "output_type": "stream",
     "text": [
      "3\n",
      "3 7\n",
      "15 7\n",
      "5 2\n",
      "260\n"
     ]
    }
   ],
   "source": [
    "N=int(input())\n",
    "white=[[0]*100 for ik in range(100)]\n",
    "use=[1]*10\n",
    "for ik in range(N):\n",
    "    a,b=map(int,input().split())\n",
    "    for ik in range(10):\n",
    "        white[a+ik][b:b+10]=use\n",
    "area=0\n",
    "for ik in range(100):\n",
    "    area=area+sum(white[ik])\n",
    "print(area)"
   ]
  },
  {
   "cell_type": "markdown",
   "id": "8978bdbb",
   "metadata": {},
   "source": [
    "#### 2847 게임을 만든 동준이"
   ]
  },
  {
   "cell_type": "code",
   "execution_count": 78,
   "id": "538f8539",
   "metadata": {},
   "outputs": [
    {
     "name": "stdout",
     "output_type": "stream",
     "text": [
      "4\n",
      "5\n",
      "3\n",
      "7\n",
      "5\n",
      "6\n"
     ]
    }
   ],
   "source": [
    "N=int(input())\n",
    "ans=0\n",
    "arr=[]\n",
    "for ik in range(N):\n",
    "    arr.append(int(input()))\n",
    "arr.reverse()\n",
    "for ik in range(1,N):\n",
    "    if arr[ik]>=arr[ik-1]:\n",
    "        ans+=arr[ik]-arr[ik-1]+1\n",
    "        arr[ik]-=(arr[ik]-arr[ik-1]+1)\n",
    "print(ans)"
   ]
  },
  {
   "cell_type": "markdown",
   "id": "67f2ac98",
   "metadata": {},
   "source": [
    "#### 4641 Doubles"
   ]
  },
  {
   "cell_type": "code",
   "execution_count": 20,
   "id": "1f5b898b",
   "metadata": {},
   "outputs": [
    {
     "name": "stdout",
     "output_type": "stream",
     "text": [
      "1 4 3 2 9 7 18 22 0\n",
      "4\n",
      "2 4 8 10 0\n",
      "3\n",
      "7 5 11 13 1 3 0\n",
      "1\n",
      "-1\n"
     ]
    }
   ],
   "source": [
    "while(1):\n",
    "    T=list(map(int,input().split()))\n",
    "    if T==[-1]:\n",
    "        break\n",
    "    ans=0\n",
    "    for ik in T:\n",
    "        if ik*2 in T:\n",
    "            ans+=1\n",
    "    print(ans-1)\n"
   ]
  },
  {
   "cell_type": "markdown",
   "id": "507438ed",
   "metadata": {},
   "source": [
    "#### 4892 숫자맞추기 게임"
   ]
  },
  {
   "cell_type": "code",
   "execution_count": 22,
   "id": "7ada0ccb",
   "metadata": {},
   "outputs": [
    {
     "name": "stdout",
     "output_type": "stream",
     "text": [
      "37\n",
      "1. odd 18\n",
      "38\n",
      "2. even 19\n",
      "0\n"
     ]
    }
   ],
   "source": [
    "ik=0\n",
    "while(1):\n",
    "    T=int(input())\n",
    "    if T==0:\n",
    "        break\n",
    "    ik+=1\n",
    "    if T%2==1:\n",
    "        print(\"%d. %s %d\"%(ik,'odd',(T-1)//2))\n",
    "    else:\n",
    "        print(\"%d. %s %d\"%(ik,'even',T//2))"
   ]
  },
  {
   "cell_type": "markdown",
   "id": "773110b2",
   "metadata": {},
   "source": [
    "#### 10773 제로"
   ]
  },
  {
   "cell_type": "code",
   "execution_count": 24,
   "id": "68e11ba7",
   "metadata": {},
   "outputs": [
    {
     "name": "stdout",
     "output_type": "stream",
     "text": [
      "10\n",
      "1\n",
      "3\n",
      "5\n",
      "4\n",
      "0\n",
      "0\n",
      "7\n",
      "0\n",
      "0\n",
      "6\n",
      "7\n"
     ]
    }
   ],
   "source": [
    "K=int(input())\n",
    "M=[]\n",
    "for ik in range(K):\n",
    "    T=int(input())\n",
    "    if T==0:\n",
    "        del M[-1]\n",
    "    else:\n",
    "        M.append(T)\n",
    "print(sum(M))"
   ]
  },
  {
   "cell_type": "markdown",
   "id": "7edfb452",
   "metadata": {},
   "source": [
    "#### 17388 와글와글 숭고한"
   ]
  },
  {
   "cell_type": "code",
   "execution_count": 29,
   "id": "8666941a",
   "metadata": {},
   "outputs": [
    {
     "name": "stdout",
     "output_type": "stream",
     "text": [
      "45 33 21\n",
      "Hanyang\n"
     ]
    }
   ],
   "source": [
    "S,K,H=map(int,input().split())\n",
    "if S+K+H>=100:\n",
    "    print(\"OK\")\n",
    "else:\n",
    "    if min(S,K,H)==S:\n",
    "        print(\"Soongsil\")\n",
    "    elif min(S,K,H)==K:\n",
    "        print(\"Korea\")\n",
    "    else:\n",
    "        print(\"Hanyang\")"
   ]
  },
  {
   "cell_type": "markdown",
   "id": "ddc65fbb",
   "metadata": {},
   "source": [
    "#### 3226 전화요금"
   ]
  },
  {
   "cell_type": "code",
   "execution_count": 36,
   "id": "f82e8f6f",
   "metadata": {},
   "outputs": [
    {
     "name": "stdout",
     "output_type": "stream",
     "text": [
      "5\n",
      "00:00 05\n",
      "06:47 35\n",
      "11:30 18\n",
      "18:33 60\n",
      "23:59 22\n",
      "1035\n"
     ]
    }
   ],
   "source": [
    "N=int(input())\n",
    "ans=0\n",
    "for ik in range(N):\n",
    "    T,d=input().split();\n",
    "    time=list(map(int,T.split(':')))\n",
    "    d=int(d)\n",
    "    if (time[0]<19)&(time[0]>=7):\n",
    "        ans+=d*10\n",
    "        if (time[1]+d)>=60:\n",
    "            time[0]+=1; time[1]=time[1]+d-60\n",
    "            if time[0]>=24:\n",
    "                time[0]=-24\n",
    "        if (time[0]>=19)|(time[0]<7):\n",
    "            ans-=time[1]*5\n",
    "    else:\n",
    "        ans+=d*5\n",
    "        if (time[1]+d)>=60:\n",
    "            time[0]+=1; time[1]=time[1]+d-60\n",
    "            if time[0]>=24:\n",
    "                time[0]=-24\n",
    "        if (time[0]<19)&(time[0]>=7):\n",
    "            ans+=time[1]*5\n",
    "print(ans)            "
   ]
  },
  {
   "cell_type": "markdown",
   "id": "f6966563",
   "metadata": {},
   "source": [
    "#### 14709 여우 사인"
   ]
  },
  {
   "cell_type": "code",
   "execution_count": 39,
   "id": "6d6e93ca",
   "metadata": {},
   "outputs": [
    {
     "name": "stdout",
     "output_type": "stream",
     "text": [
      "5\n",
      "1 3\n",
      "3 4\n",
      "4 1\n",
      "1 5\n",
      "5 4\n",
      "Woof-meow-tweet-squeek\n"
     ]
    }
   ],
   "source": [
    "N=int(input())\n",
    "check=[{1,3},{1,4},{3,4}]\n",
    "c=0\n",
    "for ik in range(N):\n",
    "    temp=set(map(int,input().split()))\n",
    "    if temp in check:\n",
    "        c+=1\n",
    "    else:\n",
    "        c=-100\n",
    "if c==3:\n",
    "    print(\"Wa-pa-pa-pa-pa-pa-pow!\")\n",
    "else:\n",
    "    print(\"Woof-meow-tweet-squeek\")"
   ]
  },
  {
   "cell_type": "markdown",
   "id": "3326c399",
   "metadata": {},
   "source": [
    "#### 23055 공사장 표지판 "
   ]
  },
  {
   "cell_type": "code",
   "execution_count": 51,
   "id": "5dc056a8",
   "metadata": {},
   "outputs": [
    {
     "name": "stdout",
     "output_type": "stream",
     "text": [
      "14\n",
      "**************\n",
      "**          **\n",
      "* *        * *\n",
      "*  *      *  *\n",
      "*   *    *   *\n",
      "*    *  *    *\n",
      "*     **     *\n",
      "*     **     *\n",
      "*    *  *    *\n",
      "*   *    *   *\n",
      "*  *      *  *\n",
      "* *        * *\n",
      "**          **\n",
      "**************\n"
     ]
    }
   ],
   "source": [
    "N=int(input())\n",
    "arr=[[\" \"]*N for ik in range(N)]\n",
    "arr[0]=[\"*\"]*N\n",
    "arr[N-1]=[\"*\"]*N\n",
    "for ik in range(1,N-1):\n",
    "    arr[ik][0]=\"*\"\n",
    "    arr[ik][0+ik]=\"*\"\n",
    "    arr[ik][N-1]=\"*\"\n",
    "    arr[ik][N-ik-1]=\"*\"\n",
    "for ik in range(N):\n",
    "    print(''.join(arr[ik]))"
   ]
  },
  {
   "cell_type": "markdown",
   "id": "b63126a8",
   "metadata": {},
   "source": [
    "#### 2846 오르막길"
   ]
  },
  {
   "cell_type": "code",
   "execution_count": 67,
   "id": "9377700f",
   "metadata": {},
   "outputs": [
    {
     "name": "stdout",
     "output_type": "stream",
     "text": [
      "6\n",
      "10 8 8 6 4 3\n",
      "0\n"
     ]
    }
   ],
   "source": [
    "N=int(input())\n",
    "road=list(map(int,input().split()))\n",
    "temp=[road[0],road[0]]\n",
    "ans=[]\n",
    "for ik in range(1,N):\n",
    "    if road[ik-1]<road[ik]:\n",
    "        temp.append(road[ik])\n",
    "    else:\n",
    "        ans.append(temp[-1]-temp[0])\n",
    "        temp=[road[ik],road[ik]]\n",
    "ans.append(temp[-1]-temp[0])\n",
    "print(max(ans))"
   ]
  },
  {
   "cell_type": "markdown",
   "id": "333000a8",
   "metadata": {},
   "source": [
    "#### 1980 햄버거 사랑"
   ]
  },
  {
   "cell_type": "code",
   "execution_count": 92,
   "id": "440d39b2",
   "metadata": {},
   "outputs": [
    {
     "name": "stdout",
     "output_type": "stream",
     "text": [
      "3 5 8\n",
      "2 0\n"
     ]
    }
   ],
   "source": [
    "n,m,t=map(int,input().split())\n",
    "arr=[]\n",
    "N=max(n,m)\n",
    "M=min(n,m)\n",
    "for ik in range(t//N+1):\n",
    "    arr.append([(t-N*ik)%M,ik+(t-N*ik)//M])\n",
    "coke=min([arr[ik][0] for ik in range(len(arr))])\n",
    "num=[]\n",
    "for ik in range(len(arr)):\n",
    "    if arr[ik][0]==coke:\n",
    "        num.append(arr[ik][1])\n",
    "print(max(num),coke)"
   ]
  },
  {
   "cell_type": "markdown",
   "id": "c52d186d",
   "metadata": {},
   "source": [
    "#### 18221 교수님 저 취업할래요"
   ]
  },
  {
   "cell_type": "code",
   "execution_count": 95,
   "id": "de8c4528",
   "metadata": {},
   "outputs": [
    {
     "name": "stdout",
     "output_type": "stream",
     "text": [
      "10\n",
      "0 5 0 0 0 0 1 0 0 0\n",
      "0 1 0 0 0 0 1 0 0 0\n",
      "0 0 0 0 0 0 2 0 0 0\n",
      "0 0 1 1 0 0 1 0 0 0\n",
      "1 0 0 0 0 0 0 0 0 0\n",
      "0 0 1 0 1 0 0 0 0 0\n",
      "0 0 0 0 0 0 1 0 0 0\n",
      "0 0 0 0 0 0 0 0 0 0\n",
      "0 0 0 0 0 0 0 0 0 0\n",
      "0 0 0 0 0 0 0 0 0 0\n",
      "1\n"
     ]
    }
   ],
   "source": [
    "N=int(input())\n",
    "cor=[]\n",
    "for ik in range(N):\n",
    "    temp=list(map(int,input().split()))\n",
    "    cor.append(temp)\n",
    "    if 5 in temp:\n",
    "        p1=ik; p2=temp.index(5)\n",
    "    if 2 in temp:\n",
    "        s1=ik; s2=temp.index(2)\n",
    "r1=min(p1,s1); r2=max(p1,s1);\n",
    "c1=min(p2,s2); c2=max(p2,s2);\n",
    "if ((p1-s1)**2+(p2-s2)**2)>=25:\n",
    "    c=0\n",
    "    for ik in range(r1,r2+1):\n",
    "        if 1 in cor[ik][c1:c2+1]:\n",
    "            c+=cor[ik][c1:c2+1].count(1)\n",
    "    if c>=3:\n",
    "        print(1)\n",
    "    else:\n",
    "        print(0)\n",
    "else:\n",
    "    print(0)"
   ]
  },
  {
   "cell_type": "markdown",
   "id": "951f77e9",
   "metadata": {},
   "source": [
    "#### 9536 여우는 어떻게 울지?"
   ]
  },
  {
   "cell_type": "code",
   "execution_count": 103,
   "id": "724bee99",
   "metadata": {},
   "outputs": [
    {
     "name": "stdout",
     "output_type": "stream",
     "text": [
      "1\n",
      "toot woof wa ow ow ow pa blub blub pa toot pa blub pa pa ow pow toot\n",
      "dog goes woof\n",
      "fish goes blub\n",
      "elephant goes toot\n",
      "seal goes ow\n",
      "what does the fox say?\n",
      "wa pa pa pa pa pa pow "
     ]
    }
   ],
   "source": [
    "T=int(input())\n",
    "for ik in range(T):\n",
    "    sen=list(input().split())\n",
    "    animal=[]\n",
    "    while(1):\n",
    "        temp=list(input().split())\n",
    "        if temp==list(\"what does the fox say?\".split()):\n",
    "            break\n",
    "        animal.append(temp[2])\n",
    "    for it in sen:\n",
    "        if it not in animal:\n",
    "            print(it,end=' ')"
   ]
  },
  {
   "cell_type": "markdown",
   "id": "d37c34a1",
   "metadata": {},
   "source": [
    "#### 2776 암기왕"
   ]
  },
  {
   "cell_type": "code",
   "execution_count": 104,
   "id": "4bb9d3cc",
   "metadata": {},
   "outputs": [
    {
     "name": "stdout",
     "output_type": "stream",
     "text": [
      "1\n",
      "5\n",
      "4 1 5 2 3\n",
      "5\n",
      "1 3 7 9 5\n",
      "1\n",
      "1\n",
      "0\n",
      "0\n",
      "1\n"
     ]
    }
   ],
   "source": [
    "T=int(input())\n",
    "for ik in range(T):\n",
    "    N=int(input())\n",
    "    n1=set(map(int,input().split()))\n",
    "    M=int(input())\n",
    "    n2=list(map(int,input().split()))\n",
    "    for ik in n2:\n",
    "        if ik in n1:\n",
    "            print(1)\n",
    "        else:\n",
    "            print(0)"
   ]
  },
  {
   "cell_type": "markdown",
   "id": "912b2df2",
   "metadata": {},
   "source": [
    "#### 14888 연산자 끼워넣기"
   ]
  },
  {
   "cell_type": "code",
   "execution_count": null,
   "id": "df8085c2",
   "metadata": {},
   "outputs": [],
   "source": []
  },
  {
   "cell_type": "markdown",
   "id": "297adbfd",
   "metadata": {},
   "source": [
    "#### 10819 차이를 최대로"
   ]
  },
  {
   "cell_type": "code",
   "execution_count": 117,
   "id": "0e147255",
   "metadata": {},
   "outputs": [
    {
     "name": "stdout",
     "output_type": "stream",
     "text": [
      "6\n",
      "20 1 15 8 4 10\n",
      "62\n"
     ]
    }
   ],
   "source": [
    "from itertools import permutations\n",
    "def operator(a):\n",
    "    ans=0\n",
    "    for ik in range(len(a)-1):\n",
    "        ans+=abs(a[ik]-a[ik+1])\n",
    "    return ans\n",
    "N=int(input())\n",
    "arr=list(map(int,input().split()))\n",
    "per=[ik for ik in permutations(arr,N)]\n",
    "c=[]\n",
    "for ik in per:\n",
    "    c.append(operator(ik))\n",
    "print(max(c))"
   ]
  },
  {
   "cell_type": "markdown",
   "id": "fe8a52bd",
   "metadata": {},
   "source": [
    "#### 2858 기숙사 바닥"
   ]
  },
  {
   "cell_type": "code",
   "execution_count": 124,
   "id": "e5771035",
   "metadata": {},
   "outputs": [
    {
     "name": "stdout",
     "output_type": "stream",
     "text": [
      "24 24\n",
      "8 6\n"
     ]
    }
   ],
   "source": [
    "x,y=map(int,input().split())\n",
    "R=(x/2+2+((x/2+2)**2-4*(x+y))**(1/2))//2\n",
    "C=(x+y)/R\n",
    "print(int(R),int(C))"
   ]
  },
  {
   "cell_type": "markdown",
   "id": "55d195ee",
   "metadata": {},
   "source": [
    "#### 2980 도로와 신호등"
   ]
  },
  {
   "cell_type": "code",
   "execution_count": 4,
   "id": "a02d722f",
   "metadata": {},
   "outputs": [
    {
     "name": "stdout",
     "output_type": "stream",
     "text": [
      "1 1\n",
      "1 2 1\n",
      "1\n"
     ]
    }
   ],
   "source": [
    "N,L=map(int,input().split())\n",
    "t=0; r=0;\n",
    "for ik in range(N):\n",
    "    D,R,G=map(int,input().split())\n",
    "    t+=D-r;\n",
    "    if (R+G)%t<R:\n",
    "        t+=R%t\n",
    "    r=D\n",
    "t+=L-r\n",
    "print(t)"
   ]
  },
  {
   "cell_type": "code",
   "execution_count": null,
   "id": "c9b8f0a4",
   "metadata": {},
   "outputs": [],
   "source": []
  }
 ],
 "metadata": {
  "kernelspec": {
   "display_name": "Python 3 (ipykernel)",
   "language": "python",
   "name": "python3"
  },
  "language_info": {
   "codemirror_mode": {
    "name": "ipython",
    "version": 3
   },
   "file_extension": ".py",
   "mimetype": "text/x-python",
   "name": "python",
   "nbconvert_exporter": "python",
   "pygments_lexer": "ipython3",
   "version": "3.9.7"
  }
 },
 "nbformat": 4,
 "nbformat_minor": 5
}
