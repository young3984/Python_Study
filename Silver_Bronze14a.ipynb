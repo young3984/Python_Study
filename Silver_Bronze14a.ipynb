{
 "cells": [
  {
   "cell_type": "markdown",
<<<<<<< HEAD
   "id": "dd48630d",
   "metadata": {},
   "source": [
    "#### 1024 수열의 합"
=======
   "id": "9b48c6b1",
   "metadata": {},
   "source": [
    "#### 1748 수 이어 쓰기 1"
>>>>>>> be918e84e91d8ecf4655373c9e7f213de0ad711c
   ]
  },
  {
   "cell_type": "code",
<<<<<<< HEAD
   "execution_count": 54,
   "id": "736da22e",
=======
   "execution_count": 8,
   "id": "a3b7a4a0",
>>>>>>> be918e84e91d8ecf4655373c9e7f213de0ad711c
   "metadata": {},
   "outputs": [
    {
     "name": "stdout",
     "output_type": "stream",
     "text": [
<<<<<<< HEAD
      "1000000000 2\n",
      "199999998 199999999 200000000 200000001 200000002 "
=======
      "120\n",
      "252\n"
>>>>>>> be918e84e91d8ecf4655373c9e7f213de0ad711c
     ]
    }
   ],
   "source": [
<<<<<<< HEAD
    "N,L=map(int,input().split())\n",
    "for ik in range(L,101):\n",
    "    arr=[ik for ik in range(ik)]\n",
    "    C=sum(arr)\n",
    "    if N-C<0:\n",
    "        print(-1)\n",
    "        break\n",
    "    if (N-C)%ik==0:\n",
    "        for it in arr:\n",
    "            print(it+(N-C)//ik,end=' ')\n",
    "        break\n",
    "    if len(arr)==100:\n",
    "        print(-1)"
=======
    "N=int(input())\n",
    "ans=0\n",
    "C=1\n",
    "ik=1\n",
    "while(1):\n",
    "    if N<C:\n",
    "        break\n",
    "    elif (N>=C)&(N<C*10):\n",
    "        ans+=(N-C+1)*ik \n",
    "        break\n",
    "    else:\n",
    "        ans+=(10*C-C)*ik\n",
    "        ik+=1\n",
    "        C*=10\n",
    "print(ans)        "
>>>>>>> be918e84e91d8ecf4655373c9e7f213de0ad711c
   ]
  },
  {
   "cell_type": "markdown",
<<<<<<< HEAD
   "id": "86b6cce7",
   "metadata": {},
   "source": [
    "#### 1500 최대 곱"
=======
   "id": "44e3f590",
   "metadata": {},
   "source": [
    "#### 1758 알바생 강호"
>>>>>>> be918e84e91d8ecf4655373c9e7f213de0ad711c
   ]
  },
  {
   "cell_type": "code",
<<<<<<< HEAD
   "execution_count": 62,
   "id": "a3def85c",
   "metadata": {},
   "outputs": [
    {
     "name": "stdout",
     "output_type": "stream",
     "text": [
      "7 2\n",
      "12\n"
     ]
    }
   ],
   "source": [
    "S,K=map(int,input().split())\n",
    "arr=[S//K]*K\n",
    "n=S%K\n",
    "for ik in range(n):\n",
    "    arr[ik]+=1\n",
    "ans=1\n",
    "for ik in arr:\n",
    "    ans*=ik\n",
    "print(ans)"
   ]
  },
  {
   "cell_type": "markdown",
   "id": "dee1334c",
   "metadata": {},
   "source": [
    "#### 16439 치킨치킨치킨"
   ]
  },
  {
   "cell_type": "code",
   "execution_count": 9,
   "id": "39909d46",
   "metadata": {},
   "outputs": [
    {
     "name": "stdout",
     "output_type": "stream",
     "text": [
      "4 6\n",
      "1 2 3 4 5 6\n",
      "6 5 4 3 2 1\n",
      "3 2 7 9 2 5\n",
      "4 5 6 3 2 1\n",
      "25\n"
     ]
    }
   ],
   "source": [
    "from itertools import combinations\n",
    "N,M=map(int,input().split())\n",
    "arr=[]\n",
    "K=[ik+1 for ik in range(M)]\n",
    "for ik in range(N):\n",
    "    T=list(map(int,input().split()))\n",
    "    arr.append(T)\n",
    "ans=[]\n",
    "k=list(combinations(K,3))\n",
    "for ik in k:\n",
    "    t=0\n",
    "    a=ik[0]\n",
    "    b=ik[1]\n",
    "    c=ik[2]\n",
    "    for it in range(N):\n",
    "        t+=max(arr[it][a-1],arr[it][b-1],arr[it][c-1])\n",
    "    ans.append(t)\n",
    "print(max(ans))"
   ]
  },
  {
   "cell_type": "markdown",
   "id": "007fcf17",
   "metadata": {},
   "source": [
    "#### 14225 부분수열의 합"
   ]
  },
  {
   "cell_type": "code",
   "execution_count": 14,
   "id": "fd2b1a4d",
=======
   "execution_count": 27,
   "id": "b7677acf",
>>>>>>> be918e84e91d8ecf4655373c9e7f213de0ad711c
   "metadata": {},
   "outputs": [
    {
     "name": "stdout",
     "output_type": "stream",
     "text": [
      "4\n",
<<<<<<< HEAD
      "2 1 2 7\n",
=======
      "3\n",
      "3\n",
      "3\n",
      "3\n",
>>>>>>> be918e84e91d8ecf4655373c9e7f213de0ad711c
      "6\n"
     ]
    }
   ],
   "source": [
<<<<<<< HEAD
    "from itertools import combinations\n",
    "N=int(input())\n",
    "S=list(map(int,input().split()))\n",
    "arr=[]\n",
    "for ik in range(1,N+1):\n",
    "    k=list(set(list(combinations(S,ik))))\n",
    "    for it in k:\n",
    "        arr.append(sum(list(it)))\n",
    "arr=list(set(arr))\n",
    "arr.sort()\n",
    "arr.append(0)\n",
    "it=1\n",
    "for ik in arr:\n",
    "    if ik!=it:\n",
    "        print(it)\n",
    "        break\n",
    "    else:\n",
    "        it+=1"
=======
    "N=int(input())\n",
    "arr=[]\n",
    "ans=0\n",
    "for ik in range(N):\n",
    "    arr.append(int(input()))\n",
    "arr.sort(reverse=1)\n",
    "for ik in range(N):\n",
    "    if (arr[ik]-ik)>0:\n",
    "        ans+=arr[ik]-ik\n",
    "    else:\n",
    "        break    \n",
    "print(ans)    "
   ]
  },
  {
   "cell_type": "markdown",
   "id": "de1055f0",
   "metadata": {},
   "source": [
    "#### 2331 반복수열"
   ]
  },
  {
   "cell_type": "code",
   "execution_count": 38,
   "id": "3b055030",
   "metadata": {},
   "outputs": [
    {
     "name": "stdout",
     "output_type": "stream",
     "text": [
      "57 2\n",
      "4\n"
     ]
    }
   ],
   "source": [
    "A,P=map(int,input().split())\n",
    "arr=[A]\n",
    "while(1):\n",
    "    t=str(arr[-1])\n",
    "    T=0\n",
    "    for ik in t:\n",
    "        T+=int(ik)**P        \n",
    "    if T in arr:\n",
    "        break\n",
    "    else:\n",
    "        arr.append(T)\n",
    "print(arr.index(T))"
>>>>>>> be918e84e91d8ecf4655373c9e7f213de0ad711c
   ]
  },
  {
   "cell_type": "markdown",
<<<<<<< HEAD
   "id": "9cb8ce1a",
   "metadata": {},
   "source": [
    "#### 19698 헛간 청약"
=======
   "id": "6fce7c22",
   "metadata": {},
   "source": [
    "#### 1225 곱셈"
>>>>>>> be918e84e91d8ecf4655373c9e7f213de0ad711c
   ]
  },
  {
   "cell_type": "code",
<<<<<<< HEAD
   "execution_count": 15,
   "id": "a4a7789c",
=======
   "execution_count": 41,
   "id": "7ac94cce",
>>>>>>> be918e84e91d8ecf4655373c9e7f213de0ad711c
   "metadata": {},
   "outputs": [
    {
     "name": "stdout",
     "output_type": "stream",
     "text": [
<<<<<<< HEAD
      "7 17 11 5\n",
      "6\n"
=======
      "123 45\n",
      "54\n"
>>>>>>> be918e84e91d8ecf4655373c9e7f213de0ad711c
     ]
    }
   ],
   "source": [
<<<<<<< HEAD
    "N,W,H,L=map(int,input().split())\n",
    "print(min(N,(W//L)*(H//L)))"
=======
    "A,B=input().split()\n",
    "ans=0\n",
    "t=sum(map(int,list(B)))\n",
    "for ik in A:\n",
    "    ans+=t*int(ik)\n",
    "print(ans)"
>>>>>>> be918e84e91d8ecf4655373c9e7f213de0ad711c
   ]
  },
  {
   "cell_type": "markdown",
<<<<<<< HEAD
   "id": "4db8031b",
   "metadata": {},
   "source": [
    "#### 2023 반올림"
=======
   "id": "38cc72da",
   "metadata": {},
   "source": [
    "#### 1268 임시 반장 정하기"
>>>>>>> be918e84e91d8ecf4655373c9e7f213de0ad711c
   ]
  },
  {
   "cell_type": "code",
<<<<<<< HEAD
   "execution_count": 29,
   "id": "031aff87",
=======
   "execution_count": 77,
   "id": "5650472b",
>>>>>>> be918e84e91d8ecf4655373c9e7f213de0ad711c
   "metadata": {},
   "outputs": [
    {
     "name": "stdout",
     "output_type": "stream",
     "text": [
<<<<<<< HEAD
      "446\n",
=======
      "5\n",
      "1 1 1 1 1\n",
      "1 1 1 1 1\n",
      "1 3 4 5 5\n",
      "3 3 3 3 3\n",
      "4 4 4 4 4\n",
      "3\n"
     ]
    }
   ],
   "source": [
    "N=int(input())\n",
    "arr=[]\n",
    "ans=[]\n",
    "for ik in range(N):\n",
    "    arr.append(list(map(int,input().split())))\n",
    "for ik in range(N):\n",
    "    C=[]\n",
    "    for it in range(5):\n",
    "        for iu in range(N):\n",
    "            if arr[ik][it]==arr[iu][it]:\n",
    "                C.append(iu)\n",
    "    ans.append(len(set(C)))\n",
    "print(ans.index(max(ans))+1)"
   ]
  },
  {
   "cell_type": "markdown",
   "id": "63354b6e",
   "metadata": {},
   "source": [
    "#### 1531 투명"
   ]
  },
  {
   "cell_type": "code",
   "execution_count": 81,
   "id": "5147befe",
   "metadata": {},
   "outputs": [
    {
     "name": "stdout",
     "output_type": "stream",
     "text": [
      "3 1\n",
      "21 21 80 80\n",
      "41 41 60 60\n",
      "71 71 90 90\n",
>>>>>>> be918e84e91d8ecf4655373c9e7f213de0ad711c
      "500\n"
     ]
    }
   ],
   "source": [
<<<<<<< HEAD
    "N=list(map(int,list(input())))\n",
    "for ik in range(-1,-len(N),-1):\n",
    "    if N[ik]>=5:\n",
    "        N[ik-1]+=1\n",
    "print(N[0]*(10**(len(N)-1)))"
=======
    "N,M=map(int,input().split())\n",
    "P=[[0]*100 for ik in range(100)]\n",
    "arr=[]\n",
    "ans=0\n",
    "for ik in range(N):\n",
    "    a,b,c,d=map(int,input().split())\n",
    "    for it in range(a-1,c):\n",
    "        for iu in range(b-1,d):\n",
    "            P[it][iu]+=1\n",
    "for ik in range(100):\n",
    "    for it in range(100):\n",
    "        if P[ik][it]>M:\n",
    "            ans+=1\n",
    "print(ans)"
>>>>>>> be918e84e91d8ecf4655373c9e7f213de0ad711c
   ]
  },
  {
   "cell_type": "markdown",
<<<<<<< HEAD
   "id": "78ba3829",
   "metadata": {},
   "source": [
    "#### 2993 세 부분"
=======
   "id": "467043b7",
   "metadata": {},
   "source": [
    "#### 1652 누울 자리를 찾아라"
>>>>>>> be918e84e91d8ecf4655373c9e7f213de0ad711c
   ]
  },
  {
   "cell_type": "code",
<<<<<<< HEAD
   "execution_count": 30,
   "id": "7198ed09",
=======
   "execution_count": 14,
   "id": "4d21564d",
>>>>>>> be918e84e91d8ecf4655373c9e7f213de0ad711c
   "metadata": {},
   "outputs": [
    {
     "name": "stdout",
     "output_type": "stream",
     "text": [
<<<<<<< HEAD
      "dcbagfekjih\n",
      "abcdefghijk\n"
=======
      "5\n",
      "....X\n",
      "..XX.\n",
      ".....\n",
      ".XX..\n",
      "X....\n",
      "5 4\n"
     ]
    }
   ],
   "source": [
    "N=int(input())\n",
    "arr=[]\n",
    "for ik in range(N):\n",
    "    arr.append(list(input()))\n",
    "R=0\n",
    "for ik in range(N):\n",
    "    c=0\n",
    "    for it in range(N):\n",
    "        if arr[ik][it]=='X':\n",
    "            if c>=2:\n",
    "                R+=1\n",
    "            c=0\n",
    "        else:\n",
    "            c+=1\n",
    "    if c>=2:\n",
    "        R+=1\n",
    "C=0\n",
    "for ik in range(N):\n",
    "    c=0\n",
    "    for it in range(N):\n",
    "        if arr[it][ik]=='X':\n",
    "            if c>=2:\n",
    "                C+=1\n",
    "            c=0\n",
    "        else:\n",
    "            c+=1\n",
    "    if c>=2:\n",
    "        C+=1\n",
    "print(R,C)"
   ]
  },
  {
   "cell_type": "markdown",
   "id": "ac5f1d18",
   "metadata": {},
   "source": [
    "#### 13241 최소공배수"
   ]
  },
  {
   "cell_type": "code",
   "execution_count": 22,
   "id": "d7b285af",
   "metadata": {},
   "outputs": [
    {
     "name": "stdout",
     "output_type": "stream",
     "text": [
      "6 15\n",
      "30\n"
     ]
    }
   ],
   "source": [
    "A,B=map(int,input().split())\n",
    "a=max(A,B)\n",
    "b=min(A,B)\n",
    "while(1):\n",
    "    if a%b==0:\n",
    "        break\n",
    "    c=a%b\n",
    "    a=b\n",
    "    b=c\n",
    "print((A*B)//b)"
   ]
  },
  {
   "cell_type": "markdown",
   "id": "8ed42bb1",
   "metadata": {},
   "source": [
    "#### 1233 주사위"
   ]
  },
  {
   "cell_type": "code",
   "execution_count": 26,
   "id": "2b23c548",
   "metadata": {},
   "outputs": [
    {
     "name": "stdout",
     "output_type": "stream",
     "text": [
      "3 2 3\n",
      "5\n"
     ]
    }
   ],
   "source": [
    "A,B,C=map(int,input().split())\n",
    "c=[0]*80\n",
    "for ik in range(A):\n",
    "    for it in range(B):\n",
    "        for iu in range(C):\n",
    "            c[ik+it+iu+3-1]+=1\n",
    "print(c.index(max(c))+1)"
   ]
  },
  {
   "cell_type": "markdown",
   "id": "acfeeaa3",
   "metadata": {},
   "source": [
    "#### 1393 음하철도 구구팔"
   ]
  },
  {
   "cell_type": "code",
   "execution_count": 39,
   "id": "6d309a73",
   "metadata": {},
   "outputs": [
    {
     "name": "stdout",
     "output_type": "stream",
     "text": [
      "5 2 \n",
      "1 2 1 2 \n",
      "2 4\n"
     ]
    }
   ],
   "source": [
    "x,y=map(int,input().split())\n",
    "X,Y,A,B=map(int,input().split())\n",
    "a=max(abs(A),abs(B))\n",
    "b=min(abs(B),abs(A))\n",
    "if b!=0:    \n",
    "    while(1):\n",
    "        if a%b==0:\n",
    "            break\n",
    "        c=a%b\n",
    "        a=b\n",
    "        b=c\n",
    "    A=A//b\n",
    "    B=B//b\n",
    "else:\n",
    "    A=A//max(A,B)\n",
    "    B=B//max(A,B)\n",
    "ik=0\n",
    "bb=1000000000\n",
    "while(1):\n",
    "    t=(x-(X+ik*A))**2+(y-(Y+ik*B))**2\n",
    "    if t>bb:\n",
    "        break\n",
    "    else:\n",
    "        bb=t\n",
    "        ik+=1\n",
    "print(X+(ik-1)*A,Y+(ik-1)*B)   "
   ]
  },
  {
   "cell_type": "markdown",
   "id": "896547c2",
   "metadata": {},
   "source": [
    "#### 1251 단어 나누기"
   ]
  },
  {
   "cell_type": "code",
   "execution_count": 120,
   "id": "9e4a44a8",
   "metadata": {},
   "outputs": [
    {
     "name": "stdout",
     "output_type": "stream",
     "text": [
      "mobitel\n",
      "bometil\n"
>>>>>>> be918e84e91d8ecf4655373c9e7f213de0ad711c
     ]
    }
   ],
   "source": [
    "S=list(input())\n",
    "N=len(S)\n",
    "arr=[]\n",
    "for ik in range(1,N-2):\n",
    "    for it in range(ik,N-1):\n",
    "        t=''\n",
    "        a=list(reversed(S[:ik]))\n",
    "        b=list(reversed(S[ik:it+1]))\n",
    "        c=list(reversed(S[it+1:]))\n",
    "        t=t+''.join(a)+''.join(b)+''.join(c)\n",
    "        arr.append(t)\n",
    "arr.sort()\n",
    "print(arr[0])"
   ]
  },
  {
   "cell_type": "markdown",
<<<<<<< HEAD
   "id": "3ac05dac",
   "metadata": {},
   "source": [
    "#### 4447 좋은놈 나쁜놈"
=======
   "id": "ac9d849c",
   "metadata": {},
   "source": [
    "#### 1676 팩토리얼 0의 개수"
>>>>>>> be918e84e91d8ecf4655373c9e7f213de0ad711c
   ]
  },
  {
   "cell_type": "code",
<<<<<<< HEAD
   "execution_count": 35,
   "id": "fafb85ee",
=======
   "execution_count": 5,
   "id": "6e651bd0",
>>>>>>> be918e84e91d8ecf4655373c9e7f213de0ad711c
   "metadata": {},
   "outputs": [
    {
     "name": "stdout",
     "output_type": "stream",
     "text": [
      "3\n",
<<<<<<< HEAD
      "Algorithm Crunching Man\n",
      "Algorithm Crunching Man is GOOD\n",
      "Superman\n",
      "Superman is NEUTRAL\n",
      "Batman\n",
      "Batman is A BADDY\n"
=======
      "0\n"
>>>>>>> be918e84e91d8ecf4655373c9e7f213de0ad711c
     ]
    }
   ],
   "source": [
    "N=int(input())\n",
<<<<<<< HEAD
    "for ik in range(N):\n",
    "    name=input()\n",
    "    g=name.count('g')+name.count('G')\n",
    "    b=name.count('b')+name.count('B')\n",
    "    if g>b:\n",
    "        print(name+' is GOOD')\n",
    "    elif g<b:\n",
    "        print(name+' is A BADDY')\n",
    "    else:\n",
    "        print(name+\" is NEUTRAL\")"
   ]
  },
  {
   "cell_type": "markdown",
   "id": "c1af3b27",
   "metadata": {},
   "source": [
    "#### 14490 백대열"
   ]
  },
  {
   "cell_type": "code",
   "execution_count": 1,
   "id": "0b60477b",
   "metadata": {},
   "outputs": [
    {
     "name": "stdout",
     "output_type": "stream",
     "text": [
      "100:10\n",
      "10:1\n"
     ]
    }
   ],
   "source": [
    "n,m=map(int,input().split(':'))\n",
    "a=max(n,m)\n",
    "b=min(n,m)\n",
    "while(1):\n",
    "    if a%b==0:\n",
    "        break\n",
    "    c=a%b\n",
    "    a=b\n",
    "    b=c\n",
    "print(\"%d:%d\"%(n//b,m//b))"
   ]
  },
  {
   "cell_type": "markdown",
   "id": "ba941209",
   "metadata": {},
   "source": [
    "#### 1380 귀걸이"
   ]
  },
  {
   "cell_type": "code",
   "execution_count": 14,
   "id": "1a76485a",
   "metadata": {},
   "outputs": [
    {
     "name": "stdout",
     "output_type": "stream",
     "text": [
      "2\n",
      "al\n",
      "b\n",
      "1 b\n",
      "1 b\n",
      "2 a\n",
      "1 b\n",
      "0\n"
     ]
    }
   ],
   "source": [
    "T=0\n",
    "while(1):\n",
    "    T+=1\n",
    "    N=int(input())\n",
    "    if N==0:\n",
    "        break\n",
    "    name=[]\n",
    "    for ik in range(N):\n",
    "        name.append(input())\n",
    "    ans=[]\n",
    "    for ik in range(2*N-1):\n",
    "        n,p=input().split()\n",
    "        n=int(n)\n",
    "        if name[n-1] in ans:\n",
    "            ans.remove(name[n-1])\n",
    "        else:\n",
    "            ans.append(name[n-1])\n",
    "    print(T,ans[0])"
=======
    "n=0\n",
    "for ik in range(1,N+1):\n",
    "    m=ik\n",
    "    while(1):\n",
    "        if m%5==0:\n",
    "            n+=1\n",
    "            m=m//5\n",
    "        else:\n",
    "            break\n",
    "print(n)"
>>>>>>> be918e84e91d8ecf4655373c9e7f213de0ad711c
   ]
  },
  {
   "cell_type": "markdown",
<<<<<<< HEAD
   "id": "00310f30",
   "metadata": {},
   "source": [
    "#### 1284  집주소"
   ]
  },
  {
   "cell_type": "code",
   "execution_count": 21,
   "id": "04fd2787",
   "metadata": {},
   "outputs": [
    {
     "name": "stdout",
     "output_type": "stream",
     "text": [
      "120\n",
      "13\n",
      "5611\n",
      "15\n",
      "100\n",
      "14\n",
      "0\n"
     ]
    }
   ],
   "source": [
    "while(1):\n",
    "    N=input()\n",
    "    if N=='0':\n",
    "        break\n",
    "    ans=len(N)*3\n",
    "    if '1' in N:\n",
    "        ans-=N.count('1')\n",
    "    if '0' in N:\n",
    "        ans+=N.count('0')\n",
    "    ans+=len(N)+1\n",
    "    print(ans)"
   ]
  },
  {
   "cell_type": "markdown",
   "id": "83eed183",
   "metadata": {},
   "source": [
    "#### 1212 8진수 2진수"
   ]
  },
  {
   "cell_type": "code",
   "execution_count": 27,
   "id": "46bfec1f",
   "metadata": {},
   "outputs": [
    {
     "name": "stdout",
     "output_type": "stream",
     "text": [
      "3333334\n",
      "11011011011011011100\n"
     ]
    }
   ],
   "source": [
    "E=input()\n",
    "T=int(E,8)\n",
    "b=bin(T)\n",
    "print(b[2:])"
   ]
  },
  {
   "cell_type": "markdown",
   "id": "712ae72c",
   "metadata": {},
   "source": [
    "#### 1049 기타줄"
   ]
  },
  {
   "cell_type": "code",
   "execution_count": 36,
   "id": "ba77cc8e",
   "metadata": {},
   "outputs": [
    {
     "name": "stdout",
     "output_type": "stream",
     "text": [
      "9 16\n",
      "21 25\n",
      "77 23\n",
      "23 88\n",
      "95 43\n",
      "96 19\n",
      "59 36\n",
      "80 13\n",
      "51 24\n",
      "15 8\n",
      "25 61\n",
      "21 22\n",
      "3 9\n",
      "68 68\n",
      "67 100\n",
      "83 98\n",
      "96 57\n",
      "6\n"
     ]
    }
   ],
   "source": [
    "N,M=map(int,input().split())\n",
    "a=1000\n",
    "b=1000\n",
    "for ik in range(M):\n",
    "    A,B=map(int,input().split())\n",
    "    if A<a:\n",
    "        a=A\n",
    "    if B<b:\n",
    "        b=B\n",
    "arr=[N*b]\n",
    "if N%6==0:\n",
    "    arr.append((N//6)*a)\n",
    "else:\n",
    "    arr.append((N//6+1)*a)\n",
    "    arr.append((N//6)*a+(N%6)*b)\n",
    "print(min(arr))"
   ]
  },
  {
   "cell_type": "markdown",
   "id": "5221547c",
   "metadata": {},
   "source": [
    "#### 17413 단어 뒤집기 2"
   ]
  },
  {
   "cell_type": "code",
   "execution_count": 63,
   "id": "9b16908c",
   "metadata": {},
   "outputs": [
    {
     "name": "stdout",
     "output_type": "stream",
     "text": [
      "<   space   >ecaps ecaps ecaps<    spa   c e>\n",
      "<   space   >space space space<    spa   c e>"
     ]
    }
   ],
   "source": [
    "S=input()\n",
    "arr=[]\n",
    "while(1):\n",
    "    if '<' in S:\n",
    "        arr.append(S[:S.index('<')])\n",
    "        arr.append(S[S.index('<'):S.index('>')+1])\n",
    "        S=S[S.index('>')+1:]\n",
    "    else:\n",
    "        arr.append(S)\n",
    "        break\n",
    "for ik in arr:\n",
    "    if '<' in ik:\n",
    "        print(ik,end='')\n",
    "    else:\n",
    "        t=list(ik.split())\n",
    "        T=''\n",
    "        for it in t:\n",
    "            T+=' '+''.join(list(reversed(it)))\n",
    "        print(T[1:],end='')"
   ]
  },
  {
   "cell_type": "markdown",
   "id": "fc225255",
   "metadata": {},
   "source": [
    "#### 14912 숫자 빈도수"
   ]
  },
  {
   "cell_type": "code",
   "execution_count": 66,
   "id": "d4383284",
   "metadata": {},
   "outputs": [
    {
     "name": "stdout",
     "output_type": "stream",
     "text": [
      "100000 6\n",
      "50000\n"
     ]
    }
   ],
   "source": [
    "n,d=map(int,input().split())\n",
    "ans=0\n",
    "for ik in range(1,n+1):\n",
    "    s=str(ik)\n",
    "    ans+=s.count(str(d))\n",
    "print(ans)"
   ]
  },
  {
   "cell_type": "markdown",
   "id": "50ff8e9c",
   "metadata": {},
   "source": [
    "#### 15954 인형들"
   ]
  },
  {
   "cell_type": "code",
   "execution_count": 99,
   "id": "239b98ed",
   "metadata": {},
   "outputs": [
    {
     "name": "stdout",
     "output_type": "stream",
     "text": [
      "5 3\n",
      "1 2 3 4 5\n",
      "[1, 2, 3]\n",
      "[2, 3, 4]\n",
      "[3, 4, 5]\n",
      "[1, 2, 3, 4]\n",
      "[2, 3, 4, 5]\n",
      "[1, 2, 3, 4, 5]\n",
      "0.816496580927726\n"
     ]
    }
   ],
   "source": [
    "N,K=map(int,input().split())\n",
    "arr=list(map(int,input().split()))\n",
    "ans=[]\n",
    "for ij in range(K,N+1):\n",
    "    for ik in range(N-ij+1):\n",
    "        A=arr[ik:ik+ij]\n",
    "        m=sum(A)/ij\n",
    "        d=0\n",
    "        for it in range(ij):\n",
    "            d+=((A[it]-m)**2)/ij\n",
    "        ans.append(d**(1/2))\n",
    "print(min(ans))"
=======
   "id": "e9c755f8",
   "metadata": {},
   "source": [
    "#### 25193 곰곰이의 식단 관리"
>>>>>>> be918e84e91d8ecf4655373c9e7f213de0ad711c
   ]
  },
  {
   "cell_type": "code",
   "execution_count": null,
<<<<<<< HEAD
   "id": "42a85b87",
   "metadata": {},
   "outputs": [],
   "source": []
=======
   "id": "366d3eee",
   "metadata": {},
   "outputs": [],
   "source": [
    "N=int(input())\n"
   ]
>>>>>>> be918e84e91d8ecf4655373c9e7f213de0ad711c
  }
 ],
 "metadata": {
  "kernelspec": {
   "display_name": "Python 3 (ipykernel)",
   "language": "python",
   "name": "python3"
  },
  "language_info": {
   "codemirror_mode": {
    "name": "ipython",
    "version": 3
   },
   "file_extension": ".py",
   "mimetype": "text/x-python",
   "name": "python",
   "nbconvert_exporter": "python",
   "pygments_lexer": "ipython3",
   "version": "3.9.7"
  }
 },
 "nbformat": 4,
 "nbformat_minor": 5
}
