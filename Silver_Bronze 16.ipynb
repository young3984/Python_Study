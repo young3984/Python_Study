{
 "cells": [
  {
   "cell_type": "markdown",
   "id": "9dd089d6",
   "metadata": {},
   "source": [
    "## Silver_Bronze 16"
   ]
  },
  {
   "cell_type": "markdown",
   "id": "d464673a",
   "metadata": {},
   "source": [
    "#### 14241 슬라임 합치기"
   ]
  },
  {
   "cell_type": "code",
   "execution_count": 5,
   "id": "4618b8dd",
   "metadata": {},
   "outputs": [
    {
     "name": "stdout",
     "output_type": "stream",
     "text": [
      "3\n",
      "3 1 2\n",
      "11\n"
     ]
    }
   ],
   "source": [
    "N=int(input())\n",
    "S=list(map(int,input().split()))\n",
    "ans=0\n",
    "for ik in range(N-1):\n",
    "    for it in range(ik+1,N):\n",
    "        ans+=S[ik]*S[it]\n",
    "print(ans)"
   ]
  },
  {
   "cell_type": "markdown",
   "id": "958d8a5e",
   "metadata": {},
   "source": [
    "#### 1599 민식어"
   ]
  },
  {
   "cell_type": "code",
   "execution_count": null,
   "id": "dc66b65b",
   "metadata": {},
   "outputs": [],
   "source": [
    "m=['a','b,','k','d','e','g','h','i','l','m','n','ng','o','p','r','s','t','u','w','y']\n",
    "N=int(input())\n",
    "word=[]\n",
    "for ik in range(N):\n",
    "    "
   ]
  }
 ],
 "metadata": {
  "kernelspec": {
   "display_name": "Python 3 (ipykernel)",
   "language": "python",
   "name": "python3"
  },
  "language_info": {
   "codemirror_mode": {
    "name": "ipython",
    "version": 3
   },
   "file_extension": ".py",
   "mimetype": "text/x-python",
   "name": "python",
   "nbconvert_exporter": "python",
   "pygments_lexer": "ipython3",
   "version": "3.9.7"
  }
 },
 "nbformat": 4,
 "nbformat_minor": 5
}
