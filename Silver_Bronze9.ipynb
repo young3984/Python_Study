{
 "cells": [
  {
   "cell_type": "markdown",
   "id": "649c01ba",
   "metadata": {},
   "source": [
    "#### 10769 행복한지 슬픈지"
   ]
  },
  {
   "cell_type": "code",
   "execution_count": 4,
   "id": "864c72c0",
   "metadata": {},
   "outputs": [
    {
     "name": "stdout",
     "output_type": "stream",
     "text": [
      "This:-(is str:-(:-(ange te:-)xt.\n",
      "unhappy\n"
     ]
    }
   ],
   "source": [
    "sen=input()\n",
    "h=sen.count(\":-)\")\n",
    "uh=sen.count(\":-(\")\n",
    "if h>uh:\n",
    "    print(\"happy\")\n",
    "elif h<uh:\n",
    "    print(\"sad\")\n",
    "elif (h==0)&(uh==0):\n",
    "    print(\"none\")\n",
    "else:\n",
    "    print(\"unsure\")"
   ]
  },
  {
   "cell_type": "markdown",
   "id": "180041ac",
   "metadata": {},
   "source": [
    "#### 2870 수학숙제"
   ]
  },
  {
   "cell_type": "code",
   "execution_count": 18,
   "id": "1d67a2d1",
   "metadata": {},
   "outputs": [
    {
     "name": "stdout",
     "output_type": "stream",
     "text": [
      "4\n",
      "01bond\n",
      "02james007\n",
      "03bond\n",
      "04austinpowers000\n",
      "0\n",
      "1\n",
      "2\n",
      "3\n",
      "4\n",
      "7\n"
     ]
    }
   ],
   "source": [
    "N=int(input())\n",
    "num=[]\n",
    "for ik in range(N):\n",
    "    sen=input()\n",
    "    for it in range(97,123):\n",
    "        if chr(it) in sen:\n",
    "            sen=sen.replace(chr(it),' ')\n",
    "    num.extend(sen.split())\n",
    "num=list(map(int,num))\n",
    "num.sort()\n",
    "for ik in num:\n",
    "    print(ik)"
   ]
  },
  {
   "cell_type": "markdown",
   "id": "579e2167",
   "metadata": {},
   "source": [
    "#### 4108 지뢰찾기"
   ]
  },
  {
   "cell_type": "code",
   "execution_count": 18,
   "id": "0f6977ea",
   "metadata": {},
   "outputs": [
    {
     "name": "stdout",
     "output_type": "stream",
     "text": [
      "3 2\n",
      "..\n",
      ".*\n",
      "..\n",
      "11\n",
      "1*\n",
      "11\n",
      "5 5\n",
      "*.*.*\n",
      "..*..\n",
      "*****\n",
      ".....\n",
      "..**.\n",
      "*3*3*\n",
      "36*63\n",
      "*****\n",
      "24553\n",
      "01**1\n",
      "0 0\n"
     ]
    }
   ],
   "source": [
    "while(1):\n",
    "    R,C=map(int,input().split())\n",
    "    if R+C==0:\n",
    "        break\n",
    "    ans=[[0]*C for ik in range(R)]\n",
    "    row=[ik for ik in range(R)]\n",
    "    col=[ik for ik in range(C)]\n",
    "    infor=[]\n",
    "    for ik in range(R):\n",
    "        infor.append(list(input()))\n",
    "\n",
    "    for ik in range(R):\n",
    "        for it in range(C):\n",
    "            if infor[ik][it]=='*':\n",
    "                for iu in range(ik-1,ik+2):\n",
    "                    for ij in range(it-1,it+2):\n",
    "                        if (iu in row)&(ij in col):\n",
    "                            ans[iu][ij]+=1\n",
    "    for ik in range(R):\n",
    "        for it in range(C):\n",
    "            if infor[ik][it]==\"*\":\n",
    "                ans[ik][it]=\"*\"\n",
    "    for ik in range(R):\n",
    "        p=list(map(str,ans[ik]))\n",
    "        print(''.join(p))"
   ]
  },
  {
   "cell_type": "markdown",
   "id": "60c5d719",
   "metadata": {},
   "source": [
    "#### 11637 인기투표"
   ]
  },
  {
   "cell_type": "code",
   "execution_count": 2,
   "id": "7aa061cc",
   "metadata": {},
   "outputs": [
    {
     "name": "stdout",
     "output_type": "stream",
     "text": [
      "4\n",
      "3\n",
      "10\n",
      "21\n",
      "10\n",
      "majority winner 2\n",
      "3\n",
      "20\n",
      "10\n",
      "3\n",
      "majority winner 1\n",
      "3\n",
      "20\n",
      "10\n",
      "10\n",
      "minority winner 1\n",
      "3\n",
      "10\n",
      "10\n",
      "10\n",
      "no winner\n"
     ]
    }
   ],
   "source": [
    "T=int(input())\n",
    "for ik in range(T):\n",
    "    n=int(input())\n",
    "    vote=[]\n",
    "    for it in range(n):\n",
    "        vote.append(int(input()))\n",
    "    if (vote.count(max(vote))!=1):\n",
    "        print('no winner')\n",
    "    elif max(vote)>(sum(vote)/2):\n",
    "        print('majority winner',vote.index(max(vote))+1)\n",
    "    else:\n",
    "        print('minority winner',vote.index(max(vote))+1)"
   ]
  },
  {
   "cell_type": "markdown",
   "id": "24b70b2a",
   "metadata": {},
   "source": [
    "#### 1205 등수구하기"
   ]
  },
  {
   "cell_type": "code",
   "execution_count": null,
   "id": "615366db",
   "metadata": {},
   "outputs": [],
   "source": []
  }
 ],
 "metadata": {
  "kernelspec": {
   "display_name": "Python 3 (ipykernel)",
   "language": "python",
   "name": "python3"
  },
  "language_info": {
   "codemirror_mode": {
    "name": "ipython",
    "version": 3
   },
   "file_extension": ".py",
   "mimetype": "text/x-python",
   "name": "python",
   "nbconvert_exporter": "python",
   "pygments_lexer": "ipython3",
   "version": "3.9.7"
  }
 },
 "nbformat": 4,
 "nbformat_minor": 5
}
