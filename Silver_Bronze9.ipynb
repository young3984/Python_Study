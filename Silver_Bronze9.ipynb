{
 "cells": [
  {
   "cell_type": "markdown",
   "id": "649c01ba",
   "metadata": {},
   "source": [
    "#### 10769 행복한지 슬픈지"
   ]
  },
  {
   "cell_type": "code",
   "execution_count": 4,
   "id": "864c72c0",
   "metadata": {},
   "outputs": [
    {
     "name": "stdout",
     "output_type": "stream",
     "text": [
      "This:-(is str:-(:-(ange te:-)xt.\n",
      "unhappy\n"
     ]
    }
   ],
   "source": [
    "sen=input()\n",
    "h=sen.count(\":-)\")\n",
    "uh=sen.count(\":-(\")\n",
    "if h>uh:\n",
    "    print(\"happy\")\n",
    "elif h<uh:\n",
    "    print(\"sad\")\n",
    "elif (h==0)&(uh==0):\n",
    "    print(\"none\")\n",
    "else:\n",
    "    print(\"unsure\")"
   ]
  },
  {
   "cell_type": "markdown",
   "id": "180041ac",
   "metadata": {},
   "source": [
    "#### 2870 수학숙제"
   ]
  },
  {
   "cell_type": "markdown",
   "id": "0976d884",
   "metadata": {},
   "source": [
    "#### 4108 지뢰찾기"
   ]
  },
  {
   "cell_type": "code",
   "execution_count": null,
   "id": "3f3acdf5",
   "metadata": {},
   "outputs": [],
   "source": []
  }
 ],
 "metadata": {
  "kernelspec": {
   "display_name": "Python 3 (ipykernel)",
   "language": "python",
   "name": "python3"
  },
  "language_info": {
   "codemirror_mode": {
    "name": "ipython",
    "version": 3
   },
   "file_extension": ".py",
   "mimetype": "text/x-python",
   "name": "python",
   "nbconvert_exporter": "python",
   "pygments_lexer": "ipython3",
   "version": "3.9.7"
  }
 },
 "nbformat": 4,
 "nbformat_minor": 5
}
