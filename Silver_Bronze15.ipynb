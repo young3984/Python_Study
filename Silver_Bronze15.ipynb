{
 "cells": [
  {
   "cell_type": "markdown",
   "id": "47f1ed01",
   "metadata": {},
   "source": [
    "## Silver_Bronze15"
   ]
  },
  {
   "cell_type": "markdown",
   "id": "bd3ca29f",
   "metadata": {},
   "source": [
    "#### 12781 무한 문자열"
   ]
  },
  {
   "cell_type": "code",
   "execution_count": 29,
   "id": "96f81034",
   "metadata": {},
   "outputs": [
    {
     "name": "stdout",
     "output_type": "stream",
     "text": [
      "ab\n",
      "abab\n",
      "1\n"
     ]
    }
   ],
   "source": [
    "s=input()\n",
    "t=input()\n",
    "a=s*len(t)\n",
    "b=t*len(s)\n",
    "if a==b:\n",
    "    print(1)\n",
    "else:\n",
    "    print(0)"
   ]
  },
  {
   "cell_type": "markdown",
   "id": "485570e6",
   "metadata": {},
   "source": [
    "#### 10384 팬그램"
   ]
  },
  {
   "cell_type": "code",
   "execution_count": 34,
   "id": "31d4df47",
   "metadata": {},
   "outputs": [
    {
     "name": "stdout",
     "output_type": "stream",
     "text": [
      "3\n",
      "The quick brown fox jumps over a lazy dog.\n",
      "Case 0: Pangram!\n",
      "The quick brown fox jumps over a laconic dog.\n",
      "Case 1: Not a pangram\n",
      "abcdefghijklmNOPQRSTUVWXYZ-zyxwvutsrqpon   2013/2014      MLKJIHGFEDCBA\n",
      "Case 2: Double pangram!!\n"
     ]
    }
   ],
   "source": [
    "n=int(input())\n",
    "for ik in range(n):\n",
    "    ans=100\n",
    "    s=input()\n",
    "    for it in range(65,91):\n",
    "        b=s.count(chr(it))+s.count(chr(it+32))\n",
    "        if b<ans:\n",
    "            ans=b\n",
    "            if b==0:\n",
    "                break\n",
    "    ans=min(ans,3)\n",
    "    if ans==0:\n",
    "        print(\"Case %d: Not a pangram\"%(ik+1))\n",
    "    elif ans==1:\n",
    "        print(\"Case %d: Pangram!\"%(ik+1))\n",
    "    elif ans==2:\n",
    "        print(\"Case %d: Double pangram!!\"%(ik+1))\n",
    "    else:\n",
    "        print(\"Case %d: Triple pangram!!!\"%(ik+1))"
   ]
  },
  {
   "cell_type": "markdown",
   "id": "d5b90064",
   "metadata": {},
   "source": [
    "#### 1124 언더프라임"
   ]
  },
  {
   "cell_type": "code",
   "execution_count": 62,
   "id": "185549b9",
   "metadata": {},
   "outputs": [
    {
     "name": "stdout",
     "output_type": "stream",
     "text": [
      "2 100000\n",
      "63255\n"
     ]
    }
   ],
   "source": [
    "A,B=map(int,input().split())\n",
    "P=[]\n",
    "for ik in range(2,B+1):\n",
    "    c=0\n",
    "    for it in P:\n",
    "        if it>(ik**(1/2)):\n",
    "            break\n",
    "        if ik%it==0:\n",
    "            c=1\n",
    "            break\n",
    "    if c==0:\n",
    "        P.append(ik)\n",
    "Ans=0\n",
    "N={}\n",
    "for ik in range(A,B+1):\n",
    "    ans=0\n",
    "    c=0\n",
    "    iu=ik\n",
    "    for it in P:\n",
    "        while(1):\n",
    "            if iu%it==0:\n",
    "                ans+=1\n",
    "                iu=iu//it\n",
    "                if iu in N:\n",
    "                    ans=ans+N[iu]\n",
    "                    c=1\n",
    "                    break\n",
    "            else:\n",
    "                break\n",
    "        if c==1:\n",
    "            break\n",
    "    N[ik]=ans\n",
    "    if ans in P:\n",
    "        Ans+=1\n",
    "print(Ans)"
   ]
  },
  {
   "cell_type": "markdown",
   "id": "4361f342",
   "metadata": {
    "scrolled": false
   },
   "source": [
    "#### 1855 암호 "
   ]
  },
  {
   "cell_type": "code",
   "execution_count": 10,
   "id": "997b2cea",
   "metadata": {},
   "outputs": [
    {
     "name": "stdout",
     "output_type": "stream",
     "text": [
      "3\n",
      "aeijfbcgklhd\n",
      "abcdefghijkl\n"
     ]
    }
   ],
   "source": [
    "N=int(input())\n",
    "s=input()\n",
    "arr=[]\n",
    "for ik in range(len(s)//N):\n",
    "    if ik%2==0:\n",
    "        arr.append(s[N*ik:N*(ik+1)])\n",
    "    else:\n",
    "        arr.append(''.join(list(reversed(s[N*ik:N*(ik+1)]))))\n",
    "ans=''\n",
    "for iu in range(N):\n",
    "    ans+=''.join([arr[ik][iu] for ik in range(len(s)//N)])\n",
    "print(ans)"
   ]
  },
  {
   "cell_type": "markdown",
   "id": "cd53317b",
   "metadata": {},
   "source": [
    "#### 2491 수열"
   ]
  },
  {
   "cell_type": "code",
   "execution_count": 32,
   "id": "0fd0a2dc",
   "metadata": {},
   "outputs": [
    {
     "name": "stdout",
     "output_type": "stream",
     "text": [
      "2\n",
      "1 2\n",
      "2\n"
     ]
    }
   ],
   "source": [
    "N=int(input())\n",
    "ans=[]\n",
    "arr=list(map(int,input().split()))\n",
    "ac=0; bc=0\n",
    "for ik in range(N-1):\n",
    "    if arr[ik]>=arr[ik+1]:\n",
    "        ac+=1\n",
    "    else:\n",
    "        ans.append(ac)\n",
    "        ac=0\n",
    "    if arr[ik]<=arr[ik+1]:\n",
    "        bc+=1\n",
    "    else:\n",
    "        ans.append(bc)\n",
    "        bc=0\n",
    "ans.append(ac)\n",
    "ans.append(bc)\n",
    "print(max(ans)+1)"
   ]
  },
  {
   "cell_type": "markdown",
   "id": "02ac93df",
   "metadata": {},
   "source": [
    "#### 1357 뒤집힌 덧셈"
   ]
  },
  {
   "cell_type": "code",
   "execution_count": 41,
   "id": "782c0996",
   "metadata": {},
   "outputs": [
    {
     "name": "stdout",
     "output_type": "stream",
     "text": [
      "456 789\n",
      "1461\n"
     ]
    }
   ],
   "source": [
    "a,b=input().split()\n",
    "a=int(''.join(list(reversed(a))))\n",
    "b=int(''.join(list(reversed(b))))\n",
    "c=a+b\n",
    "print(int(''.join(list(reversed(str(c))))))"
   ]
  },
  {
   "cell_type": "markdown",
   "id": "6f7a1a7c",
   "metadata": {},
   "source": [
    "#### 5347 LCM"
   ]
  },
  {
   "cell_type": "code",
   "execution_count": 42,
   "id": "36357829",
   "metadata": {},
   "outputs": [
    {
     "name": "stdout",
     "output_type": "stream",
     "text": [
      "3\n",
      "15 21\n",
      "105\n",
      "33 22\n",
      "66\n",
      "9 10\n",
      "90\n"
     ]
    }
   ],
   "source": [
    "n=int(input())\n",
    "for ik in range(n):\n",
    "    A,B=map(int,input().split())\n",
    "    a=max(A,B)\n",
    "    b=min(A,B)\n",
    "    while(1):\n",
    "        if a%b==0:\n",
    "            break\n",
    "        c=a%b\n",
    "        a=b\n",
    "        b=c\n",
    "    print(A*B//b)"
   ]
  },
  {
   "cell_type": "markdown",
   "id": "d38285a8",
   "metadata": {},
   "source": [
    "#### 1149 RGB 거리"
   ]
  },
  {
   "cell_type": "code",
   "execution_count": 50,
   "id": "d13d4d47",
   "metadata": {},
   "outputs": [
    {
     "name": "stdout",
     "output_type": "stream",
     "text": [
      "8\n",
      "71 39 44\n",
      "32 83 55\n",
      "51 37 63\n",
      "89 29 100\n",
      "83 58 11\n",
      "65 13 15\n",
      "47 25 29\n",
      "60 66 19\n",
      "253\n"
     ]
    }
   ],
   "source": [
    "N=int(input())\n",
    "arr=[]\n",
    "for ik in range(N):\n",
    "    arr.append(list(map(int,input().split())))\n",
    "ans=arr[0]\n",
    "for ik in range(1,N):\n",
    "    T=[0,0,0]\n",
    "    T[0]=arr[ik][0]+min(ans[1],ans[2])\n",
    "    T[1]=arr[ik][1]+min(ans[0],ans[2])\n",
    "    T[2]=arr[ik][2]+min(ans[0],ans[1])\n",
    "    ans=T\n",
    "print(min(T))"
   ]
  },
  {
   "cell_type": "markdown",
   "id": "4f1e2fb7",
   "metadata": {},
   "source": [
    "#### 1411 비슷한 단어"
   ]
  },
  {
   "cell_type": "code",
   "execution_count": 16,
   "id": "a3bffda4",
   "metadata": {},
   "outputs": [
    {
     "name": "stdout",
     "output_type": "stream",
     "text": [
      "12\n",
      "cacccdaabc\n",
      "cdcccaddbc\n",
      "dcdddbccad\n",
      "bdbbbaddcb\n",
      "bdbcadbbdc\n",
      "abaadcbbda\n",
      "babcdabbac\n",
      "cacdbaccad\n",
      "dcddabccad\n",
      "cacccbaadb\n",
      "bbcdcbcbdd\n",
      "bcbadcbbca\n",
      "13\n"
     ]
    }
   ],
   "source": [
    "N=int(input())\n",
    "arr=[]\n",
    "ans=0\n",
    "for ik in range(N):\n",
    "    arr.append(input())\n",
    "    \n",
    "for ik in range(N):\n",
    "    W=arr[ik]\n",
    "    for it in range(ik+1,N):\n",
    "        w=arr[it]\n",
    "        c=0\n",
    "        d={}\n",
    "        for iu in range(len(W)):\n",
    "            if W[iu] in d:\n",
    "                if d[W[iu]]!=w[iu]:\n",
    "                    c=1\n",
    "                    break\n",
    "            else:\n",
    "                if w[iu] in d.values():\n",
    "                    c=1\n",
    "                    break\n",
    "                else:\n",
    "                    d[W[iu]]=w[iu]\n",
    "        if c==0:\n",
    "            ans+=1\n",
    "print(ans)"
   ]
  },
  {
   "cell_type": "markdown",
   "id": "50d6597f",
   "metadata": {},
   "source": [
    "#### 1535 안녕"
   ]
  },
  {
   "cell_type": "code",
   "execution_count": null,
   "id": "437cd950",
   "metadata": {},
   "outputs": [],
   "source": [
    "N=int(input())\n",
    "L=list(map(int,input().split()))\n",
    "J=list(map(int,input().split()))\n",
    "ans=[]\n",
    "temp=[]\n",
    "ik=0\n",
    "while(1):\n",
    "    \n",
    "        \n",
    "        \n",
    "        "
   ]
  }
 ],
 "metadata": {
  "kernelspec": {
   "display_name": "Python 3 (ipykernel)",
   "language": "python",
   "name": "python3"
  },
  "language_info": {
   "codemirror_mode": {
    "name": "ipython",
    "version": 3
   },
   "file_extension": ".py",
   "mimetype": "text/x-python",
   "name": "python",
   "nbconvert_exporter": "python",
   "pygments_lexer": "ipython3",
   "version": "3.9.7"
  }
 },
 "nbformat": 4,
 "nbformat_minor": 5
}
