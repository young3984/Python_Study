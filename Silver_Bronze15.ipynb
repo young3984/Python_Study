{
 "cells": [
  {
   "cell_type": "markdown",
   "id": "47f1ed01",
   "metadata": {},
   "source": [
    "## Silver_Bronze15"
   ]
  },
  {
   "cell_type": "markdown",
   "id": "bd3ca29f",
   "metadata": {},
   "source": [
    "#### 12781 무한 문자열"
   ]
  },
  {
   "cell_type": "code",
   "execution_count": 29,
   "id": "96f81034",
   "metadata": {},
   "outputs": [
    {
     "name": "stdout",
     "output_type": "stream",
     "text": [
      "ab\n",
      "abab\n",
      "1\n"
     ]
    }
   ],
   "source": [
    "s=input()\n",
    "t=input()\n",
    "a=s*len(t)\n",
    "b=t*len(s)\n",
    "if a==b:\n",
    "    print(1)\n",
    "else:\n",
    "    print(0)"
   ]
  },
  {
   "cell_type": "markdown",
   "id": "485570e6",
   "metadata": {},
   "source": [
    "#### 10384 팬그램"
   ]
  },
  {
   "cell_type": "code",
   "execution_count": 34,
   "id": "31d4df47",
   "metadata": {},
   "outputs": [
    {
     "name": "stdout",
     "output_type": "stream",
     "text": [
      "3\n",
      "The quick brown fox jumps over a lazy dog.\n",
      "Case 0: Pangram!\n",
      "The quick brown fox jumps over a laconic dog.\n",
      "Case 1: Not a pangram\n",
      "abcdefghijklmNOPQRSTUVWXYZ-zyxwvutsrqpon   2013/2014      MLKJIHGFEDCBA\n",
      "Case 2: Double pangram!!\n"
     ]
    }
   ],
   "source": [
    "n=int(input())\n",
    "for ik in range(n):\n",
    "    ans=100\n",
    "    s=input()\n",
    "    for it in range(65,91):\n",
    "        b=s.count(chr(it))+s.count(chr(it+32))\n",
    "        if b<ans:\n",
    "            ans=b\n",
    "            if b==0:\n",
    "                break\n",
    "    ans=min(ans,3)\n",
    "    if ans==0:\n",
    "        print(\"Case %d: Not a pangram\"%(ik+1))\n",
    "    elif ans==1:\n",
    "        print(\"Case %d: Pangram!\"%(ik+1))\n",
    "    elif ans==2:\n",
    "        print(\"Case %d: Double pangram!!\"%(ik+1))\n",
    "    else:\n",
    "        print(\"Case %d: Triple pangram!!!\"%(ik+1))"
   ]
  },
  {
   "cell_type": "markdown",
   "id": "d5b90064",
   "metadata": {},
   "source": [
    "#### 1124 언더프라임"
   ]
  },
  {
   "cell_type": "code",
   "execution_count": 62,
   "id": "185549b9",
   "metadata": {},
   "outputs": [
    {
     "name": "stdout",
     "output_type": "stream",
     "text": [
      "2 100000\n",
      "63255\n"
     ]
    }
   ],
   "source": [
    "A,B=map(int,input().split())\n",
    "P=[]\n",
    "for ik in range(2,B+1):\n",
    "    c=0\n",
    "    for it in P:\n",
    "        if it>(ik**(1/2)):\n",
    "            break\n",
    "        if ik%it==0:\n",
    "            c=1\n",
    "            break\n",
    "    if c==0:\n",
    "        P.append(ik)\n",
    "Ans=0\n",
    "N={}\n",
    "for ik in range(A,B+1):\n",
    "    ans=0\n",
    "    c=0\n",
    "    iu=ik\n",
    "    for it in P:\n",
    "        while(1):\n",
    "            if iu%it==0:\n",
    "                ans+=1\n",
    "                iu=iu//it\n",
    "                if iu in N:\n",
    "                    ans=ans+N[iu]\n",
    "                    c=1\n",
    "                    break\n",
    "            else:\n",
    "                break\n",
    "        if c==1:\n",
    "            break\n",
    "    N[ik]=ans\n",
    "    if ans in P:\n",
    "        Ans+=1\n",
    "print(Ans)"
   ]
  },
  {
   "cell_type": "markdown",
   "id": "4361f342",
   "metadata": {
    "scrolled": false
   },
   "source": [
    "#### 1855 암호 "
   ]
  },
  {
   "cell_type": "code",
   "execution_count": 10,
   "id": "997b2cea",
   "metadata": {},
   "outputs": [
    {
     "name": "stdout",
     "output_type": "stream",
     "text": [
      "3\n",
      "aeijfbcgklhd\n",
      "abcdefghijkl\n"
     ]
    }
   ],
   "source": [
    "N=int(input())\n",
    "s=input()\n",
    "arr=[]\n",
    "for ik in range(len(s)//N):\n",
    "    if ik%2==0:\n",
    "        arr.append(s[N*ik:N*(ik+1)])\n",
    "    else:\n",
    "        arr.append(''.join(list(reversed(s[N*ik:N*(ik+1)]))))\n",
    "ans=''\n",
    "for iu in range(N):\n",
    "    ans+=''.join([arr[ik][iu] for ik in range(len(s)//N)])\n",
    "print(ans)"
   ]
  },
  {
   "cell_type": "markdown",
   "id": "cd53317b",
   "metadata": {},
   "source": [
    "#### 2491 수열"
   ]
  },
  {
   "cell_type": "code",
   "execution_count": 32,
   "id": "0fd0a2dc",
   "metadata": {},
   "outputs": [
    {
     "name": "stdout",
     "output_type": "stream",
     "text": [
      "2\n",
      "1 2\n",
      "2\n"
     ]
    }
   ],
   "source": [
    "N=int(input())\n",
    "ans=[]\n",
    "arr=list(map(int,input().split()))\n",
    "ac=0; bc=0\n",
    "for ik in range(N-1):\n",
    "    if arr[ik]>=arr[ik+1]:\n",
    "        ac+=1\n",
    "    else:\n",
    "        ans.append(ac)\n",
    "        ac=0\n",
    "    if arr[ik]<=arr[ik+1]:\n",
    "        bc+=1\n",
    "    else:\n",
    "        ans.append(bc)\n",
    "        bc=0\n",
    "ans.append(ac)\n",
    "ans.append(bc)\n",
    "print(max(ans)+1)"
   ]
  },
  {
   "cell_type": "markdown",
   "id": "02ac93df",
   "metadata": {},
   "source": [
    "#### 1357 뒤집힌 덧셈"
   ]
  },
  {
   "cell_type": "code",
   "execution_count": 41,
   "id": "782c0996",
   "metadata": {},
   "outputs": [
    {
     "name": "stdout",
     "output_type": "stream",
     "text": [
      "456 789\n",
      "1461\n"
     ]
    }
   ],
   "source": [
    "a,b=input().split()\n",
    "a=int(''.join(list(reversed(a))))\n",
    "b=int(''.join(list(reversed(b))))\n",
    "c=a+b\n",
    "print(int(''.join(list(reversed(str(c))))))"
   ]
  },
  {
   "cell_type": "markdown",
   "id": "6f7a1a7c",
   "metadata": {},
   "source": [
    "#### 5347 LCM"
   ]
  },
  {
   "cell_type": "code",
   "execution_count": 42,
   "id": "36357829",
   "metadata": {},
   "outputs": [
    {
     "name": "stdout",
     "output_type": "stream",
     "text": [
      "3\n",
      "15 21\n",
      "105\n",
      "33 22\n",
      "66\n",
      "9 10\n",
      "90\n"
     ]
    }
   ],
   "source": [
    "n=int(input())\n",
    "for ik in range(n):\n",
    "    A,B=map(int,input().split())\n",
    "    a=max(A,B)\n",
    "    b=min(A,B)\n",
    "    while(1):\n",
    "        if a%b==0:\n",
    "            break\n",
    "        c=a%b\n",
    "        a=b\n",
    "        b=c\n",
    "    print(A*B//b)"
   ]
  },
  {
   "cell_type": "markdown",
   "id": "d38285a8",
   "metadata": {},
   "source": [
    "#### 1149 RGB 거리"
   ]
  },
  {
   "cell_type": "code",
   "execution_count": 50,
   "id": "d13d4d47",
   "metadata": {},
   "outputs": [
    {
     "name": "stdout",
     "output_type": "stream",
     "text": [
      "8\n",
      "71 39 44\n",
      "32 83 55\n",
      "51 37 63\n",
      "89 29 100\n",
      "83 58 11\n",
      "65 13 15\n",
      "47 25 29\n",
      "60 66 19\n",
      "253\n"
     ]
    }
   ],
   "source": [
    "N=int(input())\n",
    "arr=[]\n",
    "for ik in range(N):\n",
    "    arr.append(list(map(int,input().split())))\n",
    "ans=arr[0]\n",
    "for ik in range(1,N):\n",
    "    T=[0,0,0]\n",
    "    T[0]=arr[ik][0]+min(ans[1],ans[2])\n",
    "    T[1]=arr[ik][1]+min(ans[0],ans[2])\n",
    "    T[2]=arr[ik][2]+min(ans[0],ans[1])\n",
    "    ans=T\n",
    "print(min(T))"
   ]
  },
  {
   "cell_type": "markdown",
   "id": "146edab2",
   "metadata": {},
   "source": [
    "#### 1455 뒤집기 2"
   ]
  },
  {
   "cell_type": "code",
   "execution_count": 71,
   "id": "5e5c97df",
   "metadata": {},
   "outputs": [
    {
     "name": "stdout",
     "output_type": "stream",
     "text": [
      "3 4\n",
      "0 0 0 0\n",
      "0 0 0 0\n",
      "0 0 0 1\n"
     ]
    },
    {
     "ename": "KeyboardInterrupt",
     "evalue": "",
     "output_type": "error",
     "traceback": [
      "\u001b[1;31m---------------------------------------------------------------------------\u001b[0m",
      "\u001b[1;31mKeyboardInterrupt\u001b[0m                         Traceback (most recent call last)",
      "\u001b[1;32m~\\AppData\\Local\\Temp/ipykernel_5944/397913002.py\u001b[0m in \u001b[0;36m<module>\u001b[1;34m\u001b[0m\n\u001b[0;32m      9\u001b[0m         \u001b[1;32mwhile\u001b[0m\u001b[1;33m(\u001b[0m\u001b[1;36m1\u001b[0m\u001b[1;33m)\u001b[0m\u001b[1;33m:\u001b[0m\u001b[1;33m\u001b[0m\u001b[1;33m\u001b[0m\u001b[0m\n\u001b[0;32m     10\u001b[0m             \u001b[1;32mif\u001b[0m \u001b[1;36m1\u001b[0m \u001b[1;32min\u001b[0m \u001b[0marr\u001b[0m\u001b[1;33m[\u001b[0m\u001b[0mik\u001b[0m\u001b[1;33m]\u001b[0m\u001b[1;33m:\u001b[0m\u001b[1;33m\u001b[0m\u001b[1;33m\u001b[0m\u001b[0m\n\u001b[1;32m---> 11\u001b[1;33m                 \u001b[0mans\u001b[0m\u001b[1;33m+=\u001b[0m\u001b[1;36m1\u001b[0m\u001b[1;33m\u001b[0m\u001b[1;33m\u001b[0m\u001b[0m\n\u001b[0m\u001b[0;32m     12\u001b[0m                 \u001b[0mit\u001b[0m\u001b[1;33m=\u001b[0m\u001b[0marr\u001b[0m\u001b[1;33m[\u001b[0m\u001b[0mik\u001b[0m\u001b[1;33m]\u001b[0m\u001b[1;33m.\u001b[0m\u001b[0mindex\u001b[0m\u001b[1;33m(\u001b[0m\u001b[1;36m1\u001b[0m\u001b[1;33m)\u001b[0m\u001b[1;33m\u001b[0m\u001b[1;33m\u001b[0m\u001b[0m\n\u001b[0;32m     13\u001b[0m                 \u001b[1;32mfor\u001b[0m \u001b[0miu\u001b[0m \u001b[1;32min\u001b[0m \u001b[0mrange\u001b[0m\u001b[1;33m(\u001b[0m\u001b[0miu\u001b[0m\u001b[1;33m,\u001b[0m\u001b[0mN\u001b[0m\u001b[1;33m)\u001b[0m\u001b[1;33m:\u001b[0m\u001b[1;33m\u001b[0m\u001b[1;33m\u001b[0m\u001b[0m\n",
      "\u001b[1;31mKeyboardInterrupt\u001b[0m: "
     ]
    }
   ],
   "source": [
    "N,M=map(int,input().split())\n",
    "arr=[]\n",
    "for ik in range(N):\n",
    "    arr.append(list(reversed(list(map(int,input().split())))))\n",
    "arr=list(reversed(arr))\n",
    "ans=0\n",
    "if M>=N:\n",
    "    for ik in range(N):\n",
    "        while(1):\n",
    "            if 1 in arr[ik]:\n",
    "                ans+=1\n",
    "                it=arr[ik].index(1)\n",
    "                for iu in range(iu,N):\n",
    "                    for ij in range(ik,M):\n",
    "                        if arr[iu][ij]==1:\n",
    "                            arr[iu][ij]=0\n",
    "                        else:\n",
    "                            arr[iu][ij]=1\n",
    "            else:\n",
    "                break"
   ]
  },
  {
   "cell_type": "code",
   "execution_count": 72,
   "id": "e54c5a88",
   "metadata": {},
   "outputs": [
    {
     "data": {
      "text/plain": [
       "[[1, 0, 0, 0], [0, 0, 0, 0], [1, 1, 1, 1]]"
      ]
     },
     "execution_count": 72,
     "metadata": {},
     "output_type": "execute_result"
    }
   ],
   "source": [
    "arr"
   ]
  },
  {
   "cell_type": "code",
   "execution_count": 73,
   "id": "0091a483",
   "metadata": {},
   "outputs": [
    {
     "data": {
      "text/plain": [
       "3953461"
      ]
     },
     "execution_count": 73,
     "metadata": {},
     "output_type": "execute_result"
    }
   ],
   "source": [
    "ans"
   ]
  },
  {
   "cell_type": "code",
   "execution_count": 64,
   "id": "7773b045",
   "metadata": {},
   "outputs": [
    {
     "data": {
      "text/plain": [
       "[[6, 5, 4, 3], [5, 4, 3, 2], [4, 3, 2, 1]]"
      ]
     },
     "execution_count": 64,
     "metadata": {},
     "output_type": "execute_result"
    }
   ],
   "source": [
    "arr"
   ]
  },
  {
   "cell_type": "code",
   "execution_count": null,
   "id": "20f2807b",
   "metadata": {},
   "outputs": [],
   "source": []
  }
 ],
 "metadata": {
  "kernelspec": {
   "display_name": "Python 3 (ipykernel)",
   "language": "python",
   "name": "python3"
  },
  "language_info": {
   "codemirror_mode": {
    "name": "ipython",
    "version": 3
   },
   "file_extension": ".py",
   "mimetype": "text/x-python",
   "name": "python",
   "nbconvert_exporter": "python",
   "pygments_lexer": "ipython3",
   "version": "3.9.7"
  }
 },
 "nbformat": 4,
 "nbformat_minor": 5
}
