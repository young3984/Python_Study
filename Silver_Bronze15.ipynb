{
 "cells": [
  {
   "cell_type": "markdown",
   "id": "47f1ed01",
   "metadata": {},
   "source": [
    "## Silver_Bronze15"
   ]
  },
  {
   "cell_type": "markdown",
   "id": "bd3ca29f",
   "metadata": {},
   "source": [
    "#### 12781 무한 문자열"
   ]
  },
  {
   "cell_type": "code",
   "execution_count": 29,
   "id": "96f81034",
   "metadata": {},
   "outputs": [
    {
     "name": "stdout",
     "output_type": "stream",
     "text": [
      "ab\n",
      "abab\n",
      "1\n"
     ]
    }
   ],
   "source": [
    "s=input()\n",
    "t=input()\n",
    "a=s*len(t)\n",
    "b=t*len(s)\n",
    "if a==b:\n",
    "    print(1)\n",
    "else:\n",
    "    print(0)"
   ]
  },
  {
   "cell_type": "markdown",
   "id": "485570e6",
   "metadata": {},
   "source": [
    "#### 10384 팬그램"
   ]
  },
  {
   "cell_type": "code",
   "execution_count": 34,
   "id": "31d4df47",
   "metadata": {},
   "outputs": [
    {
     "name": "stdout",
     "output_type": "stream",
     "text": [
      "3\n",
      "The quick brown fox jumps over a lazy dog.\n",
      "Case 0: Pangram!\n",
      "The quick brown fox jumps over a laconic dog.\n",
      "Case 1: Not a pangram\n",
      "abcdefghijklmNOPQRSTUVWXYZ-zyxwvutsrqpon   2013/2014      MLKJIHGFEDCBA\n",
      "Case 2: Double pangram!!\n"
     ]
    }
   ],
   "source": [
    "n=int(input())\n",
    "for ik in range(n):\n",
    "    ans=100\n",
    "    s=input()\n",
    "    for it in range(65,91):\n",
    "        b=s.count(chr(it))+s.count(chr(it+32))\n",
    "        if b<ans:\n",
    "            ans=b\n",
    "            if b==0:\n",
    "                break\n",
    "    ans=min(ans,3)\n",
    "    if ans==0:\n",
    "        print(\"Case %d: Not a pangram\"%(ik+1))\n",
    "    elif ans==1:\n",
    "        print(\"Case %d: Pangram!\"%(ik+1))\n",
    "    elif ans==2:\n",
    "        print(\"Case %d: Double pangram!!\"%(ik+1))\n",
    "    else:\n",
    "        print(\"Case %d: Triple pangram!!!\"%(ik+1))"
   ]
  },
  {
   "cell_type": "markdown",
   "id": "d5b90064",
   "metadata": {},
   "source": [
    "#### 1124 언더프라임"
   ]
  },
  {
   "cell_type": "code",
   "execution_count": 62,
   "id": "185549b9",
   "metadata": {},
   "outputs": [
    {
     "name": "stdout",
     "output_type": "stream",
     "text": [
      "2 100000\n",
      "63255\n"
     ]
    }
   ],
   "source": [
    "A,B=map(int,input().split())\n",
    "P=[]\n",
    "for ik in range(2,B+1):\n",
    "    c=0\n",
    "    for it in P:\n",
    "        if it>(ik**(1/2)):\n",
    "            break\n",
    "        if ik%it==0:\n",
    "            c=1\n",
    "            break\n",
    "    if c==0:\n",
    "        P.append(ik)\n",
    "Ans=0\n",
    "N={}\n",
    "for ik in range(A,B+1):\n",
    "    ans=0\n",
    "    c=0\n",
    "    iu=ik\n",
    "    for it in P:\n",
    "        while(1):\n",
    "            if iu%it==0:\n",
    "                ans+=1\n",
    "                iu=iu//it\n",
    "                if iu in N:\n",
    "                    ans=ans+N[iu]\n",
    "                    c=1\n",
    "                    break\n",
    "            else:\n",
    "                break\n",
    "        if c==1:\n",
    "            break\n",
    "    N[ik]=ans\n",
    "    if ans in P:\n",
    "        Ans+=1\n",
    "print(Ans)"
   ]
  },
  {
   "cell_type": "code",
   "execution_count": null,
   "id": "f8a29e90",
   "metadata": {
    "scrolled": false
   },
   "outputs": [],
   "source": []
  },
  {
   "cell_type": "code",
   "execution_count": null,
   "id": "997b2cea",
   "metadata": {},
   "outputs": [],
   "source": []
  },
  {
   "cell_type": "code",
   "execution_count": null,
   "id": "b524c83e",
   "metadata": {},
   "outputs": [],
   "source": []
  },
  {
   "cell_type": "code",
   "execution_count": null,
   "id": "3085801c",
   "metadata": {},
   "outputs": [],
   "source": []
  }
 ],
 "metadata": {
  "kernelspec": {
   "display_name": "Python 3 (ipykernel)",
   "language": "python",
   "name": "python3"
  },
  "language_info": {
   "codemirror_mode": {
    "name": "ipython",
    "version": 3
   },
   "file_extension": ".py",
   "mimetype": "text/x-python",
   "name": "python",
   "nbconvert_exporter": "python",
   "pygments_lexer": "ipython3",
   "version": "3.9.7"
  }
 },
 "nbformat": 4,
 "nbformat_minor": 5
}
