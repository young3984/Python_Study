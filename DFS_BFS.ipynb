{
 "cells": [
  {
   "cell_type": "markdown",
   "id": "aaf6ddfb",
   "metadata": {},
   "source": [
    "## DFS/BFS"
   ]
  },
  {
   "cell_type": "markdown",
   "id": "cefac301",
   "metadata": {},
   "source": [
    "#### 음료수 얼려 먹기: 유튜브 예제문제"
   ]
  },
  {
   "cell_type": "code",
   "execution_count": 20,
   "id": "07543921",
   "metadata": {},
   "outputs": [],
   "source": [
    "def Dfs(arr,a,b,v,t):\n",
    "    v[a][b]=True\n",
    "    if arr[a][b]==0:\n",
    "        if (a+1)<N:\n",
    "            Dfs(arr,a+1,b,v)\n",
    "        if (a-1)>=0:\n",
    "            Dfs(arr,a-1,b,v)\n",
    "        if (b+1)<M:\n",
    "            Dfs(arr,a,b+1,v)\n",
    "        if (b-1)>=0:\n",
    "            Dfs(arr,a,b-1,v)\n",
    "        t=1"
   ]
  },
  {
   "cell_type": "code",
   "execution_count": 21,
   "id": "d8add0a3",
   "metadata": {},
   "outputs": [
    {
     "name": "stdout",
     "output_type": "stream",
     "text": [
      "4 5\n",
      "00110\n",
      "00011\n",
      "11111\n",
      "00000\n"
     ]
    }
   ],
   "source": [
    "N,M=map(int,input().split())\n",
    "arr=[]\n",
    "v=[[False]*M for ik in range(N)]\n",
    "ans=0\n",
    "for ik in range(N):\n",
    "    arr.append(list(input()))\n",
    "for ik in range(N):\n",
    "    for it in range(M):\n",
    "        if not v[ik][it]:\n",
    "            t=0\n",
    "            Dfs(arr,ik,it,v,t)\n",
    "            ans+=1"
   ]
  },
  {
   "cell_type": "code",
   "execution_count": null,
   "id": "e957a7e0",
   "metadata": {},
   "outputs": [],
   "source": []
  },
  {
   "cell_type": "code",
   "execution_count": null,
   "id": "fea27e4f",
   "metadata": {},
   "outputs": [],
   "source": []
  },
  {
   "cell_type": "code",
   "execution_count": null,
   "id": "c25d3b9b",
   "metadata": {},
   "outputs": [],
   "source": []
  },
  {
   "cell_type": "code",
   "execution_count": null,
   "id": "4ed9f614",
   "metadata": {},
   "outputs": [],
   "source": []
  }
 ],
 "metadata": {
  "kernelspec": {
   "display_name": "Python 3 (ipykernel)",
   "language": "python",
   "name": "python3"
  },
  "language_info": {
   "codemirror_mode": {
    "name": "ipython",
    "version": 3
   },
   "file_extension": ".py",
   "mimetype": "text/x-python",
   "name": "python",
   "nbconvert_exporter": "python",
   "pygments_lexer": "ipython3",
   "version": "3.9.7"
  }
 },
 "nbformat": 4,
 "nbformat_minor": 5
}
