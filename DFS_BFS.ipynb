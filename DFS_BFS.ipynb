{
 "cells": [
  {
   "cell_type": "markdown",
   "id": "aaf6ddfb",
   "metadata": {},
   "source": [
    "## DFS/BFS"
   ]
  },
  {
   "cell_type": "markdown",
   "id": "cefac301",
   "metadata": {},
   "source": [
    "#### 음료수 얼려 먹기: 예제 문제"
   ]
  },
  {
   "cell_type": "code",
   "execution_count": 1,
   "id": "07543921",
   "metadata": {},
   "outputs": [],
   "source": [
    "def Dfs(a,b):\n",
    "    if (a<=-1) | (b<=-1) | (a>=N) | (b>=M):\n",
    "        return False\n",
    "    if arr[a][b]==0:\n",
    "        arr[a][b]=1\n",
    "        Dfs(a+1,b)\n",
    "        Dfs(a,b+1)\n",
    "        Dfs(a-1,b)\n",
    "        Dfs(a,b-1)\n",
    "        return True\n",
    "    return False"
   ]
  },
  {
   "cell_type": "code",
   "execution_count": 2,
   "id": "d8add0a3",
   "metadata": {},
   "outputs": [
    {
     "name": "stdout",
     "output_type": "stream",
     "text": [
      "4 5\n",
      "00110\n",
      "00011\n",
      "11111\n",
      "00000\n",
      "3\n"
     ]
    }
   ],
   "source": [
    "N,M=map(int,input().split())\n",
    "arr=[]\n",
    "ans=0\n",
    "for ik in range(N):\n",
    "    arr.append(list(map(int,list(input()))))\n",
    "for ik in range(N):\n",
    "    for it in range(M):\n",
    "        if arr[ik][it]==0:\n",
    "            ans+=1\n",
    "            Dfs(ik,it)\n",
    "print(ans)"
   ]
  },
  {
   "cell_type": "code",
   "execution_count": 3,
   "id": "576b9db6",
   "metadata": {},
   "outputs": [],
   "source": [
    "from collections import deque\n",
    "queue=deque()"
   ]
  },
  {
   "cell_type": "markdown",
   "id": "1f37982e",
   "metadata": {},
   "source": [
    "#### 미로 찾기: 예제 문제"
   ]
  },
  {
   "cell_type": "code",
   "execution_count": 22,
   "id": "ec15fe60",
   "metadata": {},
   "outputs": [],
   "source": [
    "def Bfs(a,b,v):\n",
    "    if (a<=-1) | (b<=-1) | (a>=N) | (b>=M):\n",
    "        return False\n",
    "    if Q[a][b]==1:\n",
    "        Q[a][b]+=v\n",
    "        Bfs(a+1,b,Q[a][b])\n",
    "        Bfs(a,b+1,Q[a][b])\n",
    "        Bfs(a-1,b,Q[a][b])\n",
    "        Bfs(a,b-1,Q[a][b])\n",
    "        return True\n",
    "    return False"
   ]
  },
  {
   "cell_type": "code",
   "execution_count": 23,
   "id": "81938469",
   "metadata": {},
   "outputs": [
    {
     "name": "stdout",
     "output_type": "stream",
     "text": [
      "5 6\n",
      "101010\n",
      "111111\n",
      "000001\n",
      "111111\n",
      "111111\n",
      "10\n"
     ]
    }
   ],
   "source": [
    "N,M=map(int,input().split())\n",
    "Q=deque()\n",
    "for ik in range(N):\n",
    "    Q.append(list(map(int,list(input()))))\n",
    "Bfs(0,0,0)\n",
    "print(Q[N-1][M-1])"
   ]
  },
  {
   "cell_type": "markdown",
   "id": "f3c2bb21",
   "metadata": {},
   "source": [
    "#### 1012 유기농 배추"
   ]
  },
  {
   "cell_type": "code",
   "execution_count": 25,
   "id": "284e4ea4",
   "metadata": {},
   "outputs": [],
   "source": [
    "def Dfs(a,b):\n",
    "    if (a<=-1) | (b<=-1) | (a>=M) | (b>=N):\n",
    "        return False\n",
    "    if arr[a][b]==1:\n",
    "        arr[a][b]=0\n",
    "        Dfs(a+1,b)\n",
    "        Dfs(a,b+1)\n",
    "        Dfs(a-1,b)\n",
    "        Dfs(a,b-1)\n",
    "        return True\n",
    "    return False"
   ]
  },
  {
   "cell_type": "code",
   "execution_count": 27,
   "id": "2abd459e",
   "metadata": {},
   "outputs": [
    {
     "name": "stdout",
     "output_type": "stream",
     "text": [
      "1\n",
      "10 10 1\n",
      "5 5\n",
      "1\n"
     ]
    }
   ],
   "source": [
    "T=int(input())\n",
    "for iu in range(T):\n",
    "    M,N,K=map(int,input().split())\n",
    "    arr=[[0]*N for ik in range(M)]\n",
    "    for ik in range(K):\n",
    "        a,b=map(int,input().split())\n",
    "        arr[a][b]=1\n",
    "    ans=0\n",
    "    for ik in range(M):\n",
    "        for it in range(N):\n",
    "            if arr[ik][it]==1:\n",
    "                ans+=1\n",
    "                Dfs(ik,it)\n",
    "    print(ans)                "
   ]
  },
  {
   "cell_type": "markdown",
   "id": "e8746a40",
   "metadata": {},
   "source": [
    "#### 1260 DFS와 BFS"
   ]
  },
  {
   "cell_type": "code",
   "execution_count": 5,
   "id": "f59a5f12",
   "metadata": {},
   "outputs": [],
   "source": [
    "def Dfs(v):\n",
    "    R[v].sort()\n",
    "    n=len(R[v])\n",
    "    for ik in range(n):\n",
    "        if (R[v][ik]) not in D:\n",
    "            D.append(R[v][ik])\n",
    "            print(R[v][ik]+1,end=' ')\n",
    "            Dfs(R[v][ik])\n",
    "    return"
   ]
  },
  {
   "cell_type": "code",
   "execution_count": 6,
   "id": "9d28e4f2",
   "metadata": {},
   "outputs": [],
   "source": [
    "def Bfs(v):\n",
    "    R[v].sort()\n",
    "    n=len(R[v])\n",
    "    for ik in range(n):\n",
    "        if R[v][ik] not in B:\n",
    "            B.append(R[v][ik])\n",
    "            T.append(R[v][ik])\n",
    "            print(R[v][ik]+1,end=' ')\n",
    "    del T[0]\n",
    "    if len(T)>=1:\n",
    "        Bfs(T[0])"
   ]
  },
  {
   "cell_type": "code",
   "execution_count": 9,
   "id": "b8e1555d",
   "metadata": {},
   "outputs": [
    {
     "name": "stdout",
     "output_type": "stream",
     "text": [
      "1000 1 1000\n",
      "999 1000\n",
      "1000 999 \n",
      "1000 999 "
     ]
    }
   ],
   "source": [
    "N,M,V=map(int,input().split())\n",
    "R=[[] for ik in range(N)]\n",
    "for ik in range(M):\n",
    "    a,b=map(int,input().split())\n",
    "    R[a-1].append(b-1)\n",
    "    R[b-1].append(a-1)\n",
    "D=[V-1]\n",
    "print(V,end=' ')\n",
    "Dfs(V-1)\n",
    "print()\n",
    "print(V,end=' ')\n",
    "B=[V-1]\n",
    "T=[V-1]\n",
    "Bfs(V-1)"
   ]
  },
  {
   "cell_type": "markdown",
   "id": "49700e5f",
   "metadata": {},
   "source": [
    "#### 2178 미로 탐색"
   ]
  },
  {
   "cell_type": "code",
   "execution_count": 13,
   "id": "e4c0b36a",
   "metadata": {},
   "outputs": [],
   "source": [
    "def Bfs(a,b):\n",
    "    que=deque()\n",
    "    que.append((a,b))\n",
    "    while(que):\n",
    "        x,y=que.popleft()\n",
    "        for ik in range(4):\n",
    "            nx=x+dx[ik]\n",
    "            ny=y+dy[ik]\n",
    "            if (nx<0)|(ny<0)|(nx>=N)|(ny>=M):\n",
    "                continue\n",
    "            if Q[nx][ny]==0:\n",
    "                continue\n",
    "            if Q[nx][ny]==1:\n",
    "                Q[nx][ny]=Q[x][y]+1\n",
    "                que.append((nx,ny))\n",
    "    return Q[N-1][M-1]"
   ]
  },
  {
   "cell_type": "code",
   "execution_count": 19,
   "id": "91126c10",
   "metadata": {},
   "outputs": [
    {
     "name": "stdout",
     "output_type": "stream",
     "text": [
      "7 7\n",
      "1011111\n",
      "1110001\n",
      "1000001\n",
      "1000001\n",
      "1000001\n",
      "1000001\n",
      "1111111\n",
      "13\n"
     ]
    }
   ],
   "source": [
    "from collections import deque\n",
    "dx=[1,-1,0,0]\n",
    "dy=[0,0,1,-1]\n",
    "N,M=map(int,input().split())\n",
    "Q=[]\n",
    "for ik in range(N):\n",
    "    Q.append(list(map(int,list(input()))))\n",
    "print(Bfs(0,0))"
   ]
  },
  {
   "cell_type": "markdown",
   "id": "d891fe18",
   "metadata": {},
   "source": [
    "#### 2606 바이러스"
   ]
  },
  {
   "cell_type": "code",
   "execution_count": 42,
   "id": "69631bb3",
   "metadata": {},
   "outputs": [],
   "source": [
    "def Dfs(n):\n",
    "    arr[n].sort()\n",
    "    m=len(arr[n])\n",
    "    for ik in range(m):\n",
    "        if arr[n][ik] not in ans:\n",
    "            ans.append(arr[n][ik])\n",
    "            Dfs(arr[n][ik])"
   ]
  },
  {
   "cell_type": "code",
   "execution_count": 46,
   "id": "16edbca8",
   "metadata": {},
   "outputs": [
    {
     "name": "stdout",
     "output_type": "stream",
     "text": [
      "7\n",
      "6\n",
      "1 2\n",
      "2 3\n",
      "1 5\n",
      "5 2\n",
      "5 6\n",
      "4 7\n",
      "4\n"
     ]
    }
   ],
   "source": [
    "N=int(input())\n",
    "M=int(input())\n",
    "arr=[[] for ik in range(N)]\n",
    "for ik in range(M):\n",
    "    a,b=map(int,input().split())\n",
    "    arr[a-1].append(b-1)\n",
    "    arr[b-1].append(a-1)\n",
    "ans=[0]\n",
    "Dfs(0)\n",
    "print(len(ans)-1)"
   ]
  },
  {
   "cell_type": "markdown",
   "id": "ea27c658",
   "metadata": {},
   "source": [
    "#### 2644 촌수계산"
   ]
  },
  {
   "cell_type": "code",
   "execution_count": 37,
   "id": "80517d68",
   "metadata": {},
   "outputs": [],
   "source": [
    "def Dfs(n):\n",
    "    R[n].sort()\n",
    "    c=0\n",
    "    m=len(R[n])\n",
    "    for ik in range(m):\n",
    "        if R[n][ik] not in T:\n",
    "            T.append(R[n][ik])\n",
    "            ans.append(R[n][ik])\n",
    "            if (b-1) in ans:\n",
    "                abc.extend(ans)\n",
    "            Dfs(R[n][ik])\n",
    "            del ans[-1]"
   ]
  },
  {
   "cell_type": "code",
   "execution_count": 40,
   "id": "76cce088",
   "metadata": {},
   "outputs": [
    {
     "name": "stdout",
     "output_type": "stream",
     "text": [
      "10\n",
      "7 6\n",
      "9\n",
      "1 2\n",
      "1 3\n",
      "1 4\n",
      "9 1\n",
      "9 10\n",
      "3 5\n",
      "3 6\n",
      "2 7\n",
      "2 8\n",
      "4\n"
     ]
    }
   ],
   "source": [
    "N=int(input())\n",
    "R=[[] for ik in range(N)]\n",
    "a,b=map(int,input().split())\n",
    "M=int(input())\n",
    "for ik in range(M):\n",
    "    p,q=map(int,input().split())\n",
    "    R[p-1].append(q-1)\n",
    "    R[q-1].append(p-1)\n",
    "T=[a-1]\n",
    "ans=[a-1]\n",
    "abc=[]\n",
    "Dfs(a-1)\n",
    "print(len(abc)-1)"
   ]
  },
  {
   "cell_type": "markdown",
   "id": "669931cc",
   "metadata": {},
   "source": [
    "#### 1325 효율적인 해킹"
   ]
  },
  {
   "cell_type": "code",
   "execution_count": 51,
   "id": "071da91c",
   "metadata": {},
   "outputs": [],
   "source": [
    "def Dfs(n):\n",
    "    R[n].sort()\n",
    "    m=len(R[n])\n",
    "    for ik in range(m):\n",
    "        if R[n][ik] not in ans:\n",
    "            ans.append(R[n][ik])\n",
    "            Dfs(R[n][ik])"
   ]
  },
  {
   "cell_type": "code",
   "execution_count": 57,
   "id": "bbf71744",
   "metadata": {},
   "outputs": [
    {
     "name": "stdout",
     "output_type": "stream",
     "text": [
      "5 4\n",
      "3 1\n",
      "3 2\n",
      "4 3\n",
      "5 3\n",
      "1 2 "
     ]
    }
   ],
   "source": [
    "N,M=map(int,input().split())\n",
    "R=[[] for ik in range(N)]\n",
    "for ik in range(M):\n",
    "    a,b=map(int,input().split())\n",
    "    R[b-1].append(a-1)\n",
    "A=[]\n",
    "for ik in range(N):\n",
    "    ans=[]\n",
    "    Dfs(ik)\n",
    "    A.append(len(ans))\n",
    "k=max(A)\n",
    "while(1):\n",
    "    if k in A:\n",
    "        print(A.index(max(A))+1,end=' ')\n",
    "        A[A.index(k)]=-100\n",
    "    else:\n",
    "        break"
   ]
  },
  {
   "cell_type": "code",
   "execution_count": 53,
   "id": "cd5bec23",
   "metadata": {},
   "outputs": [
    {
     "data": {
      "text/plain": [
       "[[2], [2], [3, 4], [], []]"
      ]
     },
     "execution_count": 53,
     "metadata": {},
     "output_type": "execute_result"
    }
   ],
   "source": [
    "R"
   ]
  },
  {
   "cell_type": "code",
   "execution_count": 54,
   "id": "6cf137ed",
   "metadata": {},
   "outputs": [
    {
     "data": {
      "text/plain": [
       "[3, 3, 2, 0, 0]"
      ]
     },
     "execution_count": 54,
     "metadata": {},
     "output_type": "execute_result"
    }
   ],
   "source": [
    "A"
   ]
  },
  {
   "cell_type": "code",
   "execution_count": null,
   "id": "d0b9b807",
   "metadata": {},
   "outputs": [],
   "source": []
  }
 ],
 "metadata": {
  "kernelspec": {
   "display_name": "Python 3 (ipykernel)",
   "language": "python",
   "name": "python3"
  },
  "language_info": {
   "codemirror_mode": {
    "name": "ipython",
    "version": 3
   },
   "file_extension": ".py",
   "mimetype": "text/x-python",
   "name": "python",
   "nbconvert_exporter": "python",
   "pygments_lexer": "ipython3",
   "version": "3.9.7"
  }
 },
 "nbformat": 4,
 "nbformat_minor": 5
}
