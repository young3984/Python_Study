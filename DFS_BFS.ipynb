{
 "cells": [
  {
   "cell_type": "markdown",
   "id": "aaf6ddfb",
   "metadata": {},
   "source": [
    "## DFS/BFS"
   ]
  },
  {
   "cell_type": "markdown",
   "id": "cefac301",
   "metadata": {},
   "source": [
    "#### 음료수 얼려 먹기: 예제 문제"
   ]
  },
  {
   "cell_type": "code",
   "execution_count": 1,
   "id": "07543921",
   "metadata": {},
   "outputs": [],
   "source": [
    "def Dfs(a,b):\n",
    "    if (a<=-1) | (b<=-1) | (a>=N) | (b>=M):\n",
    "        return False\n",
    "    if arr[a][b]==0:\n",
    "        arr[a][b]=1\n",
    "        Dfs(a+1,b)\n",
    "        Dfs(a,b+1)\n",
    "        Dfs(a-1,b)\n",
    "        Dfs(a,b-1)\n",
    "        return True\n",
    "    return False"
   ]
  },
  {
   "cell_type": "code",
   "execution_count": 2,
   "id": "d8add0a3",
   "metadata": {},
   "outputs": [
    {
     "name": "stdout",
     "output_type": "stream",
     "text": [
      "4 5\n",
      "00110\n",
      "00011\n",
      "11111\n",
      "00000\n",
      "3\n"
     ]
    }
   ],
   "source": [
    "N,M=map(int,input().split())\n",
    "arr=[]\n",
    "ans=0\n",
    "for ik in range(N):\n",
    "    arr.append(list(map(int,list(input()))))\n",
    "for ik in range(N):\n",
    "    for it in range(M):\n",
    "        if arr[ik][it]==0:\n",
    "            ans+=1\n",
    "            Dfs(ik,it)\n",
    "print(ans)"
   ]
  },
  {
   "cell_type": "code",
   "execution_count": 3,
   "id": "576b9db6",
   "metadata": {},
   "outputs": [],
   "source": [
    "from collections import deque\n",
    "queue=deque()"
   ]
  },
  {
   "cell_type": "markdown",
   "id": "1f37982e",
   "metadata": {},
   "source": [
    "#### 미로 찾기: 예제 문제"
   ]
  },
  {
   "cell_type": "code",
   "execution_count": 22,
   "id": "ec15fe60",
   "metadata": {},
   "outputs": [],
   "source": [
    "def Bfs(a,b,v):\n",
    "    if (a<=-1) | (b<=-1) | (a>=N) | (b>=M):\n",
    "        return False\n",
    "    if Q[a][b]==1:\n",
    "        Q[a][b]+=v\n",
    "        Bfs(a+1,b,Q[a][b])\n",
    "        Bfs(a,b+1,Q[a][b])\n",
    "        Bfs(a-1,b,Q[a][b])\n",
    "        Bfs(a,b-1,Q[a][b])\n",
    "        return True\n",
    "    return False"
   ]
  },
  {
   "cell_type": "code",
   "execution_count": 23,
   "id": "81938469",
   "metadata": {},
   "outputs": [
    {
     "name": "stdout",
     "output_type": "stream",
     "text": [
      "5 6\n",
      "101010\n",
      "111111\n",
      "000001\n",
      "111111\n",
      "111111\n",
      "10\n"
     ]
    }
   ],
   "source": [
    "N,M=map(int,input().split())\n",
    "Q=deque()\n",
    "for ik in range(N):\n",
    "    Q.append(list(map(int,list(input()))))\n",
    "Bfs(0,0,0)\n",
    "print(Q[N-1][M-1])"
   ]
  },
  {
   "cell_type": "markdown",
   "id": "f3c2bb21",
   "metadata": {},
   "source": [
    "#### 1012 유기농 배추"
   ]
  },
  {
   "cell_type": "code",
   "execution_count": 25,
   "id": "284e4ea4",
   "metadata": {},
   "outputs": [],
   "source": [
    "def Dfs(a,b):\n",
    "    if (a<=-1) | (b<=-1) | (a>=M) | (b>=N):\n",
    "        return False\n",
    "    if arr[a][b]==1:\n",
    "        arr[a][b]=0\n",
    "        Dfs(a+1,b)\n",
    "        Dfs(a,b+1)\n",
    "        Dfs(a-1,b)\n",
    "        Dfs(a,b-1)\n",
    "        return True\n",
    "    return False"
   ]
  },
  {
   "cell_type": "code",
   "execution_count": 27,
   "id": "2abd459e",
   "metadata": {},
   "outputs": [
    {
     "name": "stdout",
     "output_type": "stream",
     "text": [
      "1\n",
      "10 10 1\n",
      "5 5\n",
      "1\n"
     ]
    }
   ],
   "source": [
    "T=int(input())\n",
    "for iu in range(T):\n",
    "    M,N,K=map(int,input().split())\n",
    "    arr=[[0]*N for ik in range(M)]\n",
    "    for ik in range(K):\n",
    "        a,b=map(int,input().split())\n",
    "        arr[a][b]=1\n",
    "    ans=0\n",
    "    for ik in range(M):\n",
    "        for it in range(N):\n",
    "            if arr[ik][it]==1:\n",
    "                ans+=1\n",
    "                Dfs(ik,it)\n",
    "    print(ans)                "
   ]
  },
  {
   "cell_type": "markdown",
   "id": "e8746a40",
   "metadata": {},
   "source": [
    "#### 1260 DFS와 BFS"
   ]
  },
  {
   "cell_type": "code",
   "execution_count": null,
   "id": "b8e1555d",
   "metadata": {},
   "outputs": [],
   "source": [
    "N,M,V=map(int,input().split())\n",
    "R=[[] for ik in range(N)]\n",
    "for ik in range(M):\n",
    "    R.append(list(map(int,input().split())))\n",
    "    "
   ]
  }
 ],
 "metadata": {
  "kernelspec": {
   "display_name": "Python 3 (ipykernel)",
   "language": "python",
   "name": "python3"
  },
  "language_info": {
   "codemirror_mode": {
    "name": "ipython",
    "version": 3
   },
   "file_extension": ".py",
   "mimetype": "text/x-python",
   "name": "python",
   "nbconvert_exporter": "python",
   "pygments_lexer": "ipython3",
   "version": "3.9.7"
  }
 },
 "nbformat": 4,
 "nbformat_minor": 5
}
