{
 "cells": [
  {
   "cell_type": "markdown",
   "id": "aaf6ddfb",
   "metadata": {},
   "source": [
    "## DFS/BFS"
   ]
  },
  {
   "cell_type": "markdown",
   "id": "cefac301",
   "metadata": {},
   "source": [
    "#### 음료수 얼려 먹기: 유튜브 예제문제"
   ]
  },
  {
   "cell_type": "code",
   "execution_count": 53,
   "id": "07543921",
   "metadata": {},
   "outputs": [],
   "source": [
    "def Dfs(arr,a,b,v):\n",
    "    v[a][b]=True\n",
    "    if arr[a][b]=='0':\n",
    "        if (a+1)<N:\n",
    "            Dfs(arr,a+1,b,v)\n",
    "        if (b+1)<M:\n",
    "            Dfs(arr,a,b+1,v)"
   ]
  },
  {
   "cell_type": "code",
   "execution_count": 92,
   "id": "d8add0a3",
   "metadata": {},
   "outputs": [
    {
     "name": "stdout",
     "output_type": "stream",
     "text": [
      "0 0\n",
      "0 4\n",
      "3 0\n"
     ]
    }
   ],
   "source": [
    "N,M=map(int,input().split())\n",
    "arr=[]\n",
    "v=[[False]*M for ik in range(N)]\n",
    "ans=0\n",
    "for ik in range(N):\n",
    "    arr.append(list(input()))\n",
    "for ik in range(N):\n",
    "    for it in range(M):\n",
    "        if not v[ik][it]:\n",
    "            if arr[ik][it]=='0':\n",
    "                print(ik,it)\n",
    "                ans+=1\n",
    "            Dfs(arr,ik,it,v)"
   ]
  },
  {
   "cell_type": "code",
   "execution_count": null,
   "id": "576b9db6",
   "metadata": {},
   "outputs": [],
   "source": []
  }
 ],
 "metadata": {
  "kernelspec": {
   "display_name": "Python 3 (ipykernel)",
   "language": "python",
   "name": "python3"
  },
  "language_info": {
   "codemirror_mode": {
    "name": "ipython",
    "version": 3
   },
   "file_extension": ".py",
   "mimetype": "text/x-python",
   "name": "python",
   "nbconvert_exporter": "python",
   "pygments_lexer": "ipython3",
   "version": "3.9.7"
  }
 },
 "nbformat": 4,
 "nbformat_minor": 5
}
