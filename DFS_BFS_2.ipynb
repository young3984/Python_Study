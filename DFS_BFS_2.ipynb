{
 "cells": [
  {
   "cell_type": "markdown",
   "id": "94924fe3",
   "metadata": {},
   "source": [
    "## DFS/BFS 2"
   ]
  },
  {
   "cell_type": "markdown",
   "id": "7306971b",
   "metadata": {},
   "source": [
    "#### 19326 그림"
   ]
  },
  {
   "cell_type": "code",
   "execution_count": 1,
   "id": "8b08cde6",
   "metadata": {},
   "outputs": [],
   "source": [
    "def Dfs(a,b):\n",
    "    global A\n",
    "    if (a<=-1) | (b<=-1) | (a>=N) | (b>=M):\n",
    "        return False\n",
    "    if arr[a][b]==1:\n",
    "        A+=1\n",
    "        arr[a][b]=0\n",
    "        Dfs(a+1,b)\n",
    "        Dfs(a,b+1)\n",
    "        Dfs(a-1,b)\n",
    "        Dfs(a,b-1)\n",
    "        return True\n",
    "    return False"
   ]
  },
  {
   "cell_type": "code",
   "execution_count": 2,
   "id": "ecffef65",
   "metadata": {},
   "outputs": [
    {
     "name": "stdout",
     "output_type": "stream",
     "text": [
      "1 1\n",
      "1\n",
      "1\n",
      "1\n"
     ]
    }
   ],
   "source": [
    "N,M=map(int,input().split())\n",
    "arr=[]\n",
    "for ik in range(N):\n",
    "    arr.append(list(map(int,input().split())))\n",
    "ans1=0\n",
    "ans2=0\n",
    "for ik in range(N):\n",
    "    for it in range(M):\n",
    "        if arr[ik][it]==1:\n",
    "            ans1+=1\n",
    "            A=0\n",
    "            Dfs(ik,it)\n",
    "            ans2=max(A,ans2)\n",
    "print(ans1)\n",
    "print(ans2)"
   ]
  },
  {
   "cell_type": "markdown",
   "id": "5a47ca5b",
   "metadata": {},
   "source": [
    "#### 2583 영역 구하기"
   ]
  },
  {
   "cell_type": "code",
   "execution_count": 7,
   "id": "e38b0f6f",
   "metadata": {},
   "outputs": [],
   "source": [
    "def Dfs(a,b):\n",
    "    global A\n",
    "    if (a<=-1)|(b<=-1)|(a>=M)|(b>=N):\n",
    "        return False\n",
    "    if arr[a][b]==0:\n",
    "        arr[a][b]=1\n",
    "        A+=1\n",
    "        for ik in range(4):\n",
    "            nx=a+dx[ik]\n",
    "            ny=b+dy[ik]\n",
    "            Dfs(nx,ny)"
   ]
  },
  {
   "cell_type": "code",
   "execution_count": 12,
   "id": "83cef86f",
   "metadata": {},
   "outputs": [
    {
     "name": "stdout",
     "output_type": "stream",
     "text": [
      "3 3 2\n",
      "0 0 3 1\n",
      "0 0 1 3\n",
      "1\n",
      "4 "
     ]
    }
   ],
   "source": [
    "M,N,K=map(int,input().split())\n",
    "arr=[[0]*N for ik in range(M)]\n",
    "for ik in range(K):\n",
    "    a,b,c,d=map(int,input().split())\n",
    "    for ik in range(a,c):\n",
    "        for it in range(b,d):\n",
    "            arr[it][ik]=1\n",
    "dx=[0,0,-1,1]\n",
    "dy=[-1,1,0,0]\n",
    "ans1=0\n",
    "ans2=[]\n",
    "for ik in range(M):\n",
    "    for it in range(N):\n",
    "        if arr[ik][it]==0:\n",
    "            ans1+=1\n",
    "            A=0\n",
    "            Dfs(ik,it)\n",
    "            ans2.append(A)\n",
    "ans2.sort()\n",
    "print(ans1)\n",
    "for ik in ans2:\n",
    "    print(ik,end=' ')"
   ]
  },
  {
   "cell_type": "code",
   "execution_count": 5,
   "id": "c312bbc8",
   "metadata": {},
   "outputs": [],
   "source": [
    "def Dfs(a,b):\n",
    "    global A\n",
    "    if (a<=-1) | (b<=-1) | (a>=M) | (b>=N):\n",
    "        return False\n",
    "    if arr[a][b]==0:\n",
    "        A+=1\n",
    "        arr[a][b]=1\n",
    "        Dfs(a+1,b)\n",
    "        Dfs(a,b+1)\n",
    "        Dfs(a-1,b)\n",
    "        Dfs(a,b-1)\n",
    "        return True\n",
    "    return False"
   ]
  },
  {
   "cell_type": "code",
   "execution_count": 6,
   "id": "d3ea5133",
   "metadata": {},
   "outputs": [
    {
     "name": "stdout",
     "output_type": "stream",
     "text": [
      "5 7 3\n",
      "0 2 4 4\n",
      "1 1 2 5\n",
      "4 0 6 2\n",
      "3\n",
      "1 7 13 "
     ]
    }
   ],
   "source": [
    "M,N,K=map(int,input().split())\n",
    "arr=[[0]*N for ik in range(M)]\n",
    "for ik in range(K):\n",
    "    a,b,c,d=map(int,input().split())\n",
    "    for ik in range(a,c):\n",
    "        for it in range(b,d):\n",
    "            arr[it][ik]=1\n",
    "# dx=[0,0,-1,1]\n",
    "# dy=[-1,1,0,0]\n",
    "ans1=0\n",
    "ans2=[]\n",
    "for ik in range(M):\n",
    "    for it in range(N):\n",
    "        if arr[ik][it]==0:\n",
    "            ans1+=1\n",
    "            A=0\n",
    "            Dfs(ik,it)\n",
    "            ans2.append(A)\n",
    "ans2.sort()\n",
    "print(ans1)\n",
    "for ik in ans2:\n",
    "    print(ik,end=' ')"
   ]
  },
  {
   "cell_type": "markdown",
   "id": "51b7c93d",
   "metadata": {},
   "source": [
    "#### 2667 단지번호붙이기"
   ]
  },
  {
   "cell_type": "code",
   "execution_count": 2,
   "id": "d8ede00e",
   "metadata": {},
   "outputs": [],
   "source": [
    "def dfs(a,b):\n",
    "    global A\n",
    "    if (a<=-1)|(b<=-1)|(a>=N)|(b>=N):\n",
    "        return False \n",
    "    if arr[a][b]==1:\n",
    "        A+=1\n",
    "        arr[a][b]=0\n",
    "        dfs(a-1,b)\n",
    "        dfs(a+1,b)\n",
    "        dfs(a,b-1)\n",
    "        dfs(a,b+1)\n",
    "        return True\n",
    "    return False"
   ]
  },
  {
   "cell_type": "code",
   "execution_count": 6,
   "id": "2601c4ed",
   "metadata": {},
   "outputs": [
    {
     "name": "stdout",
     "output_type": "stream",
     "text": [
      "7\n",
      "0110100\n",
      "0110101\n",
      "1110101\n",
      "0000111\n",
      "0100000\n",
      "0111110\n",
      "0111000\n",
      "3\n",
      "7\n",
      "8\n",
      "9\n"
     ]
    }
   ],
   "source": [
    "N=int(input())\n",
    "arr=[]\n",
    "for ik in range(N):\n",
    "    arr.append(list(map(int,list(input()))))\n",
    "ans=[]\n",
    "n=0\n",
    "for ik in range(N):\n",
    "    for it in range(N):\n",
    "        if arr[ik][it]==1:\n",
    "            n+=1\n",
    "            A=0\n",
    "            dfs(ik,it)\n",
    "            ans.append(A)\n",
    "ans.sort()\n",
    "print(n)\n",
    "for ik in ans:\n",
    "    print(ik)"
   ]
  },
  {
   "cell_type": "markdown",
   "id": "32301b83",
   "metadata": {},
   "source": [
    "#### 3182 한동이는 공부가 하기 싫어!"
   ]
  },
  {
   "cell_type": "code",
   "execution_count": 10,
   "id": "478f55ce",
   "metadata": {},
   "outputs": [],
   "source": [
    "def Dfs(n):\n",
    "    if v[n-1]==0:\n",
    "        v[n-1]=1\n",
    "        Dfs(p[n])\n",
    "        return True\n",
    "    return False"
   ]
  },
  {
   "cell_type": "code",
   "execution_count": 15,
   "id": "be098cc7",
   "metadata": {},
   "outputs": [
    {
     "name": "stdout",
     "output_type": "stream",
     "text": [
      "6\n",
      "2\n",
      "3\n",
      "4\n",
      "3\n",
      "1\n",
      "1\n",
      "5\n"
     ]
    }
   ],
   "source": [
    "N=int(input())\n",
    "p={}\n",
    "ans=[]\n",
    "for ik in range(N):\n",
    "    p[ik+1]=int(input())\n",
    "for ik in range(N):\n",
    "    v=[0]*N\n",
    "    Dfs(ik+1)\n",
    "    ans.append(sum(v))\n",
    "print(ans.index(max(ans))+1)"
   ]
  },
  {
   "cell_type": "markdown",
   "id": "4c0a5441",
   "metadata": {},
   "source": [
    "#### 2468 안전 영역"
   ]
  },
  {
   "cell_type": "code",
   "execution_count": 1,
   "id": "6cfb0229",
   "metadata": {},
   "outputs": [],
   "source": [
    "def dfs(a,b,c):\n",
    "    if (a<=-1)|(b<=-1)|(a>=N)|(b>=N):\n",
    "        return False\n",
    "    if v[a][b]==0:\n",
    "        v[a][b]=1\n",
    "        if arr[a][b]>ik:\n",
    "            dfs(a+1,b,c)\n",
    "            dfs(a-1,b,c)\n",
    "            dfs(a,b+1,c)\n",
    "            dfs(a,b-1,c)\n",
    "            return True\n",
    "    return False            "
   ]
  },
  {
   "cell_type": "code",
   "execution_count": 6,
   "id": "d711d9fb",
   "metadata": {},
   "outputs": [
    {
     "name": "stdout",
     "output_type": "stream",
     "text": [
      "7\n",
      "9 9 9 9 9 9 9\n",
      "9 2 1 2 1 2 9\n",
      "9 1 8 7 8 1 9\n",
      "9 2 7 9 7 2 9\n",
      "9 1 8 7 8 1 9\n",
      "9 2 1 2 1 2 9\n",
      "9 9 9 9 9 9 9\n",
      "6\n"
     ]
    }
   ],
   "source": [
    "N=int(input())\n",
    "arr=[]\n",
    "ans=[]\n",
    "for ik in range(N):\n",
    "    arr.append(list(map(int,input().split())))\n",
    "for ik in range(100):\n",
    "    v=[[0]*N for ik in range(N)]\n",
    "    t=0\n",
    "    for it in range(N):\n",
    "        for iu in range(N):\n",
    "            if v[it][iu]==0:\n",
    "                if arr[it][iu]>ik:\n",
    "                    t+=1\n",
    "                    dfs(it,iu,ik)\n",
    "                else:\n",
    "                    v[it][iu]=1\n",
    "    ans.append(t)\n",
    "print(max(ans))"
   ]
  },
  {
   "cell_type": "markdown",
   "id": "43f211a4",
   "metadata": {},
   "source": [
    "#### 1325 효율적인 해킹"
   ]
  },
  {
   "cell_type": "code",
   "execution_count": 6,
   "id": "614396d2",
   "metadata": {},
   "outputs": [],
   "source": [
    "def bfs(a):\n",
    "    if a not in R:\n",
    "        return False\n",
    "    for ik in c[a]:\n",
    "        if ik not in v:\n",
    "            T.append(ik)\n",
    "            v.append(ik)\n",
    "    del T[0]\n",
    "    if len(T)>=1:\n",
    "        bfs(T[0])"
   ]
  },
  {
   "cell_type": "code",
   "execution_count": 11,
   "id": "8fd2f698",
   "metadata": {},
   "outputs": [
    {
     "name": "stdout",
     "output_type": "stream",
     "text": [
      "5 4\n",
      "3 1\n",
      "3 2\n",
      "4 3\n",
      "5 3\n",
      "1 2 "
     ]
    }
   ],
   "source": [
    "N,M=map(int,input().split())\n",
    "c={}\n",
    "for ik in range(M):\n",
    "    A,B=map(int,input().split())\n",
    "    if B not in c:\n",
    "        c[B]=[A]\n",
    "    else:\n",
    "        c[B].append(A)\n",
    "R=list(c.keys())\n",
    "ans=[]\n",
    "for ik in R:\n",
    "    T=[ik]\n",
    "    v=[ik]\n",
    "    bfs(ik)\n",
    "    ans.append(len(v))\n",
    "m=max(ans)\n",
    "while(1):\n",
    "    if m in ans:\n",
    "        print(R[ans.index(m)],end=' ')\n",
    "        ans[ans.index(m)]=-1\n",
    "    else:\n",
    "        break"
   ]
  },
  {
   "cell_type": "code",
   "execution_count": null,
   "id": "1814589c",
   "metadata": {},
   "outputs": [],
   "source": []
  }
 ],
 "metadata": {
  "kernelspec": {
   "display_name": "Python 3 (ipykernel)",
   "language": "python",
   "name": "python3"
  },
  "language_info": {
   "codemirror_mode": {
    "name": "ipython",
    "version": 3
   },
   "file_extension": ".py",
   "mimetype": "text/x-python",
   "name": "python",
   "nbconvert_exporter": "python",
   "pygments_lexer": "ipython3",
   "version": "3.9.7"
  }
 },
 "nbformat": 4,
 "nbformat_minor": 5
}
