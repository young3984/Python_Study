{
 "cells": [
  {
   "cell_type": "markdown",
   "id": "94924fe3",
   "metadata": {},
   "source": [
    "## DFS/BFS 2"
   ]
  },
  {
   "cell_type": "markdown",
   "id": "7306971b",
   "metadata": {},
   "source": [
    "#### 19326 그림"
   ]
  },
  {
   "cell_type": "code",
   "execution_count": 1,
   "id": "8b08cde6",
   "metadata": {},
   "outputs": [],
   "source": [
    "def Dfs(a,b):\n",
    "    global A\n",
    "    if (a<=-1) | (b<=-1) | (a>=N) | (b>=M):\n",
    "        return False\n",
    "    if arr[a][b]==1:\n",
    "        A+=1\n",
    "        arr[a][b]=0\n",
    "        Dfs(a+1,b)\n",
    "        Dfs(a,b+1)\n",
    "        Dfs(a-1,b)\n",
    "        Dfs(a,b-1)\n",
    "        return True\n",
    "    return False"
   ]
  },
  {
   "cell_type": "code",
   "execution_count": 2,
   "id": "ecffef65",
   "metadata": {},
   "outputs": [
    {
     "name": "stdout",
     "output_type": "stream",
     "text": [
      "1 1\n",
      "1\n",
      "1\n",
      "1\n"
     ]
    }
   ],
   "source": [
    "N,M=map(int,input().split())\n",
    "arr=[]\n",
    "for ik in range(N):\n",
    "    arr.append(list(map(int,input().split())))\n",
    "ans1=0\n",
    "ans2=0\n",
    "for ik in range(N):\n",
    "    for it in range(M):\n",
    "        if arr[ik][it]==1:\n",
    "            ans1+=1\n",
    "            A=0\n",
    "            Dfs(ik,it)\n",
    "            ans2=max(A,ans2)\n",
    "print(ans1)\n",
    "print(ans2)"
   ]
  },
  {
   "cell_type": "markdown",
   "id": "5487e18e",
   "metadata": {},
   "source": [
    "#### 2468 안전 영역"
   ]
  },
  {
   "cell_type": "code",
   "execution_count": 27,
   "id": "b902762a",
   "metadata": {},
   "outputs": [],
   "source": [
    "def Dfs(a,b):\n",
    "    global c\n",
    "    if (a<=-1) | (b<=-1) | (a>=N) | (b>=N):\n",
    "        return False\n",
    "    if v[a][b]==0:\n",
    "        v[a][b]=1\n",
    "        if arr[a][b]>=c:\n",
    "            Dfs(a+1,b)\n",
    "            Dfs(a,b+1)\n",
    "            Dfs(a-1,b)\n",
    "            Dfs(a,b-1)\n",
    "            return True\n",
    "        return False\n",
    "    else:\n",
    "        return False"
   ]
  },
  {
   "cell_type": "code",
   "execution_count": 34,
   "id": "6c26d99e",
   "metadata": {},
   "outputs": [
    {
     "name": "stdout",
     "output_type": "stream",
     "text": [
      "7\n",
      "9 9 9 9 9 9 9\n",
      "9 2 1 2 1 2 9\n",
      "9 1 8 7 8 1 9\n",
      "9 2 7 9 7 2 9\n",
      "9 1 8 7 8 1 9\n",
      "9 2 1 2 1 2 9\n",
      "9 9 9 9 9 9 9\n",
      "6\n"
     ]
    }
   ],
   "source": [
    "N=int(input())\n",
    "arr=[]\n",
    "M=0\n",
    "m=100\n",
    "ans=[]\n",
    "\n",
    "for ik in range(N):\n",
    "    T=list(map(int,input().split()))\n",
    "    M=max(max(T),M)\n",
    "    m=min(min(T),m)\n",
    "    arr.append(T)\n",
    "    \n",
    "for iu in range(m,M):\n",
    "    k=0\n",
    "    v=[[0]*N for ik in range(N)]\n",
    "    c=iu\n",
    "    for ik in range(N):\n",
    "        for it in range(N):\n",
    "            if v[ik][it]==0:\n",
    "                if arr[ik][it]>=c:\n",
    "                    k+=1\n",
    "                    Dfs(ik,it)\n",
    "                else:\n",
    "                    v[ik][it]=1\n",
    "                    \n",
    "    ans.append(k)\n",
    "print(max(ans))"
   ]
  },
  {
   "cell_type": "code",
   "execution_count": 33,
   "id": "8be5bcfa",
   "metadata": {},
   "outputs": [
    {
     "data": {
      "text/plain": [
       "[1, 1, 4, 5, 5, 4, 2]"
      ]
     },
     "execution_count": 33,
     "metadata": {},
     "output_type": "execute_result"
    }
   ],
   "source": [
    "ans"
   ]
  },
  {
   "cell_type": "code",
   "execution_count": 13,
   "id": "08a21943",
   "metadata": {},
   "outputs": [
    {
     "data": {
      "text/plain": [
       "[[6, 8, 2, 6, 2],\n",
       " [3, 2, 3, 4, 6],\n",
       " [6, 7, 3, 3, 2],\n",
       " [7, 2, 5, 3, 6],\n",
       " [8, 9, 5, 2, 7]]"
      ]
     },
     "execution_count": 13,
     "metadata": {},
     "output_type": "execute_result"
    }
   ],
   "source": [
    "arr"
   ]
  },
  {
   "cell_type": "code",
   "execution_count": 15,
   "id": "ca22967b",
   "metadata": {},
   "outputs": [
    {
     "data": {
      "text/plain": [
       "[[1, 1, 1, 1, 1],\n",
       " [1, 1, 1, 1, 1],\n",
       " [1, 1, 1, 1, 1],\n",
       " [1, 1, 1, 1, 1],\n",
       " [1, 1, 1, 1, 1]]"
      ]
     },
     "execution_count": 15,
     "metadata": {},
     "output_type": "execute_result"
    }
   ],
   "source": [
    "v"
   ]
  },
  {
   "cell_type": "code",
   "execution_count": null,
   "id": "29821c4f",
   "metadata": {},
   "outputs": [],
   "source": []
  }
 ],
 "metadata": {
  "kernelspec": {
   "display_name": "Python 3 (ipykernel)",
   "language": "python",
   "name": "python3"
  },
  "language_info": {
   "codemirror_mode": {
    "name": "ipython",
    "version": 3
   },
   "file_extension": ".py",
   "mimetype": "text/x-python",
   "name": "python",
   "nbconvert_exporter": "python",
   "pygments_lexer": "ipython3",
   "version": "3.9.7"
  }
 },
 "nbformat": 4,
 "nbformat_minor": 5
}
