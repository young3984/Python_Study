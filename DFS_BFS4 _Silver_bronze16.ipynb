{
 "cells": [
  {
   "cell_type": "markdown",
   "id": "419fa6e0",
   "metadata": {},
   "source": [
    "## DFS_BFS4 And Silver_bronze16"
   ]
  },
  {
   "cell_type": "markdown",
   "id": "439520bc",
   "metadata": {},
   "source": [
    "#### 1240 노드사이의 거리"
   ]
  },
  {
   "cell_type": "code",
   "execution_count": 1,
   "id": "4ac57a6e",
   "metadata": {},
   "outputs": [
    {
     "name": "stdout",
     "output_type": "stream",
     "text": [
      "4 1\n",
      "2 1 2\n",
      "4 3 2\n",
      "1 4 3\n",
      "1 2\n",
      "2\n"
     ]
    }
   ],
   "source": [
    "from collections import deque\n",
    "def bfs(A):\n",
    "    Q=deque([A])\n",
    "    c[A]=1; L[A]=0\n",
    "    while Q:\n",
    "        v=Q.popleft()\n",
    "        for ik in T[v]:\n",
    "            if c[ik[0]]==0:\n",
    "                c[ik[0]]=1\n",
    "                L[ik[0]]=L[v]+ik[1]\n",
    "                Q.append(ik[0])\n",
    "            else:\n",
    "                if L[ik[0]]>(L[v]+ik[1]):\n",
    "                    L[ik[0]]=L[v]+ik[1]\n",
    "                    Q.append(ik[0])\n",
    "N,M=map(int,input().split())\n",
    "T=[[] for ik in range(N+1)]\n",
    "for ik in range(N-1):\n",
    "    a,b,r=map(int,input().split())\n",
    "    T[a].append((b,r))\n",
    "    T[b].append((a,r))\n",
    "for ik in range(M):\n",
    "    c=[0]*(N+1)\n",
    "    L=[0]*(N+1)\n",
    "    A,B=map(int,input().split())\n",
    "    bfs(A)\n",
    "    print(L[B])"
   ]
  },
  {
   "cell_type": "markdown",
   "id": "e0e273ad",
   "metadata": {},
   "source": [
    "#### 7576 토마토"
   ]
  },
  {
   "cell_type": "code",
   "execution_count": 2,
   "id": "245d2485",
   "metadata": {},
   "outputs": [],
   "source": [
    "from collections import deque"
   ]
  },
  {
   "cell_type": "code",
   "execution_count": null,
   "id": "7dcc4306",
   "metadata": {},
   "outputs": [],
   "source": [
    "def bfs()"
   ]
  },
  {
   "cell_type": "code",
   "execution_count": 6,
   "id": "f322235b",
   "metadata": {},
   "outputs": [
    {
     "name": "stdout",
     "output_type": "stream",
     "text": [
      "6 4\n"
     ]
    }
   ],
   "source": [
    "M,N=map(int,input().split())\n",
    "ans=[[0]*N for ik in range(M)]\n",
    "T=[]\n",
    "for ik in range(M):\n",
    "    T.append(list(map(int,input().split())))\n",
    "while()"
   ]
  },
  {
   "cell_type": "code",
   "execution_count": null,
   "id": "5ab7d0c6",
   "metadata": {},
   "outputs": [],
   "source": []
  }
 ],
 "metadata": {
  "kernelspec": {
   "display_name": "Python 3 (ipykernel)",
   "language": "python",
   "name": "python3"
  },
  "language_info": {
   "codemirror_mode": {
    "name": "ipython",
    "version": 3
   },
   "file_extension": ".py",
   "mimetype": "text/x-python",
   "name": "python",
   "nbconvert_exporter": "python",
   "pygments_lexer": "ipython3",
   "version": "3.9.7"
  }
 },
 "nbformat": 4,
 "nbformat_minor": 5
}
