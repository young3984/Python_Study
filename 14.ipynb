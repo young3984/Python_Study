{
 "cells": [
  {
   "cell_type": "markdown",
   "id": "555b5338",
   "metadata": {},
   "source": [
    "#### 14490 백대열"
   ]
  },
  {
   "cell_type": "code",
   "execution_count": 3,
   "id": "c0c99290",
   "metadata": {},
   "outputs": [
    {
     "name": "stdout",
     "output_type": "stream",
     "text": [
      "18:24\n",
      "3:4\n"
     ]
    }
   ],
   "source": [
    "n,m=map(int,input().split(':'))\n",
    "a=max(n,m)\n",
    "b=min(n,m)\n",
    "while(1):\n",
    "    if a%b==0:\n",
    "        break\n",
    "    c=a%b\n",
    "    a=b\n",
    "    b=c\n",
    "print(\"%d:%d\"%(n//b,m//b))"
   ]
  },
  {
   "cell_type": "code",
   "execution_count": null,
   "id": "a5d76bcf",
   "metadata": {},
   "outputs": [],
   "source": []
  }
 ],
 "metadata": {
  "kernelspec": {
   "display_name": "Python 3 (ipykernel)",
   "language": "python",
   "name": "python3"
  },
  "language_info": {
   "codemirror_mode": {
    "name": "ipython",
    "version": 3
   },
   "file_extension": ".py",
   "mimetype": "text/x-python",
   "name": "python",
   "nbconvert_exporter": "python",
   "pygments_lexer": "ipython3",
   "version": "3.9.7"
  }
 },
 "nbformat": 4,
 "nbformat_minor": 5
}
