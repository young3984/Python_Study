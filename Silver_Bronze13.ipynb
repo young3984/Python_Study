{
 "cells": [
  {
   "cell_type": "markdown",
   "id": "46e80216",
   "metadata": {},
   "source": [
    "## Silver_Bronze13"
   ]
  },
  {
   "cell_type": "markdown",
   "id": "8e7771be",
   "metadata": {},
   "source": [
    "#### 2578 빙고"
   ]
  },
  {
   "cell_type": "code",
   "execution_count": 15,
   "id": "9eb56eeb",
   "metadata": {},
   "outputs": [
    {
     "name": "stdout",
     "output_type": "stream",
     "text": [
      "14 12 5 11 13\n",
      "9 4 3 8 25 \n",
      "18 15 19 24 20 \n",
      "1 6 7 23 17 \n",
      "22 16 10 2 21 \n",
      "17 11 9 24 6 \n",
      "23 1 2 15 12\n",
      "8 14 21 10 16 \n",
      "3 22 18 13 25\n",
      "4 5 19 7 20\n",
      "18\n"
     ]
    }
   ],
   "source": [
    "me=[]\n",
    "for ik in range(5):\n",
    "    me.append(list(map(int,input().split())))\n",
    "host=[]\n",
    "for ik in range(5):\n",
    "    host.extend(list(map(int,input().split())))\n",
    "C=[[0]*5 for ik in range(5)]\n",
    "ans=[]\n",
    "for ik in range(25):\n",
    "    for it in range(5):\n",
    "        if host[ik] in me[it]:\n",
    "            row=it\n",
    "            col=me[it].index(host[ik])\n",
    "            C[row][col]=1\n",
    "            if sum(C[row])==5:\n",
    "                ans.append(row*2)\n",
    "            if sum([C[iu][col] for iu in range(5)])==5:\n",
    "                ans.append(col*2+1)\n",
    "            if sum([C[iu][iu] for iu in range(5)])==5:\n",
    "                ans.append(100)\n",
    "            if sum([C[iu][4-iu] for iu in range(5)])==5:\n",
    "                ans.append(200)\n",
    "            break\n",
    "    if len(set(ans))>=3:\n",
    "        break\n",
    "print(ik+1)"
   ]
  },
  {
   "cell_type": "markdown",
   "id": "f3f23c34",
   "metadata": {},
   "source": [
    "#### 11971 속도위반"
   ]
  },
  {
   "cell_type": "code",
   "execution_count": 22,
   "id": "737b72b1",
   "metadata": {},
   "outputs": [
    {
     "name": "stdout",
     "output_type": "stream",
     "text": [
      "3 3\n",
      "40 75\n",
      "50 35\n",
      "10 45\n",
      "40 76\n",
      "20 30\n",
      "40 40\n"
     ]
    }
   ],
   "source": [
    "N,M=map(int,input().split())\n",
    "R=[]\n",
    "Y=[]\n",
    "for ik in range(N):\n",
    "    l,s=map(int,input().split())\n",
    "    R.extend([s]*l)\n",
    "for ik in range(M):\n",
    "    l,s=map(int,input().split())\n",
    "    Y.extend([s]*l)\n",
    "ans=[]\n",
    "for ik in range(100):\n",
    "    ans.append(Y[ik]-R[ik])\n",
    "print(max(ans))"
   ]
  },
  {
   "cell_type": "markdown",
   "id": "feb12275",
   "metadata": {},
   "source": [
    "#### 17176 암호해독기"
   ]
  },
  {
   "cell_type": "code",
   "execution_count": 29,
   "id": "26f09310",
   "metadata": {},
   "outputs": [
    {
     "name": "stdout",
     "output_type": "stream",
     "text": [
      "5\n",
      "12 3 34 52 0\n",
      "apple\n",
      "n\n"
     ]
    }
   ],
   "source": [
    "N=int(input())\n",
    "P=list(map(int,input().split()))\n",
    "a=list(input())\n",
    "A=[]\n",
    "for ik in a:\n",
    "    if ik==' ':\n",
    "        A.append(0)\n",
    "    elif ord(ik)<=90:\n",
    "        A.append(ord(ik)-64)\n",
    "    else:\n",
    "        A.append(ord(ik)-70)\n",
    "c=0\n",
    "for ik in range(53):\n",
    "    if P.count(ik)!=A.count(ik):\n",
    "        c=1\n",
    "        break\n",
    "if c==1:\n",
    "    print('n')\n",
    "else:\n",
    "    print('y')"
   ]
  },
  {
   "cell_type": "markdown",
   "id": "3a334411",
   "metadata": {},
   "source": [
    "#### 2941 크로아티아 알파벳"
   ]
  },
  {
   "cell_type": "code",
   "execution_count": 49,
   "id": "4f14ecfe",
   "metadata": {},
   "outputs": [
    {
     "name": "stdout",
     "output_type": "stream",
     "text": [
      "dz=ak\n",
      "3\n"
     ]
    }
   ],
   "source": [
    "S=input()\n",
    "n=0\n",
    "cro=['c=','c-','dz=','d-','lj','nj','s=','z=']\n",
    "for ik in cro:\n",
    "    if ik in S:\n",
    "        n+=S.count(ik)\n",
    "        S=S.replace(ik,'*')\n",
    "S=S.replace('*','')\n",
    "n+=len(S)\n",
    "print(n)"
   ]
  },
  {
   "cell_type": "markdown",
   "id": "2fcde39c",
   "metadata": {},
   "source": [
    "#### 5622 다이얼"
   ]
  },
  {
   "cell_type": "code",
   "execution_count": 52,
   "id": "ad82eb1c",
   "metadata": {},
   "outputs": [
    {
     "name": "stdout",
     "output_type": "stream",
     "text": [
      "WA\n",
      "13\n"
     ]
    }
   ],
   "source": [
    "tel=input()\n",
    "dial=['ABC','DEF','GHI','JKL','MNO','PQRS','TUV','WXYZ']\n",
    "t=len(tel)\n",
    "for ik in tel:\n",
    "    for it in dial:\n",
    "        for iu in it:\n",
    "            if ik==iu:\n",
    "                a=dial.index(it)+2\n",
    "                t+=dial.index(it)+2\n",
    "print(t)"
   ]
  },
  {
   "cell_type": "markdown",
   "id": "4fefed55",
   "metadata": {},
   "source": [
    "#### 25083 새싹"
   ]
  },
  {
   "cell_type": "code",
   "execution_count": 56,
   "id": "076d6945",
   "metadata": {},
   "outputs": [
    {
     "name": "stdout",
     "output_type": "stream",
     "text": [
      "         ,r'\"7\n",
      "r`-_   ,'  ,/\n",
      " \\. \". L_r'\n",
      "   `~\\/\n",
      "      |\n",
      "      |\n"
     ]
    }
   ],
   "source": [
    "print(\"         ,r'\\\"7\")\n",
    "print(\"r`-_   ,'  ,/\")\n",
    "print(\" \\\\. \\\". L_r'\")\n",
    "print(\"   `~\\\\/\")\n",
    "print(\"      |\")\n",
    "print(\"      |\")"
   ]
  },
  {
   "cell_type": "markdown",
   "id": "15ae58c6",
   "metadata": {},
   "source": [
    "#### 1138 한 줄로 서기"
   ]
  },
  {
   "cell_type": "code",
   "execution_count": 64,
   "id": "a63ad713",
   "metadata": {},
   "outputs": [
    {
     "name": "stdout",
     "output_type": "stream",
     "text": [
      "7\n",
      "6 1 1 1 2 0 0\n",
      "6 2 3 4 7 5 1\n"
     ]
    }
   ],
   "source": [
    "N=int(input())\n",
    "I=list(map(int,input().split()))\n",
    "ans=[0]*N\n",
    "for ik in range(N):\n",
    "    for it in range(N):\n",
    "        if ans[it]==0:\n",
    "            if I[ik]==ans[:it].count(0):\n",
    "                ans[it]=ik+1\n",
    "                break\n",
    "print(' '.join(map(str,ans)))"
   ]
  },
  {
   "cell_type": "markdown",
   "id": "764f76df",
   "metadata": {},
   "source": [
    "#### 1235 학생 번호"
   ]
  },
  {
   "cell_type": "code",
   "execution_count": 74,
   "id": "46cc2fdd",
   "metadata": {},
   "outputs": [
    {
     "name": "stdout",
     "output_type": "stream",
     "text": [
      "3\n",
      "1212345\n",
      "1212356\n",
      "0033445\n",
      "3\n"
     ]
    }
   ],
   "source": [
    "N=int(input())\n",
    "num=[]\n",
    "for ik in range(N):\n",
    "    num.append(input())\n",
    "M=len(num[0])\n",
    "for ik in range(1,M+1):\n",
    "    temp=[]\n",
    "    for it in range(N):\n",
    "        temp.append(num[it][-ik:])\n",
    "    if len(set(temp))==N:\n",
    "        print(ik)\n",
    "        break"
   ]
  },
  {
   "cell_type": "markdown",
   "id": "a91545f3",
   "metadata": {},
   "source": [
    "#### 1263 시간 관리"
   ]
  },
  {
   "cell_type": "code",
   "execution_count": 84,
   "id": "f6715faf",
   "metadata": {},
   "outputs": [
    {
     "name": "stdout",
     "output_type": "stream",
     "text": [
      "4\n",
      "3 5\n",
      "8 14\n",
      "5 20\n",
      "1 16\n",
      "2\n"
     ]
    }
   ],
   "source": [
    "N=int(input())\n",
    "W=[]\n",
    "for ik in range(N):\n",
    "    a,b=map(int,input().split())\n",
    "    W.append([b,a])\n",
    "W.sort()\n",
    "a=W[0][0]\n",
    "ans=W[0][0]-W[0][1]\n",
    "c=0\n",
    "for ik in range(1,N):\n",
    "    a+=W[ik][1]\n",
    "    if a>W[ik][0]:\n",
    "        ans-=(a-W[ik][0])\n",
    "        a-=(a-W[ik][0])\n",
    "    if ans<0:\n",
    "        ans=-1\n",
    "        break\n",
    "print(ans)"
   ]
  },
  {
   "cell_type": "markdown",
   "id": "8ed1f261",
   "metadata": {},
   "source": [
    "#### 9093 단어 뒤집기"
   ]
  },
  {
   "cell_type": "code",
   "execution_count": 105,
   "id": "4d334db4",
   "metadata": {},
   "outputs": [
    {
     "name": "stdout",
     "output_type": "stream",
     "text": [
      "2\n",
      "I am happy today\n",
      "I ma yppah yadot \n",
      "We want to win the first prize\n",
      "eW tnaw ot niw eht tsrif ezirp \n"
     ]
    }
   ],
   "source": [
    "T=int(input())\n",
    "for ik in range(T):\n",
    "    S=list(input().split())\n",
    "    for it in S:\n",
    "        w=list(it)\n",
    "        w.reverse()\n",
    "        print(''.join(w),end=' ')\n",
    "    print()"
   ]
  },
  {
   "cell_type": "markdown",
   "id": "bed97999",
   "metadata": {},
   "source": [
    "#### 18129 이상한 암호코드"
   ]
  },
  {
   "cell_type": "code",
   "execution_count": 134,
   "id": "72de94f2",
   "metadata": {},
   "outputs": [
    {
     "name": "stdout",
     "output_type": "stream",
     "text": [
      "AAAABBBC 3\n",
      "110\n"
     ]
    }
   ],
   "source": [
    "S,K=input().split()\n",
    "S=S.lower()\n",
    "s=[]\n",
    "t=S[0]\n",
    "for ik in range(1,len(S)):\n",
    "    if S[ik-1]!=S[ik]:\n",
    "        s.append(t)\n",
    "        t=S[ik]\n",
    "    else:\n",
    "        t+=S[ik]\n",
    "s.append(t)\n",
    "C=[]\n",
    "ans=''\n",
    "for ik in s:\n",
    "    if ik[0] not in C:\n",
    "        if len(ik)>=int(K):\n",
    "            ans+='1'\n",
    "            C.append(ik[0])\n",
    "        else:\n",
    "            ans+='0'\n",
    "            C.append(ik[0])\n",
    "print(ans)"
   ]
  },
  {
   "cell_type": "markdown",
   "id": "43e8b4e5",
   "metadata": {},
   "source": [
    "#### 23351 물주기"
   ]
  },
  {
   "cell_type": "code",
   "execution_count": 145,
   "id": "1ea1528a",
   "metadata": {},
   "outputs": [
    {
     "name": "stdout",
     "output_type": "stream",
     "text": [
      "6 3 2 2\n",
      "5\n"
     ]
    }
   ],
   "source": [
    "N,K,A,B=map(int,input().split())\n",
    "arr=[K]*N\n",
    "it=1\n",
    "while(1):\n",
    "    if arr[0]==0:\n",
    "        break\n",
    "    for ik in range(A):\n",
    "        arr[ik]+=B\n",
    "    for ik in range(N):\n",
    "        arr[ik]-=1\n",
    "    arr.sort()\n",
    "    if arr[0]==0:\n",
    "        break\n",
    "    it+=1\n",
    "print(it)"
   ]
  },
  {
   "cell_type": "markdown",
   "id": "2d47c3bd",
   "metadata": {},
   "source": [
    "#### 11576 Base Conversion"
   ]
  },
  {
   "cell_type": "code",
   "execution_count": 154,
   "id": "5b6563aa",
   "metadata": {},
   "outputs": [
    {
     "name": "stdout",
     "output_type": "stream",
     "text": [
      "17 8\n",
      "2\n",
      "2 16\n",
      "6 2\n"
     ]
    }
   ],
   "source": [
    "A,B=map(int,input().split())\n",
    "m=int(input())\n",
    "N=list(map(int,input().split()))\n",
    "num=0\n",
    "for ik in range(m):\n",
    "    num+=N[-(ik+1)]*(A**(ik))\n",
    "ans=[]\n",
    "while(1):\n",
    "    ans.insert(0,num%B)\n",
    "    num=num//B\n",
    "    if num==0:\n",
    "        break\n",
    "print(' '.join(map(str,ans)))"
   ]
  },
  {
   "cell_type": "markdown",
   "id": "84e5550a",
   "metadata": {},
   "source": [
    "#### 14495 피보나치 비스무리한 수열"
   ]
  },
  {
   "cell_type": "code",
   "execution_count": 156,
   "id": "df0cf313",
   "metadata": {},
   "outputs": [
    {
     "name": "stdout",
     "output_type": "stream",
     "text": [
      "10\n"
     ]
    }
   ],
   "source": [
    "N=int(input())\n",
    "arr=[1,1,1]\n",
    "for ik in range(N-3):\n",
    "    arr.append(arr[-1]+arr[-3])\n",
    "print(arr[-1])"
   ]
  },
  {
   "cell_type": "markdown",
   "id": "d5d1d831",
   "metadata": {},
   "source": [
    "#### 20001 고무오리 디버깅"
   ]
  },
  {
   "cell_type": "code",
   "execution_count": 163,
   "id": "21fe5f76",
   "metadata": {},
   "outputs": [
    {
     "name": "stdout",
     "output_type": "stream",
     "text": [
      "고무오리 디버깅 시작\n",
      "고무오리\n",
      "고무오리 디버깅 끝\n",
      "힝구\n"
     ]
    }
   ],
   "source": [
    "S=input()\n",
    "P=0\n",
    "while(1):\n",
    "    S=input()\n",
    "    if S==\"고무오리 디버깅 끝\":\n",
    "        break\n",
    "    if S==\"문제\":\n",
    "        P+=1\n",
    "    else:\n",
    "        if P==0:\n",
    "            P+=2\n",
    "        else:\n",
    "            P-=1\n",
    "if P==0:\n",
    "    print(\"고무오리야 사랑해\")\n",
    "else:\n",
    "    print(\"힝구\")"
   ]
  },
  {
   "cell_type": "markdown",
   "id": "dcecd70b",
   "metadata": {},
   "source": [
    "#### 1747 소수&팰린드롬"
   ]
  },
  {
   "cell_type": "code",
   "execution_count": 207,
   "id": "f0183b2b",
   "metadata": {},
   "outputs": [
    {
     "name": "stdout",
     "output_type": "stream",
     "text": [
      "2\n",
      "2\n"
     ]
    }
   ],
   "source": [
    "N=int(input())\n",
    "if N==1:\n",
    "    print(2)\n",
    "else:\n",
    "    N-=1\n",
    "    while(1):\n",
    "        N+=1\n",
    "        c=0\n",
    "        for ik in range(2,int(N**(1/2))+1):\n",
    "            if N%ik==0:\n",
    "                c=1\n",
    "                break\n",
    "        if c==0:\n",
    "            a=list(str(N))\n",
    "            if a==list(reversed(a)):\n",
    "                break\n",
    "    print(N)"
   ]
  },
  {
   "cell_type": "markdown",
   "id": "a35d3dd0",
   "metadata": {},
   "source": [
    "#### 17269 이름궁합 테스트"
   ]
  },
  {
   "cell_type": "code",
   "execution_count": 228,
   "id": "03e48c8f",
   "metadata": {},
   "outputs": [
    {
     "name": "stdout",
     "output_type": "stream",
     "text": [
      "8 14\n",
      "LEESIYUN MIYAWAKISAKURA\n",
      "27%\n"
     ]
    }
   ],
   "source": [
    "N,M=map(int,input().split())\n",
    "A,B=input().split()\n",
    "W=[3,2,1,2,4,3,1,3,1,1,3,1,3,2,1,2,2,2,1,2,1,1,1,2,2,1]\n",
    "T=''\n",
    "for ik in range(min(N,M)):\n",
    "    T+=A[ik]\n",
    "    T+=B[ik]\n",
    "T+=A[min(N,M):]\n",
    "T+=B[min(N,M):]\n",
    "arr1=[]\n",
    "arr2=[]\n",
    "for ik in T:\n",
    "    arr1.append(W[ord(ik)-65])\n",
    "while(1):\n",
    "    for ik in range(1,len(arr1)):\n",
    "        arr2.append((arr1[ik-1]+arr1[ik])%10)\n",
    "    if len(arr2)==2:\n",
    "        break\n",
    "    arr1=arr2\n",
    "    arr2=[]\n",
    "print(\"%d%%\"%(arr2[0]*10+arr2[1]))"
   ]
  },
  {
   "cell_type": "markdown",
   "id": "668c979c",
   "metadata": {},
   "source": [
    "#### 14501 퇴사"
   ]
  },
  {
   "cell_type": "code",
   "execution_count": 4,
   "id": "7ca27a73",
   "metadata": {},
   "outputs": [
    {
     "name": "stdout",
     "output_type": "stream",
     "text": [
      "10 \n",
      "5 50\n",
      "4 40\n",
      "3 30\n",
      "2 20\n",
      "1 10\n",
      "1 10\n",
      "2 20\n",
      "3 30\n",
      "4 40\n",
      "5 50\n",
      "90\n"
     ]
    }
   ],
   "source": [
    "N=int(input())\n",
    "S=[]\n",
    "ans=[0]*(N+1)\n",
    "for ik in range(N):\n",
    "    S.append(list(map(int,input().split())))\n",
    "for ik in range(1,N+1):\n",
    "    if ik+S[ik-1][0]-1<N+1:\n",
    "        ans[ik+S[ik-1][0]-1]=max(ans[ik-1]+S[ik-1][1],ans[ik+S[ik-1][0]-1])\n",
    "    ans[ik]=max(ans[ik],ans[ik-1])\n",
    "print(ans[-1])"
   ]
  },
  {
   "cell_type": "code",
   "execution_count": null,
   "id": "344b4a61",
   "metadata": {},
   "outputs": [],
   "source": []
  },
  {
   "cell_type": "code",
   "execution_count": null,
   "id": "11191f40",
   "metadata": {},
   "outputs": [],
   "source": []
  },
  {
   "cell_type": "code",
   "execution_count": null,
   "id": "dc66f338",
   "metadata": {},
   "outputs": [],
   "source": []
  }
 ],
 "metadata": {
  "kernelspec": {
   "display_name": "Python 3 (ipykernel)",
   "language": "python",
   "name": "python3"
  },
  "language_info": {
   "codemirror_mode": {
    "name": "ipython",
    "version": 3
   },
   "file_extension": ".py",
   "mimetype": "text/x-python",
   "name": "python",
   "nbconvert_exporter": "python",
   "pygments_lexer": "ipython3",
   "version": "3.9.7"
  }
 },
 "nbformat": 4,
 "nbformat_minor": 5
}
