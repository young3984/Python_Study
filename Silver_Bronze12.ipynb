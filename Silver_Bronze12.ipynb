{
 "cells": [
  {
   "cell_type": "markdown",
   "id": "08bdb20e",
   "metadata": {},
   "source": [
    "#### 17427 약수의 합2"
   ]
  },
  {
   "cell_type": "code",
   "execution_count": 135,
   "id": "3711f144",
   "metadata": {},
   "outputs": [
    {
     "name": "stdout",
     "output_type": "stream",
     "text": [
      "100000\n",
      "8224740835\n"
     ]
    }
   ],
   "source": [
    "N=int(input())\n",
    "ans=0\n",
    "for ik in range(1,N+1):\n",
    "    ans+=(N//ik)*ik\n",
    "print(ans)"
   ]
  },
  {
   "cell_type": "markdown",
   "id": "d4176b2b",
   "metadata": {},
   "source": [
    "#### 2740 행렬곱셈"
   ]
  },
  {
   "cell_type": "code",
   "execution_count": 24,
   "id": "f5814a6d",
   "metadata": {},
   "outputs": [
    {
     "name": "stdout",
     "output_type": "stream",
     "text": [
      "3 2\n",
      "1 2\n",
      "3 4\n",
      "5 6\n",
      "2 3\n",
      "-1 -2 0\n",
      "0 0 3\n",
      "-1 -2 6\n",
      "-3 -6 12\n",
      "-5 -10 18\n"
     ]
    }
   ],
   "source": [
    "N,M=map(int,input().split())\n",
    "arr1=[]\n",
    "for ik in range(N):\n",
    "    arr1.append(list(map(int,input().split())))\n",
    "M,K=map(int,input().split())\n",
    "arr2=[]\n",
    "for ik in range(M):\n",
    "    arr2.append(list(map(int,input().split())))\n",
    "for ik in range(N):\n",
    "    k=[]\n",
    "    for it in range(K):\n",
    "        temp=0\n",
    "        for iu in range(M):\n",
    "            temp+=arr1[ik][iu]*arr2[iu][it]\n",
    "        k.append(temp)\n",
    "    print(' '.join(list(map(str,k))))"
   ]
  },
  {
   "cell_type": "markdown",
   "id": "146fa798",
   "metadata": {},
   "source": [
    "#### 3053 택시 기하학"
   ]
  },
  {
   "cell_type": "code",
   "execution_count": 38,
   "id": "0a8ce327",
   "metadata": {},
   "outputs": [
    {
     "name": "stdout",
     "output_type": "stream",
     "text": [
      "42\n",
      "5541.769441\n",
      "3528.000000\n"
     ]
    }
   ],
   "source": [
    "pi=3.14159265359\n",
    "R=float(input())\n",
    "print(\"%.6lf\"%(R*R*pi))\n",
    "print(\"%.6lf\"%(R*R*2))"
   ]
  },
  {
   "cell_type": "markdown",
   "id": "41fd60d0",
   "metadata": {},
   "source": [
    "#### 1269 대칭 차집합"
   ]
  },
  {
   "cell_type": "code",
   "execution_count": 50,
   "id": "3d360859",
   "metadata": {},
   "outputs": [
    {
     "name": "stdout",
     "output_type": "stream",
     "text": [
      "3 5\n",
      "1 2 4\n",
      "2 3 4 5 6\n",
      "4\n"
     ]
    }
   ],
   "source": [
    "N,M=map(int,input().split())\n",
    "A=set(map(int,input().split()))\n",
    "B=set(map(int,input().split()))\n",
    "print(len(A-B)+len(B-A))"
   ]
  },
  {
   "cell_type": "markdown",
   "id": "cdf8086b",
   "metadata": {},
   "source": [
    "#### 2420 사파리월드"
   ]
  },
  {
   "cell_type": "code",
   "execution_count": 51,
   "id": "7b15a10a",
   "metadata": {},
   "outputs": [
    {
     "name": "stdout",
     "output_type": "stream",
     "text": [
      "-2 5\n",
      "7\n"
     ]
    }
   ],
   "source": [
    "N,M=map(int,input().split())\n",
    "print(abs(N-M))"
   ]
  },
  {
   "cell_type": "markdown",
   "id": "3b1f3775",
   "metadata": {},
   "source": [
    "#### 1051 숫자 정사각형"
   ]
  },
  {
   "cell_type": "code",
   "execution_count": 21,
   "id": "7d909ea1",
   "metadata": {},
   "outputs": [
    {
     "name": "stdout",
     "output_type": "stream",
     "text": [
      "11 10\n",
      "9785409507\n",
      "2055103694\n",
      "0861396761\n",
      "3073207669\n",
      "1233049493\n",
      "2300248968\n",
      "9769239548\n",
      "7984130001\n",
      "1670020095\n",
      "8894239889\n",
      "4053971072\n",
      "49\n"
     ]
    }
   ],
   "source": [
    "N,M=map(int,input().split())\n",
    "arr=[]\n",
    "for ik in range(N):\n",
    "    temp=list(input())\n",
    "    temp=list(map(int,temp))\n",
    "    arr.append(temp)\n",
    "s=min(N,M)\n",
    "k=0\n",
    "for ik in range(s):\n",
    "    c=s-ik\n",
    "    for it in range(N-c+1):\n",
    "        for iu in range(M-c+1):\n",
    "            if arr[it][iu]==arr[it][iu+c-1]==arr[it+c-1][iu]==arr[it+c-1][iu+c-1]:\n",
    "                print(c*c)\n",
    "                k=1\n",
    "                break\n",
    "        if k==1:\n",
    "            break\n",
    "    if k==1:\n",
    "        break"
   ]
  },
  {
   "cell_type": "markdown",
   "id": "d78f8217",
   "metadata": {},
   "source": [
    "#### 3613 JAVA vs C++"
   ]
  },
  {
   "cell_type": "code",
   "execution_count": 39,
   "id": "e0268ead",
   "metadata": {},
   "outputs": [
    {
     "name": "stdout",
     "output_type": "stream",
     "text": [
      "_a\n",
      "Error!\n"
     ]
    }
   ],
   "source": [
    "sen=input()\n",
    "ans=[]\n",
    "if '_' in sen:\n",
    "    if sen[0]=='_':\n",
    "        ans=list(\"Error!\")\n",
    "    elif sen[-1]=='_':\n",
    "        ans=list(\"Error!\")\n",
    "    else:\n",
    "        c=0\n",
    "        for ik in sen:\n",
    "            if ord(ik)<91:\n",
    "                ans=list(\"Error!\")\n",
    "                break\n",
    "            elif ik=='_':\n",
    "                if c==1:\n",
    "                    ans=list(\"Error!\")\n",
    "                    break\n",
    "                c=1\n",
    "            else:\n",
    "                if c==1:\n",
    "                    ans.append(chr(ord(ik)-32))\n",
    "                    c=0\n",
    "                else:\n",
    "                    ans.append(ik)\n",
    "else:\n",
    "    if ord(sen[0])<91:\n",
    "        ans=list(\"Error!\")\n",
    "    else:\n",
    "        for ik in sen:\n",
    "            if ord(ik)<91:\n",
    "                ans.append('_')\n",
    "                ans.append(chr(ord(ik)+32))\n",
    "            else:\n",
    "                ans.append(ik)\n",
    "print(''.join(ans))"
   ]
  },
  {
   "cell_type": "markdown",
   "id": "6c6af568",
   "metadata": {},
   "source": [
    "#### 14726 신용카드 판별"
   ]
  },
  {
   "cell_type": "code",
   "execution_count": 9,
   "id": "8e81aaab",
   "metadata": {},
   "outputs": [
    {
     "name": "stdout",
     "output_type": "stream",
     "text": [
      "3\n",
      "2720992711828767\n",
      "T\n",
      "3444063910462763\n",
      "F\n",
      "6011733895106094\n",
      "T\n"
     ]
    }
   ],
   "source": [
    "# Case 1\n",
    "T=int(input())\n",
    "for ik in range(T):\n",
    "    C=list(map(int,list(input())))\n",
    "    for it in range(-2,-len(C)-1,-2):\n",
    "        C[it]=(C[it]*2)//10+(C[it]*2)%10\n",
    "    if sum(C)%10==0:\n",
    "        print(\"T\")\n",
    "    else:\n",
    "        print(\"F\")       "
   ]
  },
  {
   "cell_type": "code",
   "execution_count": 10,
   "id": "01b7e79f",
   "metadata": {},
   "outputs": [
    {
     "name": "stdout",
     "output_type": "stream",
     "text": [
      "3\n",
      "2720992711828767\n",
      "T\n",
      "3444063910462763\n",
      "F\n",
      "6011733895106094\n",
      "T\n"
     ]
    }
   ],
   "source": [
    "# Case 2\n",
    "T=int(input())\n",
    "for ik in range(T):\n",
    "    C=list(map(int,list(input())))\n",
    "    for it in range(0,len(C),2):\n",
    "        C[it]=(C[it]*2)//10+(C[it]*2)%10\n",
    "    if sum(C)%10==0:\n",
    "        print(\"T\")\n",
    "    else:\n",
    "        print(\"F\")     "
   ]
  },
  {
   "cell_type": "markdown",
   "id": "7804bf49",
   "metadata": {},
   "source": [
    "#### 11508 2+1 세일"
   ]
  },
  {
   "cell_type": "code",
   "execution_count": 16,
   "id": "24053d92",
   "metadata": {},
   "outputs": [
    {
     "name": "stdout",
     "output_type": "stream",
     "text": [
      "6\n",
      "6\n",
      "4\n",
      "5\n",
      "5\n",
      "5\n",
      "5\n",
      "21\n"
     ]
    }
   ],
   "source": [
    "N=int(input())\n",
    "arr=[]\n",
    "for ik in range(N):\n",
    "    arr.append(int(input()))\n",
    "arr.sort(reverse=1)\n",
    "cost=0\n",
    "for ik in range(N//3):\n",
    "    cost+=(arr[3*ik]+arr[3*ik+1])\n",
    "for ik in range(N%3):\n",
    "    cost+=arr[-ik-1]\n",
    "print(cost)"
   ]
  },
  {
   "cell_type": "markdown",
   "id": "be4e0217",
   "metadata": {},
   "source": [
    "#### 11501 주식"
   ]
  },
  {
   "cell_type": "code",
   "execution_count": 53,
   "id": "ba105576",
   "metadata": {},
   "outputs": [
    {
     "name": "stdout",
     "output_type": "stream",
     "text": [
      "1\n",
      "7\n",
      "1 2 3 4 2 1 1\n",
      "6\n"
     ]
    }
   ],
   "source": [
    "# 뒤로풀기\n",
    "T=int(input())\n",
    "for ik in range(T):\n",
    "    N=int(input())\n",
    "    infor=list(map(int,input().split()))\n",
    "    ans=0\n",
    "    M=0\n",
    "    for ik in range(N-1,-1,-1):\n",
    "        if M<infor[ik]:\n",
    "            M=infor[ik]\n",
    "        else:\n",
    "            ans+=(M-infor[ik])\n",
    "    print(ans)"
   ]
  },
  {
   "cell_type": "markdown",
   "id": "ab8b5599",
   "metadata": {},
   "source": [
    "#### 16165 걸그룹 마스터 준석이"
   ]
  },
  {
   "cell_type": "code",
   "execution_count": 10,
   "id": "2e05b16e",
   "metadata": {},
   "outputs": [
    {
     "name": "stdout",
     "output_type": "stream",
     "text": [
      "3 4\n",
      "twice\n",
      "9\n",
      "jihyo\n",
      "dahyeon\n",
      "mina\n",
      "momo\n",
      "chaeyoung\n",
      "jeongyeon\n",
      "tzuyu\n",
      "sana\n",
      "nayeon\n",
      "blackpink\n",
      "4\n",
      "jisu\n",
      "lisa\n",
      "rose\n",
      "jenny\n",
      "redvelvet\n",
      "5\n",
      "wendy\n",
      "irene\n",
      "seulgi\n",
      "yeri\n",
      "joy\n"
     ]
    }
   ],
   "source": [
    "N,M=map(int,input().split())\n",
    "dict={}\n",
    "for ik in range(N):\n",
    "    G=input()\n",
    "    dict[G]=[]\n",
    "    num=int(input())\n",
    "    for ik in range(num):\n",
    "        name=input()\n",
    "        dict[G].append(name)\n",
    "for ik in range(M):\n",
    "    Q=input()\n",
    "    n=int(input())\n",
    "    if n==1:\n",
    "        for it in dict:\n",
    "            if Q in dict[it]:\n",
    "                print(it)\n",
    "                break\n",
    "    if n==0:\n",
    "        arr=dict[Q]\n",
    "        arr.sort()\n",
    "        for it in arr:\n",
    "            print(it)"
   ]
  },
  {
   "cell_type": "markdown",
   "id": "0293f408",
   "metadata": {},
   "source": [
    "#### 12927 배수 스위치"
   ]
  },
  {
   "cell_type": "code",
   "execution_count": 20,
   "id": "b84f4935",
   "metadata": {},
   "outputs": [
    {
     "name": "stdout",
     "output_type": "stream",
     "text": [
      "YYYNYYYNYYYNYYNYYYYN\n",
      "4\n"
     ]
    }
   ],
   "source": [
    "L=list(input())\n",
    "ans=0\n",
    "while(1):\n",
    "    if 'Y' in L:\n",
    "        ans+=1\n",
    "        n=L.index('Y')\n",
    "        for ik in range(n,len(L),n+1):\n",
    "            if L[ik]=='Y':\n",
    "                L[ik]='N'\n",
    "            else:\n",
    "                L[ik]='Y'\n",
    "    else:\n",
    "        break\n",
    "print(ans)    "
   ]
  },
  {
   "cell_type": "markdown",
   "id": "2c356962",
   "metadata": {},
   "source": [
    "#### 10994 별찍기 - 19"
   ]
  },
  {
   "cell_type": "code",
   "execution_count": 90,
   "id": "b4e5a7f8",
   "metadata": {},
   "outputs": [
    {
     "name": "stdout",
     "output_type": "stream",
     "text": [
      "5\n",
      "***************** \n",
      "*               * \n",
      "* ************* * \n",
      "* *           * * \n",
      "* * ********* * * \n",
      "* * *       * * * \n",
      "* * * ***** * * * \n",
      "* * * *   * * * * \n",
      "* * * * * * * * * \n",
      "* * * *   * * * * \n",
      "* * * ***** * * * \n",
      "* * *       * * * \n",
      "* * ********* * * \n",
      "* *           * * \n",
      "* ************* * \n",
      "*               * \n",
      "***************** \n"
     ]
    }
   ],
   "source": [
    "N=int(input())\n",
    "# 윗 부분\n",
    "for ik in range(N-1):\n",
    "    for it in range(2*ik):\n",
    "        if it%2==1:\n",
    "            print(' ',end='')\n",
    "        else:\n",
    "            print(\"*\",end='')\n",
    "    print(\"*\"*(4*(N-ik)-3),end=' ')\n",
    "    for it in range(2*ik):\n",
    "        if it%2==1:\n",
    "            print(' ',end='')\n",
    "        else:\n",
    "            print(\"*\",end='')\n",
    "    print()\n",
    "    for it in range(2*(ik+1)):\n",
    "        if it%2==1:\n",
    "            print(' ',end='')\n",
    "        else:\n",
    "            print(\"*\",end='')\n",
    "    print(\" \"*(4*(N-(ik+1))-3),end=' ')\n",
    "    for it in range(2*(ik+1)):\n",
    "        if it%2==1:\n",
    "            print(' ',end='')\n",
    "        else:\n",
    "            print(\"*\",end='')\n",
    "    print()\n",
    "# 중간 부분\n",
    "print(\"* \"*(2*N-1))\n",
    "# 아랫 부분\n",
    "for ik in range(N-2,-1,-1):\n",
    "    for it in range(2*(ik+1)):\n",
    "        if it%2==1:\n",
    "            print(' ',end='')\n",
    "        else:\n",
    "            print(\"*\",end='')\n",
    "    print(\" \"*(4*(N-(ik+1))-3),end=' ')\n",
    "    for it in range(2*(ik+1)):\n",
    "        if it%2==1:\n",
    "            print(' ',end='')\n",
    "        else:\n",
    "            print(\"*\",end='')\n",
    "    print()\n",
    "    for it in range(2*ik):\n",
    "        if it%2==1:\n",
    "            print(' ',end='')\n",
    "        else:\n",
    "            print(\"*\",end='')\n",
    "    print(\"*\"*(4*(N-ik)-3),end=' ')\n",
    "    for it in range(2*ik):\n",
    "        if it%2==1:\n",
    "            print(' ',end='')\n",
    "        else:\n",
    "            print(\"*\",end='')\n",
    "    print()"
   ]
  },
  {
   "cell_type": "markdown",
   "id": "5db24eb7",
   "metadata": {},
   "source": [
    "#### 1302 베스트 셀러"
   ]
  },
  {
   "cell_type": "code",
   "execution_count": 24,
   "id": "076304ea",
   "metadata": {},
   "outputs": [
    {
     "data": {
      "text/plain": [
       "{'kimtop': 1, 'top': 4}"
      ]
     },
     "execution_count": 24,
     "metadata": {},
     "output_type": "execute_result"
    }
   ],
   "source": [
    "dict(B)"
   ]
  },
  {
   "cell_type": "code",
   "execution_count": null,
   "id": "d2a1a654",
   "metadata": {},
   "outputs": [],
   "source": []
  }
 ],
 "metadata": {
  "kernelspec": {
   "display_name": "Python 3 (ipykernel)",
   "language": "python",
   "name": "python3"
  },
  "language_info": {
   "codemirror_mode": {
    "name": "ipython",
    "version": 3
   },
   "file_extension": ".py",
   "mimetype": "text/x-python",
   "name": "python",
   "nbconvert_exporter": "python",
   "pygments_lexer": "ipython3",
   "version": "3.9.7"
  }
 },
 "nbformat": 4,
 "nbformat_minor": 5
}
