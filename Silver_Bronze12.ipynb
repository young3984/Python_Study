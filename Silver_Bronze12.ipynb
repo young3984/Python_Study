{
 "cells": [
  {
   "cell_type": "markdown",
   "id": "08bdb20e",
   "metadata": {},
   "source": [
    "#### 17427 약수의 합2"
   ]
  },
  {
   "cell_type": "code",
   "execution_count": 135,
   "id": "3711f144",
   "metadata": {},
   "outputs": [
    {
     "name": "stdout",
     "output_type": "stream",
     "text": [
      "100000\n",
      "8224740835\n"
     ]
    }
   ],
   "source": [
    "N=int(input())\n",
    "ans=0\n",
    "for ik in range(1,N+1):\n",
    "    ans+=(N//ik)*ik\n",
    "print(ans)"
   ]
  },
  {
   "cell_type": "markdown",
   "id": "d4176b2b",
   "metadata": {},
   "source": [
    "#### 2740 행렬곱셈"
   ]
  },
  {
   "cell_type": "code",
   "execution_count": 24,
   "id": "f5814a6d",
   "metadata": {},
   "outputs": [
    {
     "name": "stdout",
     "output_type": "stream",
     "text": [
      "3 2\n",
      "1 2\n",
      "3 4\n",
      "5 6\n",
      "2 3\n",
      "-1 -2 0\n",
      "0 0 3\n",
      "-1 -2 6\n",
      "-3 -6 12\n",
      "-5 -10 18\n"
     ]
    }
   ],
   "source": [
    "N,M=map(int,input().split())\n",
    "arr1=[]\n",
    "for ik in range(N):\n",
    "    arr1.append(list(map(int,input().split())))\n",
    "M,K=map(int,input().split())\n",
    "arr2=[]\n",
    "for ik in range(M):\n",
    "    arr2.append(list(map(int,input().split())))\n",
    "for ik in range(N):\n",
    "    k=[]\n",
    "    for it in range(K):\n",
    "        temp=0\n",
    "        for iu in range(M):\n",
    "            temp+=arr1[ik][iu]*arr2[iu][it]\n",
    "        k.append(temp)\n",
    "    print(' '.join(list(map(str,k))))"
   ]
  },
  {
   "cell_type": "markdown",
   "id": "2a5186a2",
   "metadata": {},
   "source": [
    "#### 별찍기 - 19"
   ]
  },
  {
   "cell_type": "code",
   "execution_count": null,
   "id": "024b5ae8",
   "metadata": {},
   "outputs": [],
   "source": []
  },
  {
   "cell_type": "markdown",
   "id": "146fa798",
   "metadata": {},
   "source": [
    "#### 3053 택시 기하학"
   ]
  },
  {
   "cell_type": "code",
   "execution_count": 38,
   "id": "0a8ce327",
   "metadata": {},
   "outputs": [
    {
     "name": "stdout",
     "output_type": "stream",
     "text": [
      "42\n",
      "5541.769441\n",
      "3528.000000\n"
     ]
    }
   ],
   "source": [
    "pi=3.14159265359\n",
    "R=float(input())\n",
    "print(\"%.6lf\"%(R*R*pi))\n",
    "print(\"%.6lf\"%(R*R*2))"
   ]
  },
  {
   "cell_type": "markdown",
   "id": "41fd60d0",
   "metadata": {},
   "source": [
    "#### 1269 대칭 차집합"
   ]
  },
  {
   "cell_type": "code",
   "execution_count": 50,
   "id": "3d360859",
   "metadata": {},
   "outputs": [
    {
     "name": "stdout",
     "output_type": "stream",
     "text": [
      "3 5\n",
      "1 2 4\n",
      "2 3 4 5 6\n",
      "4\n"
     ]
    }
   ],
   "source": [
    "N,M=map(int,input().split())\n",
    "A=set(map(int,input().split()))\n",
    "B=set(map(int,input().split()))\n",
    "print(len(A-B)+len(B-A))"
   ]
  },
  {
   "cell_type": "markdown",
   "id": "cdf8086b",
   "metadata": {},
   "source": [
    "#### 2420 사파리월드"
   ]
  },
  {
   "cell_type": "code",
   "execution_count": 51,
   "id": "7b15a10a",
   "metadata": {},
   "outputs": [
    {
     "name": "stdout",
     "output_type": "stream",
     "text": [
      "-2 5\n",
      "7\n"
     ]
    }
   ],
   "source": [
    "N,M=map(int,input().split())\n",
    "print(abs(N-M))"
   ]
  },
  {
   "cell_type": "code",
   "execution_count": null,
   "id": "27c9f006",
   "metadata": {},
   "outputs": [],
   "source": []
  }
 ],
 "metadata": {
  "kernelspec": {
   "display_name": "Python 3 (ipykernel)",
   "language": "python",
   "name": "python3"
  },
  "language_info": {
   "codemirror_mode": {
    "name": "ipython",
    "version": 3
   },
   "file_extension": ".py",
   "mimetype": "text/x-python",
   "name": "python",
   "nbconvert_exporter": "python",
   "pygments_lexer": "ipython3",
   "version": "3.9.7"
  }
 },
 "nbformat": 4,
 "nbformat_minor": 5
}
