{
 "cells": [
  {
   "cell_type": "markdown",
   "id": "03732faa",
   "metadata": {},
   "source": [
    "### 2535 아시아 정보올림피아드"
   ]
  },
  {
   "cell_type": "code",
   "execution_count": 10,
   "id": "b8638595",
   "metadata": {},
   "outputs": [
    {
     "name": "stdout",
     "output_type": "stream",
     "text": [
      "9\n",
      "1 1 230 \n",
      "1 2 210\n",
      "1 3 205 \n",
      "2 1 100\n",
      "2 2 150\n",
      "3 1 175\n",
      "3 2 190\n",
      "3 3 180 \n",
      "3 4 195\n",
      "1 1\n",
      "1 2\n",
      "3 4\n"
     ]
    }
   ],
   "source": [
    "N=int(input())\n",
    "infor=[]\n",
    "for ik in range(N):\n",
    "    infor.append(list(map(int,input().split())))\n",
    "sco=[infor[ik][2] for ik in range(N)]\n",
    "sco2=sco[:]\n",
    "one=(infor[sco.index(max(sco))][0],infor[sco.index(max(sco))][1])\n",
    "sco.remove(max(sco))\n",
    "two=(infor[sco2.index(max(sco))][0],infor[sco2.index(max(sco))][1])\n",
    "sco.remove(max(sco))\n",
    "if one[0]==two[0]:\n",
    "    sco=[infor[ik][2] for ik in range(N) if infor[ik][0]!=one[0]]\n",
    "    thr=(infor[sco2.index(max(sco))][0],infor[sco2.index(max(sco))][1])\n",
    "else:\n",
    "    thr=(infor[sco2.index(max(sco))][0],infor[sco2.index(max(sco))][1])\n",
    "print(one[0],one[1])\n",
    "print(two[0],two[1])\n",
    "print(thr[0],thr[1])"
   ]
  },
  {
   "cell_type": "markdown",
   "id": "9777509f",
   "metadata": {},
   "source": [
    "#### 3009 네번째 점"
   ]
  },
  {
   "cell_type": "code",
   "execution_count": 10,
   "id": "2e87ca40",
   "metadata": {},
   "outputs": [
    {
     "name": "stdout",
     "output_type": "stream",
     "text": [
      "1 1\n",
      "4 1\n",
      "1 4\n",
      "4 4\n"
     ]
    }
   ],
   "source": [
    "arr1=[]\n",
    "arr2=[]\n",
    "for ik in range(3):\n",
    "    a,b=map(int,input().split())\n",
    "    arr1.append(a)\n",
    "    arr2.append(b)\n",
    "for ik in range(3):\n",
    "    if arr1.count(arr1[ik])==1:\n",
    "        x=arr1[ik]\n",
    "    if arr2.count(arr2[ik])==1:\n",
    "        y=arr2[ik]\n",
    "print(x,y)"
   ]
  },
  {
   "cell_type": "markdown",
   "id": "e6635a4f",
   "metadata": {},
   "source": [
    "#### 6322 직각 삼각형의 두변 (***)"
   ]
  },
  {
   "cell_type": "code",
   "execution_count": 25,
   "id": "69642393",
   "metadata": {},
   "outputs": [
    {
     "name": "stdout",
     "output_type": "stream",
     "text": [
      "6  -1 6\n",
      "Triangle #1\n",
      "Impossible\n",
      "\n",
      "0 0 0\n"
     ]
    }
   ],
   "source": [
    "ik=0\n",
    "while(1):\n",
    "    ik+=1\n",
    "    a,b,c=map(int,input().split())\n",
    "    if a==b==c==0:\n",
    "        break\n",
    "    print(\"Triangle #%d\"%ik)\n",
    "    if c==-1:\n",
    "        c=(a*a+b*b)**(1/2)\n",
    "        print(\"c = %.3f\"%c)\n",
    "    elif b==-1:\n",
    "        b=c*c-a*a\n",
    "        if b<=0:\n",
    "            print(\"Impossible\")\n",
    "        else:\n",
    "            print(\"b = %.3f\"%(b**(1/2)))\n",
    "    elif a==-1:\n",
    "        a=c*c-b*b\n",
    "        if a<=0:\n",
    "            print(\"Impossible.\")\n",
    "        else:\n",
    "            print(\"a = %.3f\"%(a**(1/2)))\n",
    "    print()"
   ]
  },
  {
   "cell_type": "markdown",
   "id": "6bc6fc1b",
   "metadata": {},
   "source": [
    "#### 18870 좌표압축 (***)"
   ]
  },
  {
   "cell_type": "code",
   "execution_count": 27,
   "id": "739e1fd1",
   "metadata": {},
   "outputs": [
    {
     "name": "stdout",
     "output_type": "stream",
     "text": [
      "6\n",
      "1000 999 1000 999 1000 999\n",
      "1 0 1 0 1 0 "
     ]
    }
   ],
   "source": [
    "N=int(input())\n",
    "arr=list(map(int,input().split()))\n",
    "temp=sorted(list(set(arr)))\n",
    "for ik in arr:\n",
    "    print(temp.index(ik),end=' ')"
   ]
  },
  {
   "cell_type": "markdown",
   "id": "bff896be",
   "metadata": {},
   "source": [
    "#### 17294 귀여운수~ε٩(๑> ₃ <)۶з"
   ]
  },
  {
   "cell_type": "code",
   "execution_count": 40,
   "id": "724ce57d",
   "metadata": {},
   "outputs": [
    {
     "name": "stdout",
     "output_type": "stream",
     "text": [
      "13579\n",
      "◝(⑅•ᴗ•⑅)◜..°♡ 뀌요미!!\n"
     ]
    }
   ],
   "source": [
    "arr=list(input())\n",
    "arr=list(map(int,arr))\n",
    "c=0\n",
    "m=[]\n",
    "for ik in range(1,len(arr)):\n",
    "    m.append(arr[ik]-arr[ik-1])\n",
    "if len(set(m))>=2:\n",
    "    print(\"흥칫뿡!! <(￣ ﹌ ￣)>\")\n",
    "else:\n",
    "    print(\"◝(⑅•ᴗ•⑅)◜..°♡ 뀌요미!!\")"
   ]
  },
  {
   "cell_type": "markdown",
   "id": "226037dd",
   "metadata": {},
   "source": [
    "#### 14196 거스름돈"
   ]
  },
  {
   "cell_type": "code",
   "execution_count": 44,
   "id": "27cae0bf",
   "metadata": {},
   "outputs": [
    {
     "name": "stdout",
     "output_type": "stream",
     "text": [
      "3\n",
      "-1\n"
     ]
    }
   ],
   "source": [
    "N=int(input())\n",
    "arr=[]\n",
    "n=N//5\n",
    "while(1):\n",
    "    if (N-n*5)%2==0:\n",
    "        arr.append([n,(N-n*5)//2])\n",
    "        break\n",
    "    if n==0:\n",
    "        break\n",
    "    n-=1\n",
    "if len(arr)==0:\n",
    "    print(-1)\n",
    "else:\n",
    "    print(arr[0][0]+arr[0][1])"
   ]
  },
  {
   "cell_type": "markdown",
   "id": "94af797f",
   "metadata": {},
   "source": [
    "#### 11256 사탕"
   ]
  },
  {
   "cell_type": "code",
   "execution_count": 48,
   "id": "5c99c3e2",
   "metadata": {},
   "outputs": [
    {
     "name": "stdout",
     "output_type": "stream",
     "text": [
      "2\n",
      "12 3\n",
      "2 7\n",
      "1 5\n",
      "3 2\n",
      "1\n",
      "20 3\n",
      "2 7\n",
      "1 5\n",
      "3 2\n",
      "2\n"
     ]
    }
   ],
   "source": [
    "T=int(input())\n",
    "for ik in range(T):\n",
    "    J,N=map(int,input().split())\n",
    "    arr=[]\n",
    "    for ik in range(N):\n",
    "        a,b=map(int,input().split())\n",
    "        arr.append(a*b)\n",
    "    arr.sort(reverse=1)\n",
    "    ik=0\n",
    "    while(1):\n",
    "        J-=arr[ik]\n",
    "        if J<=0:\n",
    "            break\n",
    "        ik+=1\n",
    "    print(ik+1)    "
   ]
  },
  {
   "cell_type": "markdown",
   "id": "5b071da3",
   "metadata": {},
   "source": [
    "#### 1755 숫자놀이"
   ]
  },
  {
   "cell_type": "code",
   "execution_count": 63,
   "id": "88a5b4e2",
   "metadata": {},
   "outputs": [
    {
     "name": "stdout",
     "output_type": "stream",
     "text": [
      "8 28\n",
      "8 9 18 15 14 19 11 17 16 13 \n",
      "12 10 28 25 24 21 27 26 23 22 \n",
      "20 "
     ]
    }
   ],
   "source": [
    "arr=['zero','one','two','three','four','five','six','seven','eight','nine']\n",
    "f,l=map(int,input().split())\n",
    "num=[]\n",
    "for ik in range(f,l+1):\n",
    "    a=list(str(ik))\n",
    "    a=map(int,a)\n",
    "    b=''\n",
    "    for it in a:\n",
    "        b+=arr[it]\n",
    "    num.append([b,ik])\n",
    "num.sort()\n",
    "for ik in range(len(num)):\n",
    "    print(num[ik][1],end=' ')\n",
    "    if (ik+1)%10==0:\n",
    "        print()"
   ]
  },
  {
   "cell_type": "markdown",
   "id": "abe10221",
   "metadata": {},
   "source": [
    "#### 1449 수리공 항승 (***)"
   ]
  },
  {
   "cell_type": "code",
   "execution_count": 14,
   "id": "9fb6d3e1",
   "metadata": {},
   "outputs": [
    {
     "name": "stdout",
     "output_type": "stream",
     "text": [
      "6 5\n",
      "1 4 5 6 7 10\n",
      "1.0\n",
      "1.0\n",
      "1.0\n",
      "3\n"
     ]
    }
   ],
   "source": [
    "N,L=map(int,input().split())\n",
    "p=list(map(int,input().split()))\n",
    "arr=[0]*2000\n",
    "ans=0\n",
    "for ik in p:\n",
    "    arr[2*ik-1]=1\n",
    "    arr[2*ik]=1\n",
    "    arr[2*ik+1]=1\n",
    "c=0\n",
    "for ik in range(2000):\n",
    "    if arr[ik]==1:\n",
    "        if c==0:\n",
    "            a=ik\n",
    "            c=1\n",
    "    if arr[ik]==0:\n",
    "        if c==1:\n",
    "            b=ik-1\n",
    "            t=(b-a)/2\n",
    "            temp=t//L\n",
    "            if t%L!=0:\n",
    "                temp+=1\n",
    "            ans+=temp\n",
    "            print(temp)\n",
    "            c=0\n",
    "print(int(ans))"
   ]
  },
  {
   "cell_type": "markdown",
   "id": "64ff36fb",
   "metadata": {},
   "source": [
    "#### 3049 다각형의 대각선"
   ]
  },
  {
   "cell_type": "code",
   "execution_count": 19,
   "id": "93a7bad1",
   "metadata": {},
   "outputs": [
    {
     "name": "stdout",
     "output_type": "stream",
     "text": [
      "6\n",
      "15\n"
     ]
    }
   ],
   "source": [
    "N=int(input())\n",
    "if N<4:\n",
    "    print(0)\n",
    "else:\n",
    "    print(N*(N-1)*(N-2)*(N-3)//24)"
   ]
  },
  {
   "cell_type": "markdown",
   "id": "d35a53ef",
   "metadata": {},
   "source": [
    "#### 4143 다음소수"
   ]
  },
  {
   "cell_type": "code",
   "execution_count": 3,
   "id": "5e75f54a",
   "metadata": {},
   "outputs": [
    {
     "name": "stdout",
     "output_type": "stream",
     "text": [
      "3\n",
      "6\n"
     ]
    },
    {
     "ename": "ZeroDivisionError",
     "evalue": "integer division or modulo by zero",
     "output_type": "error",
     "traceback": [
      "\u001b[1;31m---------------------------------------------------------------------------\u001b[0m",
      "\u001b[1;31mZeroDivisionError\u001b[0m                         Traceback (most recent call last)",
      "\u001b[1;32m~\\AppData\\Local\\Temp/ipykernel_13324/3817345619.py\u001b[0m in \u001b[0;36m<module>\u001b[1;34m\u001b[0m\n\u001b[0;32m      8\u001b[0m     \u001b[1;32mwhile\u001b[0m\u001b[1;33m(\u001b[0m\u001b[1;36m1\u001b[0m\u001b[1;33m)\u001b[0m\u001b[1;33m:\u001b[0m\u001b[1;33m\u001b[0m\u001b[1;33m\u001b[0m\u001b[0m\n\u001b[0;32m      9\u001b[0m         \u001b[1;32mwhile\u001b[0m\u001b[1;33m(\u001b[0m\u001b[0marr\u001b[0m\u001b[1;33m[\u001b[0m\u001b[0mit\u001b[0m\u001b[1;33m]\u001b[0m\u001b[1;33m<=\u001b[0m\u001b[0mN\u001b[0m\u001b[1;33m**\u001b[0m\u001b[1;33m(\u001b[0m\u001b[1;36m1\u001b[0m\u001b[1;33m/\u001b[0m\u001b[1;36m2\u001b[0m\u001b[1;33m)\u001b[0m\u001b[1;33m)\u001b[0m\u001b[1;33m:\u001b[0m\u001b[1;33m\u001b[0m\u001b[1;33m\u001b[0m\u001b[0m\n\u001b[1;32m---> 10\u001b[1;33m             \u001b[1;32mif\u001b[0m \u001b[0mik\u001b[0m\u001b[1;33m%\u001b[0m\u001b[0mit\u001b[0m\u001b[1;33m==\u001b[0m\u001b[1;36m0\u001b[0m\u001b[1;33m:\u001b[0m\u001b[1;33m\u001b[0m\u001b[1;33m\u001b[0m\u001b[0m\n\u001b[0m\u001b[0;32m     11\u001b[0m                 \u001b[0mc\u001b[0m\u001b[1;33m=\u001b[0m\u001b[1;36m1\u001b[0m\u001b[1;33m\u001b[0m\u001b[1;33m\u001b[0m\u001b[0m\n\u001b[0;32m     12\u001b[0m                 \u001b[1;32mbreak\u001b[0m\u001b[1;33m\u001b[0m\u001b[1;33m\u001b[0m\u001b[0m\n",
      "\u001b[1;31mZeroDivisionError\u001b[0m: integer division or modulo by zero"
     ]
    }
   ],
   "source": [
    "T=int(input())\n",
    "for ik in range(T):\n",
    "    N=int(input())\n",
    "    arr=[2]\n",
    "    c=0\n",
    "    ik=2\n",
    "    it=0\n",
    "    while(1):\n",
    "        while(arr[it]<=N**(1/2)):\n",
    "            if ik%it==0:\n",
    "                c=1\n",
    "                break\n",
    "        if c==0:\n",
    "            arr.append(ik)\n",
    "            if ik>=N:\n",
    "                print(ik)\n",
    "                break\n",
    "        c=0\n",
    "        ik+=1\n",
    "        it+=1"
   ]
  },
  {
   "cell_type": "code",
   "execution_count": null,
   "id": "74ad2e01",
   "metadata": {},
   "outputs": [],
   "source": []
  },
  {
   "cell_type": "code",
   "execution_count": null,
   "id": "22e64ad7",
   "metadata": {},
   "outputs": [],
   "source": []
  }
 ],
 "metadata": {
  "kernelspec": {
   "display_name": "Python 3 (ipykernel)",
   "language": "python",
   "name": "python3"
  },
  "language_info": {
   "codemirror_mode": {
    "name": "ipython",
    "version": 3
   },
   "file_extension": ".py",
   "mimetype": "text/x-python",
   "name": "python",
   "nbconvert_exporter": "python",
   "pygments_lexer": "ipython3",
   "version": "3.9.7"
  }
 },
 "nbformat": 4,
 "nbformat_minor": 5
}
