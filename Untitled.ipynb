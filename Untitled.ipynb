{
 "cells": [
  {
   "cell_type": "markdown",
   "id": "8410f499",
   "metadata": {},
   "source": [
    "#### 1526 가장 큰 금민수"
   ]
  },
  {
   "cell_type": "code",
   "execution_count": 2,
   "id": "bdd4087b",
   "metadata": {},
   "outputs": [
    {
     "name": "stdout",
     "output_type": "stream",
     "text": [
      "1000000\n",
      "777777\n"
     ]
    }
   ],
   "source": [
    "num=int(input())\n",
    "for ik in range(num,3,-1):\n",
    "    word=str(ik)\n",
    "    if '0' in word:\n",
    "        continue\n",
    "    else:\n",
    "        word=word.replace('7','')\n",
    "        word=word.replace('4','')\n",
    "        word+='0'\n",
    "    if int(word)==0:\n",
    "        print(ik)\n",
    "        break"
   ]
  },
  {
   "cell_type": "markdown",
   "id": "2b3adffe",
   "metadata": {},
   "source": [
    "#### 3230 금메달, 은메달, 동메달은 누가?"
   ]
  },
  {
   "cell_type": "code",
   "execution_count": null,
   "id": "199d9eb6",
   "metadata": {},
   "outputs": [],
   "source": [
    "  "
   ]
  },
  {
   "cell_type": "markdown",
   "id": "f1a7146f",
   "metadata": {},
   "source": [
    "#### 1417 국회의원 선거"
   ]
  },
  {
   "cell_type": "code",
   "execution_count": 9,
   "id": "0cdddb7c",
   "metadata": {},
   "outputs": [
    {
     "name": "stdout",
     "output_type": "stream",
     "text": [
      "1\n",
      "1\n",
      "0\n"
     ]
    }
   ],
   "source": [
    "N=int(input())\n",
    "dasom=int(input())\n",
    "arr=[0]\n",
    "for ik in range(N-1):\n",
    "    arr.append(int(input()))\n",
    "mon=0\n",
    "while(1):\n",
    "    if dasom>max(arr):\n",
    "        break\n",
    "    else:\n",
    "        dasom+=1\n",
    "        arr[arr.index(max(arr))]-=1\n",
    "        mon+=1\n",
    "print(mon)"
   ]
  },
  {
   "cell_type": "markdown",
   "id": "12cfe00b",
   "metadata": {},
   "source": [
    "#### 2422 한윤정이 이탈리아에 가서 아이스크림을 사먹는데"
   ]
  },
  {
   "cell_type": "code",
   "execution_count": 34,
   "id": "3ef96e6c",
   "metadata": {},
   "outputs": [
    {
     "name": "stdout",
     "output_type": "stream",
     "text": [
      "200 0\n",
      "1313400\n"
     ]
    }
   ],
   "source": [
    "from itertools import combinations\n",
    "\n",
    "N,M=map(int,input().split())\n",
    "arr=[]\n",
    "for ik in combinations([it+1 for it in range(N)], 3):\n",
    "    arr.append(list(ik))\n",
    "for ik in range(M):\n",
    "    temp=arr[:]\n",
    "    a,b=map(int,input().split())\n",
    "    for it in temp:\n",
    "        if (a in it)&(b in it):\n",
    "            arr.remove(it)\n",
    "print(len(arr))"
   ]
  },
  {
   "cell_type": "code",
   "execution_count": null,
   "id": "c1f0c887",
   "metadata": {},
   "outputs": [],
   "source": []
  }
 ],
 "metadata": {
  "kernelspec": {
   "display_name": "Python 3 (ipykernel)",
   "language": "python",
   "name": "python3"
  },
  "language_info": {
   "codemirror_mode": {
    "name": "ipython",
    "version": 3
   },
   "file_extension": ".py",
   "mimetype": "text/x-python",
   "name": "python",
   "nbconvert_exporter": "python",
   "pygments_lexer": "ipython3",
   "version": "3.9.7"
  }
 },
 "nbformat": 4,
 "nbformat_minor": 5
}
