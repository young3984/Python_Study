{
 "cells": [
  {
   "cell_type": "code",
   "execution_count": 30,
   "id": "48299416",
   "metadata": {},
   "outputs": [
    {
     "name": "stdout",
     "output_type": "stream",
     "text": [
      "23\n",
      "4\n"
     ]
    }
   ],
   "source": [
    "S=[64]\n",
    "X=int(input())\n",
    "while(1):\n",
    "    if sum(S)>X:\n",
    "        s=S[-1]//2\n",
    "        if (sum(S)-s)>X:\n",
    "            S[-1]=s\n",
    "        else:\n",
    "            del S[-1]\n",
    "            S.extend([s,s])\n",
    "    else:\n",
    "        break \n",
    "if 0 in S:\n",
    "    S.remove(0)\n",
    "print(len(S))"
   ]
  },
  {
   "cell_type": "code",
   "execution_count": 18,
   "id": "60587ec8",
   "metadata": {},
   "outputs": [
    {
     "data": {
      "text/plain": [
       "[32, 16, 0]"
      ]
     },
     "execution_count": 18,
     "metadata": {},
     "output_type": "execute_result"
    }
   ],
   "source": [
    "S"
   ]
  },
  {
   "cell_type": "code",
   "execution_count": null,
   "id": "638d286e",
   "metadata": {},
   "outputs": [],
   "source": []
  }
 ],
 "metadata": {
  "kernelspec": {
   "display_name": "Python 3 (ipykernel)",
   "language": "python",
   "name": "python3"
  },
  "language_info": {
   "codemirror_mode": {
    "name": "ipython",
    "version": 3
   },
   "file_extension": ".py",
   "mimetype": "text/x-python",
   "name": "python",
   "nbconvert_exporter": "python",
   "pygments_lexer": "ipython3",
   "version": "3.9.7"
  }
 },
 "nbformat": 4,
 "nbformat_minor": 5
}
