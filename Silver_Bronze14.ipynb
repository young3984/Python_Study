{
 "cells": [
  {
   "cell_type": "markdown",
   "id": "9b48c6b1",
   "metadata": {},
   "source": [
    "#### 1748 수 이어 쓰기 1"
   ]
  },
  {
   "cell_type": "code",
   "execution_count": 8,
   "id": "a3b7a4a0",
   "metadata": {},
   "outputs": [
    {
     "name": "stdout",
     "output_type": "stream",
     "text": [
      "120\n",
      "252\n"
     ]
    }
   ],
   "source": [
    "N=int(input())\n",
    "ans=0\n",
    "C=1\n",
    "ik=1\n",
    "while(1):\n",
    "    if N<C:\n",
    "        break\n",
    "    elif (N>=C)&(N<C*10):\n",
    "        ans+=(N-C+1)*ik \n",
    "        break\n",
    "    else:\n",
    "        ans+=(10*C-C)*ik\n",
    "        ik+=1\n",
    "        C*=10\n",
    "print(ans)        "
   ]
  },
  {
   "cell_type": "markdown",
   "id": "44e3f590",
   "metadata": {},
   "source": [
    "#### 1758 알바생 강호"
   ]
  },
  {
   "cell_type": "code",
   "execution_count": 27,
   "id": "b7677acf",
   "metadata": {},
   "outputs": [
    {
     "name": "stdout",
     "output_type": "stream",
     "text": [
      "4\n",
      "3\n",
      "3\n",
      "3\n",
      "3\n",
      "6\n"
     ]
    }
   ],
   "source": [
    "N=int(input())\n",
    "arr=[]\n",
    "ans=0\n",
    "for ik in range(N):\n",
    "    arr.append(int(input()))\n",
    "arr.sort(reverse=1)\n",
    "for ik in range(N):\n",
    "    if (arr[ik]-ik)>0:\n",
    "        ans+=arr[ik]-ik\n",
    "    else:\n",
    "        break    \n",
    "print(ans)    "
   ]
  },
  {
   "cell_type": "markdown",
   "id": "de1055f0",
   "metadata": {},
   "source": [
    "#### 2331 반복수열"
   ]
  },
  {
   "cell_type": "code",
   "execution_count": 38,
   "id": "3b055030",
   "metadata": {},
   "outputs": [
    {
     "name": "stdout",
     "output_type": "stream",
     "text": [
      "57 2\n",
      "4\n"
     ]
    }
   ],
   "source": [
    "A,P=map(int,input().split())\n",
    "arr=[A]\n",
    "while(1):\n",
    "    t=str(arr[-1])\n",
    "    T=0\n",
    "    for ik in t:\n",
    "        T+=int(ik)**P        \n",
    "    if T in arr:\n",
    "        break\n",
    "    else:\n",
    "        arr.append(T)\n",
    "print(arr.index(T))"
   ]
  },
  {
   "cell_type": "markdown",
   "id": "6fce7c22",
   "metadata": {},
   "source": [
    "#### 1225 곱셈"
   ]
  },
  {
   "cell_type": "code",
   "execution_count": 41,
   "id": "7ac94cce",
   "metadata": {},
   "outputs": [
    {
     "name": "stdout",
     "output_type": "stream",
     "text": [
      "123 45\n",
      "54\n"
     ]
    }
   ],
   "source": [
    "A,B=input().split()\n",
    "ans=0\n",
    "t=sum(map(int,list(B)))\n",
    "for ik in A:\n",
    "    ans+=t*int(ik)\n",
    "print(ans)"
   ]
  },
  {
   "cell_type": "markdown",
   "id": "38cc72da",
   "metadata": {},
   "source": [
    "#### 1268 임시 반장 정하기"
   ]
  },
  {
   "cell_type": "code",
   "execution_count": 77,
   "id": "5650472b",
   "metadata": {},
   "outputs": [
    {
     "name": "stdout",
     "output_type": "stream",
     "text": [
      "5\n",
      "1 1 1 1 1\n",
      "1 1 1 1 1\n",
      "1 3 4 5 5\n",
      "3 3 3 3 3\n",
      "4 4 4 4 4\n",
      "3\n"
     ]
    }
   ],
   "source": [
    "N=int(input())\n",
    "arr=[]\n",
    "ans=[]\n",
    "for ik in range(N):\n",
    "    arr.append(list(map(int,input().split())))\n",
    "for ik in range(N):\n",
    "    C=[]\n",
    "    for it in range(5):\n",
    "        for iu in range(N):\n",
    "            if arr[ik][it]==arr[iu][it]:\n",
    "                C.append(iu)\n",
    "    ans.append(len(set(C)))\n",
    "print(ans.index(max(ans))+1)"
   ]
  },
  {
   "cell_type": "markdown",
   "id": "63354b6e",
   "metadata": {},
   "source": [
    "#### 1531 투명"
   ]
  },
  {
   "cell_type": "code",
   "execution_count": 81,
   "id": "5147befe",
   "metadata": {},
   "outputs": [
    {
     "name": "stdout",
     "output_type": "stream",
     "text": [
      "3 1\n",
      "21 21 80 80\n",
      "41 41 60 60\n",
      "71 71 90 90\n",
      "500\n"
     ]
    }
   ],
   "source": [
    "N,M=map(int,input().split())\n",
    "P=[[0]*100 for ik in range(100)]\n",
    "arr=[]\n",
    "ans=0\n",
    "for ik in range(N):\n",
    "    a,b,c,d=map(int,input().split())\n",
    "    for it in range(a-1,c):\n",
    "        for iu in range(b-1,d):\n",
    "            P[it][iu]+=1\n",
    "for ik in range(100):\n",
    "    for it in range(100):\n",
    "        if P[ik][it]>M:\n",
    "            ans+=1\n",
    "print(ans)"
   ]
  },
  {
   "cell_type": "markdown",
   "id": "467043b7",
   "metadata": {},
   "source": [
    "#### 1652 누울 자리를 찾아라"
   ]
  },
  {
   "cell_type": "code",
   "execution_count": 14,
   "id": "4d21564d",
   "metadata": {},
   "outputs": [
    {
     "name": "stdout",
     "output_type": "stream",
     "text": [
      "5\n",
      "....X\n",
      "..XX.\n",
      ".....\n",
      ".XX..\n",
      "X....\n",
      "5 4\n"
     ]
    }
   ],
   "source": [
    "N=int(input())\n",
    "arr=[]\n",
    "for ik in range(N):\n",
    "    arr.append(list(input()))\n",
    "R=0\n",
    "for ik in range(N):\n",
    "    c=0\n",
    "    for it in range(N):\n",
    "        if arr[ik][it]=='X':\n",
    "            if c>=2:\n",
    "                R+=1\n",
    "            c=0\n",
    "        else:\n",
    "            c+=1\n",
    "    if c>=2:\n",
    "        R+=1\n",
    "C=0\n",
    "for ik in range(N):\n",
    "    c=0\n",
    "    for it in range(N):\n",
    "        if arr[it][ik]=='X':\n",
    "            if c>=2:\n",
    "                C+=1\n",
    "            c=0\n",
    "        else:\n",
    "            c+=1\n",
    "    if c>=2:\n",
    "        C+=1\n",
    "print(R,C)"
   ]
  },
  {
   "cell_type": "markdown",
   "id": "ac5f1d18",
   "metadata": {},
   "source": [
    "#### 13241 최소공배수"
   ]
  },
  {
   "cell_type": "code",
   "execution_count": 22,
   "id": "d7b285af",
   "metadata": {},
   "outputs": [
    {
     "name": "stdout",
     "output_type": "stream",
     "text": [
      "6 15\n",
      "30\n"
     ]
    }
   ],
   "source": [
    "A,B=map(int,input().split())\n",
    "a=max(A,B)\n",
    "b=min(A,B)\n",
    "while(1):\n",
    "    if a%b==0:\n",
    "        break\n",
    "    c=a%b\n",
    "    a=b\n",
    "    b=c\n",
    "print((A*B)//b)"
   ]
  },
  {
   "cell_type": "markdown",
   "id": "8ed42bb1",
   "metadata": {},
   "source": [
    "#### 1233 주사위"
   ]
  },
  {
   "cell_type": "code",
   "execution_count": 26,
   "id": "2b23c548",
   "metadata": {},
   "outputs": [
    {
     "name": "stdout",
     "output_type": "stream",
     "text": [
      "3 2 3\n",
      "5\n"
     ]
    }
   ],
   "source": [
    "A,B,C=map(int,input().split())\n",
    "c=[0]*80\n",
    "for ik in range(A):\n",
    "    for it in range(B):\n",
    "        for iu in range(C):\n",
    "            c[ik+it+iu+3-1]+=1\n",
    "print(c.index(max(c))+1)"
   ]
  },
  {
   "cell_type": "markdown",
   "id": "acfeeaa3",
   "metadata": {},
   "source": [
    "#### 1393 음하철도 구구팔"
   ]
  },
  {
   "cell_type": "code",
   "execution_count": 39,
   "id": "6d309a73",
   "metadata": {},
   "outputs": [
    {
     "name": "stdout",
     "output_type": "stream",
     "text": [
      "5 2 \n",
      "1 2 1 2 \n",
      "2 4\n"
     ]
    }
   ],
   "source": [
    "x,y=map(int,input().split())\n",
    "X,Y,A,B=map(int,input().split())\n",
    "a=max(abs(A),abs(B))\n",
    "b=min(abs(B),abs(A))\n",
    "if b!=0:    \n",
    "    while(1):\n",
    "        if a%b==0:\n",
    "            break\n",
    "        c=a%b\n",
    "        a=b\n",
    "        b=c\n",
    "    A=A//b\n",
    "    B=B//b\n",
    "else:\n",
    "    A=A//max(A,B)\n",
    "    B=B//max(A,B)\n",
    "ik=0\n",
    "bb=1000000000\n",
    "while(1):\n",
    "    t=(x-(X+ik*A))**2+(y-(Y+ik*B))**2\n",
    "    if t>bb:\n",
    "        break\n",
    "    else:\n",
    "        bb=t\n",
    "        ik+=1\n",
    "print(X+(ik-1)*A,Y+(ik-1)*B)   "
   ]
  },
  {
   "cell_type": "markdown",
   "id": "896547c2",
   "metadata": {},
   "source": [
    "#### 1251 단어 나누기"
   ]
  },
  {
   "cell_type": "code",
   "execution_count": 120,
   "id": "9e4a44a8",
   "metadata": {},
   "outputs": [
    {
     "name": "stdout",
     "output_type": "stream",
     "text": [
      "mobitel\n",
      "bometil\n"
     ]
    }
   ],
   "source": [
    "S=list(input())\n",
    "N=len(S)\n",
    "arr=[]\n",
    "for ik in range(1,N-2):\n",
    "    for it in range(ik,N-1):\n",
    "        t=''\n",
    "        a=list(reversed(S[:ik]))\n",
    "        b=list(reversed(S[ik:it+1]))\n",
    "        c=list(reversed(S[it+1:]))\n",
    "        t=t+''.join(a)+''.join(b)+''.join(c)\n",
    "        arr.append(t)\n",
    "arr.sort()\n",
    "print(arr[0])"
   ]
  },
  {
   "cell_type": "markdown",
   "id": "ac9d849c",
   "metadata": {},
   "source": [
    "#### 1676 팩토리얼 0의 개수"
   ]
  },
  {
   "cell_type": "code",
   "execution_count": 5,
   "id": "6e651bd0",
   "metadata": {},
   "outputs": [
    {
     "name": "stdout",
     "output_type": "stream",
     "text": [
      "3\n",
      "0\n"
     ]
    }
   ],
   "source": [
    "N=int(input())\n",
    "n=0\n",
    "for ik in range(1,N+1):\n",
    "    m=ik\n",
    "    while(1):\n",
    "        if m%5==0:\n",
    "            n+=1\n",
    "            m=m//5\n",
    "        else:\n",
    "            break\n",
    "print(n)"
   ]
  },
  {
   "cell_type": "markdown",
   "id": "e9c755f8",
   "metadata": {},
   "source": [
    "#### 25193 곰곰이의 식단 관리"
   ]
  },
  {
   "cell_type": "code",
   "execution_count": null,
   "id": "366d3eee",
   "metadata": {},
   "outputs": [],
   "source": [
    "N=int(input())\n"
   ]
  }
 ],
 "metadata": {
  "kernelspec": {
   "display_name": "Python 3 (ipykernel)",
   "language": "python",
   "name": "python3"
  },
  "language_info": {
   "codemirror_mode": {
    "name": "ipython",
    "version": 3
   },
   "file_extension": ".py",
   "mimetype": "text/x-python",
   "name": "python",
   "nbconvert_exporter": "python",
   "pygments_lexer": "ipython3",
   "version": "3.9.7"
  }
 },
 "nbformat": 4,
 "nbformat_minor": 5
}
