{
 "cells": [
  {
   "cell_type": "markdown",
   "id": "629a1adc",
   "metadata": {},
   "source": [
    "#### 1024 수열의 합"
   ]
  },
  {
   "cell_type": "code",
   "execution_count": 1,
   "id": "e5a37a4b",
   "metadata": {},
   "outputs": [
    {
     "name": "stdout",
     "output_type": "stream",
     "text": [
      "18 2\n",
      "5 6 7 "
     ]
    }
   ],
   "source": [
    "N,L=map(int,input().split())\n",
    "for ik in range(L,101):\n",
    "    arr=[ik for ik in range(ik)]\n",
    "    C=sum(arr)\n",
    "    if N-C<0:\n",
    "        print(-1)\n",
    "        break\n",
    "    if (N-C)%ik==0:\n",
    "        for it in arr:\n",
    "            print(it+(N-C)//ik,end=' ')\n",
    "        break\n",
    "    if len(arr)==100:\n",
    "        print(-1)"
   ]
  },
  {
   "cell_type": "markdown",
   "id": "2de5ebde",
   "metadata": {},
   "source": [
    "#### 1500 최대 곱"
   ]
  },
  {
   "cell_type": "code",
   "execution_count": 2,
   "id": "b2c21a2e",
   "metadata": {},
   "outputs": [
    {
     "name": "stdout",
     "output_type": "stream",
     "text": [
      "10 3\n",
      "36\n"
     ]
    }
   ],
   "source": [
    "S,K=map(int,input().split())\n",
    "arr=[S//K]*K\n",
    "n=S%K\n",
    "for ik in range(n):\n",
    "    arr[ik]+=1\n",
    "ans=1\n",
    "for ik in arr:\n",
    "    ans*=ik\n",
    "print(ans)"
   ]
  },
  {
   "cell_type": "markdown",
   "id": "9ab2e7c9",
   "metadata": {},
   "source": [
    "#### 16439 치킨치킨치킨"
   ]
  },
  {
   "cell_type": "code",
   "execution_count": 3,
   "id": "8dcfedce",
   "metadata": {},
   "outputs": [
    {
     "name": "stdout",
     "output_type": "stream",
     "text": [
      "3 5\n",
      "1 2 3 4 5\n",
      "5 4 3 2 1\n",
      "1 2 3 2 1\n",
      "13\n"
     ]
    }
   ],
   "source": [
    "from itertools import combinations\n",
    "N,M=map(int,input().split())\n",
    "arr=[]\n",
    "K=[ik+1 for ik in range(M)]\n",
    "for ik in range(N):\n",
    "    T=list(map(int,input().split()))\n",
    "    arr.append(T)\n",
    "ans=[]\n",
    "k=list(combinations(K,3))\n",
    "for ik in k:\n",
    "    t=0\n",
    "    a=ik[0]\n",
    "    b=ik[1]\n",
    "    c=ik[2]\n",
    "    for it in range(N):\n",
    "        t+=max(arr[it][a-1],arr[it][b-1],arr[it][c-1])\n",
    "    ans.append(t)\n",
    "print(max(ans))"
   ]
  },
  {
   "cell_type": "markdown",
   "id": "a13a5a24",
   "metadata": {},
   "source": [
    "#### 14225 부분수열의 합"
   ]
  },
  {
   "cell_type": "code",
   "execution_count": 4,
   "id": "bfadcfb1",
   "metadata": {},
   "outputs": [
    {
     "name": "stdout",
     "output_type": "stream",
     "text": [
      "3\n",
      "5 1 2\n",
      "4\n"
     ]
    }
   ],
   "source": [
    "from itertools import combinations\n",
    "N=int(input())\n",
    "S=list(map(int,input().split()))\n",
    "arr=[]\n",
    "for ik in range(1,N+1):\n",
    "    k=list(set(list(combinations(S,ik))))\n",
    "    for it in k:\n",
    "        arr.append(sum(list(it)))\n",
    "arr=list(set(arr))\n",
    "arr.sort()\n",
    "arr.append(0)\n",
    "it=1\n",
    "for ik in arr:\n",
    "    if ik!=it:\n",
    "        print(it)\n",
    "        break\n",
    "    else:\n",
    "        it+=1"
   ]
  },
  {
   "cell_type": "markdown",
   "id": "6d601d25",
   "metadata": {},
   "source": [
    "#### 15954 인형들"
   ]
  },
  {
   "cell_type": "code",
   "execution_count": 6,
   "id": "37566d80",
   "metadata": {},
   "outputs": [
    {
     "name": "stdout",
     "output_type": "stream",
     "text": [
      "5 3\n",
      "1 2 3 4 5\n",
      "0.816496580927726\n"
     ]
    }
   ],
   "source": [
    "N,K=map(int,input().split())\n",
    "arr=list(map(int,input().split()))\n",
    "ans=[]\n",
    "for ij in range(K,N+1):\n",
    "    for ik in range(N-ij+1):\n",
    "        A=arr[ik:ik+ij]\n",
    "        m=sum(A)/ij\n",
    "        d=0\n",
    "        for it in range(ij):\n",
    "            d+=((A[it]-m)**2)/ij\n",
    "        ans.append(d**(1/2))\n",
    "print(min(ans))"
   ]
  },
  {
   "cell_type": "markdown",
   "id": "a652efd6",
   "metadata": {},
   "source": [
    "#### 19698 헛간 청약"
   ]
  },
  {
   "cell_type": "code",
   "execution_count": 7,
   "id": "2f1c0ece",
   "metadata": {},
   "outputs": [
    {
     "name": "stdout",
     "output_type": "stream",
     "text": [
      "7 17 11 5\n",
      "6\n"
     ]
    }
   ],
   "source": [
    "N,W,H,L=map(int,input().split())\n",
    "print(min(N,(W//L)*(H//L)))"
   ]
  },
  {
   "cell_type": "markdown",
   "id": "a51122e5",
   "metadata": {},
   "source": [
    "#### 2033 반올림"
   ]
  },
  {
   "cell_type": "code",
   "execution_count": 8,
   "id": "6b16f7db",
   "metadata": {},
   "outputs": [
    {
     "name": "stdout",
     "output_type": "stream",
     "text": [
      "15\n",
      "20\n"
     ]
    }
   ],
   "source": [
    "N=list(map(int,list(input())))\n",
    "for ik in range(-1,-len(N),-1):\n",
    "    if N[ik]>=5:\n",
    "        N[ik-1]+=1\n",
    "print(N[0]*(10**(len(N)-1)))"
   ]
  },
  {
   "cell_type": "markdown",
   "id": "e86591c0",
   "metadata": {},
   "source": [
    "#### 2993 세부분"
   ]
  },
  {
   "cell_type": "code",
   "execution_count": 9,
   "id": "4648265e",
   "metadata": {},
   "outputs": [
    {
     "name": "stdout",
     "output_type": "stream",
     "text": [
      "dcbagfekjih\n",
      "abcdefghijk\n"
     ]
    }
   ],
   "source": [
    "S=list(input())\n",
    "N=len(S)\n",
    "arr=[]\n",
    "for ik in range(1,N-2):\n",
    "    for it in range(ik,N-1):\n",
    "        t=''\n",
    "        a=list(reversed(S[:ik]))\n",
    "        b=list(reversed(S[ik:it+1]))\n",
    "        c=list(reversed(S[it+1:]))\n",
    "        t=t+''.join(a)+''.join(b)+''.join(c)\n",
    "        arr.append(t)\n",
    "arr.sort()\n",
    "print(arr[0])"
   ]
  },
  {
   "cell_type": "markdown",
   "id": "f7b648aa",
   "metadata": {},
   "source": [
    "#### 4447 좋은놈 나쁜놈"
   ]
  },
  {
   "cell_type": "code",
   "execution_count": 10,
   "id": "ea9bd462",
   "metadata": {},
   "outputs": [
    {
     "name": "stdout",
     "output_type": "stream",
     "text": [
      "1\n",
      "Algorithm Crunching Man\n",
      "Algorithm Crunching Man is GOOD\n"
     ]
    }
   ],
   "source": [
    "N=int(input())\n",
    "for ik in range(N):\n",
    "    name=input()\n",
    "    g=name.count('g')+name.count('G')\n",
    "    b=name.count('b')+name.count('B')\n",
    "    if g>b:\n",
    "        print(name+' is GOOD')\n",
    "    elif g<b:\n",
    "        print(name+' is A BADDY')\n",
    "    else:\n",
    "        print(name+\" is NEUTRAL\")"
   ]
  },
  {
   "cell_type": "markdown",
   "id": "dabf649b",
   "metadata": {},
   "source": [
    "#### 1049 기타줄"
   ]
  },
  {
   "cell_type": "code",
   "execution_count": 12,
   "id": "1ae58e82",
   "metadata": {},
   "outputs": [
    {
     "name": "stdout",
     "output_type": "stream",
     "text": [
      "4 2\n",
      "12 3\n",
      "15 4\n",
      "12\n"
     ]
    }
   ],
   "source": [
    "N,M=map(int,input().split())\n",
    "a=1000\n",
    "b=1000\n",
    "for ik in range(M):\n",
    "    A,B=map(int,input().split())\n",
    "    if A<a:\n",
    "        a=A\n",
    "    if B<b:\n",
    "        b=B\n",
    "arr=[N*b]\n",
    "if N%6==0:\n",
    "    arr.append((N//6)*a)\n",
    "else:\n",
    "    arr.append((N//6+1)*a)\n",
    "    arr.append((N//6)*a+(N%6)*b)\n",
    "print(min(arr))"
   ]
  },
  {
   "cell_type": "markdown",
   "id": "96120ee6",
   "metadata": {},
   "source": [
    "#### 1212 8진수 2진수"
   ]
  },
  {
   "cell_type": "code",
   "execution_count": 13,
   "id": "bcdf2ac4",
   "metadata": {},
   "outputs": [
    {
     "name": "stdout",
     "output_type": "stream",
     "text": [
      "314\n",
      "11001100\n"
     ]
    }
   ],
   "source": [
    "E=input()\n",
    "T=int(E,8)\n",
    "b=bin(T)\n",
    "print(b[2:])"
   ]
  },
  {
   "cell_type": "markdown",
   "id": "a070142e",
   "metadata": {},
   "source": [
    "#### 1284 집 주소"
   ]
  },
  {
   "cell_type": "code",
   "execution_count": 14,
   "id": "34c3f8a7",
   "metadata": {},
   "outputs": [
    {
     "name": "stdout",
     "output_type": "stream",
     "text": [
      "120\n",
      "13\n",
      "0\n"
     ]
    }
   ],
   "source": [
    "while(1):\n",
    "    N=input()\n",
    "    if N=='0':\n",
    "        break\n",
    "    ans=len(N)*3\n",
    "    if '1' in N:\n",
    "        ans-=N.count('1')\n",
    "    if '0' in N:\n",
    "        ans+=N.count('0')\n",
    "    ans+=len(N)+1\n",
    "    print(ans)"
   ]
  },
  {
   "cell_type": "markdown",
   "id": "ef9a34f6",
   "metadata": {},
   "source": [
    "#### 1380 귀걸이"
   ]
  },
  {
   "cell_type": "code",
   "execution_count": 15,
   "id": "c6b1b1f7",
   "metadata": {},
   "outputs": [
    {
     "name": "stdout",
     "output_type": "stream",
     "text": [
      "0\n"
     ]
    }
   ],
   "source": [
    "T=0\n",
    "while(1):\n",
    "    T+=1\n",
    "    N=int(input())\n",
    "    if N==0:\n",
    "        break\n",
    "    name=[]\n",
    "    for ik in range(N):\n",
    "        name.append(input())\n",
    "    ans=[]\n",
    "    for ik in range(2*N-1):\n",
    "        n,p=input().split()\n",
    "        n=int(n)\n",
    "        if name[n-1] in ans:\n",
    "            ans.remove(name[n-1])\n",
    "        else:\n",
    "            ans.append(name[n-1])\n",
    "    print(T,ans[0])"
   ]
  },
  {
   "cell_type": "markdown",
   "id": "44c85dca",
   "metadata": {},
   "source": [
    "#### 14490 백대열"
   ]
  },
  {
   "cell_type": "code",
   "execution_count": 16,
   "id": "e05d7356",
   "metadata": {},
   "outputs": [
    {
     "name": "stdout",
     "output_type": "stream",
     "text": [
      "100:10\n",
      "10:1\n"
     ]
    }
   ],
   "source": [
    "n,m=map(int,input().split(':'))\n",
    "a=max(n,m)\n",
    "b=min(n,m)\n",
    "while(1):\n",
    "    if a%b==0:\n",
    "        break\n",
    "    c=a%b\n",
    "    a=b\n",
    "    b=c\n",
    "print(\"%d:%d\"%(n//b,m//b))"
   ]
  },
  {
   "cell_type": "markdown",
   "id": "932d4d85",
   "metadata": {},
   "source": [
    "#### 14912 숫자 빈도수"
   ]
  },
  {
   "cell_type": "code",
   "execution_count": 17,
   "id": "e4cd1571",
   "metadata": {},
   "outputs": [
    {
     "name": "stdout",
     "output_type": "stream",
     "text": [
      "11 1\n",
      "4\n"
     ]
    }
   ],
   "source": [
    "n,d=map(int,input().split())\n",
    "ans=0\n",
    "for ik in range(1,n+1):\n",
    "    s=str(ik)\n",
    "    ans+=s.count(str(d))\n",
    "print(ans)"
   ]
  },
  {
   "cell_type": "markdown",
   "id": "b0943761",
   "metadata": {},
   "source": [
    "#### 17413 단어 뒤집기 2"
   ]
  },
  {
   "cell_type": "code",
   "execution_count": 18,
   "id": "647b962f",
   "metadata": {},
   "outputs": [
    {
     "name": "stdout",
     "output_type": "stream",
     "text": [
      "baekjoon online judge\n",
      "noojkeab enilno egduj"
     ]
    }
   ],
   "source": [
    "S=input()\n",
    "arr=[]\n",
    "while(1):\n",
    "    if '<' in S:\n",
    "        arr.append(S[:S.index('<')])\n",
    "        arr.append(S[S.index('<'):S.index('>')+1])\n",
    "        S=S[S.index('>')+1:]\n",
    "    else:\n",
    "        arr.append(S)\n",
    "        break\n",
    "for ik in arr:\n",
    "    if '<' in ik:\n",
    "        print(ik,end='')\n",
    "    else:\n",
    "        t=list(ik.split())\n",
    "        T=''\n",
    "        for it in t:\n",
    "            T+=' '+''.join(list(reversed(it)))\n",
    "        print(T[1:],end='')"
   ]
  },
  {
   "cell_type": "markdown",
   "id": "21175e61",
   "metadata": {},
   "source": [
    "#### 1124 언더프라임"
   ]
  },
  {
   "cell_type": "code",
   "execution_count": 26,
   "id": "afe6a785",
   "metadata": {},
   "outputs": [
    {
     "name": "stdout",
     "output_type": "stream",
     "text": [
      "2 100000\n"
     ]
    }
   ],
   "source": [
    "A,B=map(int,input().split())\n",
    "P=[]\n",
    "for ik in range(2,B):\n",
    "    c=0\n",
    "    for it in P:\n",
    "        if ik%it==0:\n",
    "            c=1\n",
    "            break\n",
    "        if it>=((ik)**(1/2)):\n",
    "            break\n",
    "    if c==0:\n",
    "        P.append(ik)"
   ]
  },
  {
   "cell_type": "code",
   "execution_count": 28,
   "id": "488785ef",
   "metadata": {},
   "outputs": [
    {
     "data": {
      "text/plain": [
       "99991"
      ]
     },
     "execution_count": 28,
     "metadata": {},
     "output_type": "execute_result"
    }
   ],
   "source": [
    "P[-1]"
   ]
  },
  {
   "cell_type": "code",
   "execution_count": null,
   "id": "49a4b008",
   "metadata": {},
   "outputs": [],
   "source": []
  }
 ],
 "metadata": {
  "kernelspec": {
   "display_name": "Python 3 (ipykernel)",
   "language": "python",
   "name": "python3"
  },
  "language_info": {
   "codemirror_mode": {
    "name": "ipython",
    "version": 3
   },
   "file_extension": ".py",
   "mimetype": "text/x-python",
   "name": "python",
   "nbconvert_exporter": "python",
   "pygments_lexer": "ipython3",
   "version": "3.9.7"
  }
 },
 "nbformat": 4,
 "nbformat_minor": 5
}
