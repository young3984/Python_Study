{
 "cells": [
  {
   "cell_type": "markdown",
   "id": "dd48630d",
   "metadata": {},
   "source": [
    "#### 1024 수열의 합"
   ]
  },
  {
   "cell_type": "code",
   "execution_count": 54,
   "id": "736da22e",
   "metadata": {},
   "outputs": [
    {
     "name": "stdout",
     "output_type": "stream",
     "text": [
      "1000000000 2\n",
      "199999998 199999999 200000000 200000001 200000002 "
     ]
    }
   ],
   "source": [
    "N,L=map(int,input().split())\n",
    "for ik in range(L,101):\n",
    "    arr=[ik for ik in range(ik)]\n",
    "    C=sum(arr)\n",
    "    if N-C<0:\n",
    "        print(-1)\n",
    "        break\n",
    "    if (N-C)%ik==0:\n",
    "        for it in arr:\n",
    "            print(it+(N-C)//ik,end=' ')\n",
    "        break\n",
    "    if len(arr)==100:\n",
    "        print(-1)"
   ]
  },
  {
   "cell_type": "markdown",
   "id": "86b6cce7",
   "metadata": {},
   "source": [
    "#### 1500 최대 곱"
   ]
  },
  {
   "cell_type": "code",
   "execution_count": 62,
   "id": "a3def85c",
   "metadata": {},
   "outputs": [
    {
     "name": "stdout",
     "output_type": "stream",
     "text": [
      "7 2\n",
      "12\n"
     ]
    }
   ],
   "source": [
    "S,K=map(int,input().split())\n",
    "arr=[S//K]*K\n",
    "n=S%K\n",
    "for ik in range(n):\n",
    "    arr[ik]+=1\n",
    "ans=1\n",
    "for ik in arr:\n",
    "    ans*=ik\n",
    "print(ans)"
   ]
  },
  {
   "cell_type": "markdown",
   "id": "dee1334c",
   "metadata": {},
   "source": [
    "#### 16439 치킨치킨치킨"
   ]
  },
  {
   "cell_type": "code",
   "execution_count": 9,
   "id": "39909d46",
   "metadata": {},
   "outputs": [
    {
     "name": "stdout",
     "output_type": "stream",
     "text": [
      "4 6\n",
      "1 2 3 4 5 6\n",
      "6 5 4 3 2 1\n",
      "3 2 7 9 2 5\n",
      "4 5 6 3 2 1\n",
      "25\n"
     ]
    }
   ],
   "source": [
    "from itertools import combinations\n",
    "N,M=map(int,input().split())\n",
    "arr=[]\n",
    "K=[ik+1 for ik in range(M)]\n",
    "for ik in range(N):\n",
    "    T=list(map(int,input().split()))\n",
    "    arr.append(T)\n",
    "ans=[]\n",
    "k=list(combinations(K,3))\n",
    "for ik in k:\n",
    "    t=0\n",
    "    a=ik[0]\n",
    "    b=ik[1]\n",
    "    c=ik[2]\n",
    "    for it in range(N):\n",
    "        t+=max(arr[it][a-1],arr[it][b-1],arr[it][c-1])\n",
    "    ans.append(t)\n",
    "print(max(ans))"
   ]
  },
  {
   "cell_type": "markdown",
   "id": "007fcf17",
   "metadata": {},
   "source": [
    "#### 14225 부분수열의 합"
   ]
  },
  {
   "cell_type": "code",
   "execution_count": 14,
   "id": "fd2b1a4d",
   "metadata": {},
   "outputs": [
    {
     "name": "stdout",
     "output_type": "stream",
     "text": [
      "4\n",
      "2 1 2 7\n",
      "6\n"
     ]
    }
   ],
   "source": [
    "from itertools import combinations\n",
    "N=int(input())\n",
    "S=list(map(int,input().split()))\n",
    "arr=[]\n",
    "for ik in range(1,N+1):\n",
    "    k=list(set(list(combinations(S,ik))))\n",
    "    for it in k:\n",
    "        arr.append(sum(list(it)))\n",
    "arr=list(set(arr))\n",
    "arr.sort()\n",
    "arr.append(0)\n",
    "it=1\n",
    "for ik in arr:\n",
    "    if ik!=it:\n",
    "        print(it)\n",
    "        break\n",
    "    else:\n",
    "        it+=1"
   ]
  },
  {
   "cell_type": "markdown",
   "id": "9cb8ce1a",
   "metadata": {},
   "source": [
    "#### 19698 헛간 청약"
   ]
  },
  {
   "cell_type": "code",
   "execution_count": 15,
   "id": "a4a7789c",
   "metadata": {},
   "outputs": [
    {
     "name": "stdout",
     "output_type": "stream",
     "text": [
      "7 17 11 5\n",
      "6\n"
     ]
    }
   ],
   "source": [
    "N,W,H,L=map(int,input().split())\n",
    "print(min(N,(W//L)*(H//L)))"
   ]
  },
  {
   "cell_type": "markdown",
   "id": "4db8031b",
   "metadata": {},
   "source": [
    "#### 2023 반올림"
   ]
  },
  {
   "cell_type": "code",
   "execution_count": 29,
   "id": "031aff87",
   "metadata": {},
   "outputs": [
    {
     "name": "stdout",
     "output_type": "stream",
     "text": [
      "446\n",
      "500\n"
     ]
    }
   ],
   "source": [
    "N=list(map(int,list(input())))\n",
    "for ik in range(-1,-len(N),-1):\n",
    "    if N[ik]>=5:\n",
    "        N[ik-1]+=1\n",
    "print(N[0]*(10**(len(N)-1)))"
   ]
  },
  {
   "cell_type": "markdown",
   "id": "78ba3829",
   "metadata": {},
   "source": [
    "#### 2993 세 부분"
   ]
  },
  {
   "cell_type": "code",
   "execution_count": 30,
   "id": "7198ed09",
   "metadata": {},
   "outputs": [
    {
     "name": "stdout",
     "output_type": "stream",
     "text": [
      "dcbagfekjih\n",
      "abcdefghijk\n"
     ]
    }
   ],
   "source": [
    "S=list(input())\n",
    "N=len(S)\n",
    "arr=[]\n",
    "for ik in range(1,N-2):\n",
    "    for it in range(ik,N-1):\n",
    "        t=''\n",
    "        a=list(reversed(S[:ik]))\n",
    "        b=list(reversed(S[ik:it+1]))\n",
    "        c=list(reversed(S[it+1:]))\n",
    "        t=t+''.join(a)+''.join(b)+''.join(c)\n",
    "        arr.append(t)\n",
    "arr.sort()\n",
    "print(arr[0])"
   ]
  },
  {
   "cell_type": "markdown",
   "id": "3ac05dac",
   "metadata": {},
   "source": [
    "#### 4447 좋은놈 나쁜놈"
   ]
  },
  {
   "cell_type": "code",
   "execution_count": 35,
   "id": "fafb85ee",
   "metadata": {},
   "outputs": [
    {
     "name": "stdout",
     "output_type": "stream",
     "text": [
      "3\n",
      "Algorithm Crunching Man\n",
      "Algorithm Crunching Man is GOOD\n",
      "Superman\n",
      "Superman is NEUTRAL\n",
      "Batman\n",
      "Batman is A BADDY\n"
     ]
    }
   ],
   "source": [
    "N=int(input())\n",
    "for ik in range(N):\n",
    "    name=input()\n",
    "    g=name.count('g')+name.count('G')\n",
    "    b=name.count('b')+name.count('B')\n",
    "    if g>b:\n",
    "        print(name+' is GOOD')\n",
    "    elif g<b:\n",
    "        print(name+' is A BADDY')\n",
    "    else:\n",
    "        print(name+\" is NEUTRAL\")"
   ]
  },
  {
   "cell_type": "markdown",
   "id": "c1af3b27",
   "metadata": {},
   "source": [
    "#### 14490 백대열"
   ]
  },
  {
   "cell_type": "code",
   "execution_count": 1,
   "id": "0b60477b",
   "metadata": {},
   "outputs": [
    {
     "name": "stdout",
     "output_type": "stream",
     "text": [
      "100:10\n",
      "10:1\n"
     ]
    }
   ],
   "source": [
    "n,m=map(int,input().split(':'))\n",
    "a=max(n,m)\n",
    "b=min(n,m)\n",
    "while(1):\n",
    "    if a%b==0:\n",
    "        break\n",
    "    c=a%b\n",
    "    a=b\n",
    "    b=c\n",
    "print(\"%d:%d\"%(n//b,m//b))"
   ]
  },
  {
   "cell_type": "markdown",
   "id": "ba941209",
   "metadata": {},
   "source": [
    "#### 1380 귀걸이"
   ]
  },
  {
   "cell_type": "code",
   "execution_count": 14,
   "id": "1a76485a",
   "metadata": {},
   "outputs": [
    {
     "name": "stdout",
     "output_type": "stream",
     "text": [
      "2\n",
      "al\n",
      "b\n",
      "1 b\n",
      "1 b\n",
      "2 a\n",
      "1 b\n",
      "0\n"
     ]
    }
   ],
   "source": [
    "T=0\n",
    "while(1):\n",
    "    T+=1\n",
    "    N=int(input())\n",
    "    if N==0:\n",
    "        break\n",
    "    name=[]\n",
    "    for ik in range(N):\n",
    "        name.append(input())\n",
    "    ans=[]\n",
    "    for ik in range(2*N-1):\n",
    "        n,p=input().split()\n",
    "        n=int(n)\n",
    "        if name[n-1] in ans:\n",
    "            ans.remove(name[n-1])\n",
    "        else:\n",
    "            ans.append(name[n-1])\n",
    "    print(T,ans[0])"
   ]
  },
  {
   "cell_type": "markdown",
   "id": "00310f30",
   "metadata": {},
   "source": [
    "#### 1284  집주소"
   ]
  },
  {
   "cell_type": "code",
   "execution_count": 21,
   "id": "04fd2787",
   "metadata": {},
   "outputs": [
    {
     "name": "stdout",
     "output_type": "stream",
     "text": [
      "120\n",
      "13\n",
      "5611\n",
      "15\n",
      "100\n",
      "14\n",
      "0\n"
     ]
    }
   ],
   "source": [
    "while(1):\n",
    "    N=input()\n",
    "    if N=='0':\n",
    "        break\n",
    "    ans=len(N)*3\n",
    "    if '1' in N:\n",
    "        ans-=N.count('1')\n",
    "    if '0' in N:\n",
    "        ans+=N.count('0')\n",
    "    ans+=len(N)+1\n",
    "    print(ans)"
   ]
  },
  {
   "cell_type": "markdown",
   "id": "83eed183",
   "metadata": {},
   "source": [
    "#### 1212 8진수 2진수"
   ]
  },
  {
   "cell_type": "code",
   "execution_count": 27,
   "id": "46bfec1f",
   "metadata": {},
   "outputs": [
    {
     "name": "stdout",
     "output_type": "stream",
     "text": [
      "3333334\n",
      "11011011011011011100\n"
     ]
    }
   ],
   "source": [
    "E=input()\n",
    "T=int(E,8)\n",
    "b=bin(T)\n",
    "print(b[2:])"
   ]
  },
  {
   "cell_type": "markdown",
   "id": "712ae72c",
   "metadata": {},
   "source": [
    "#### 1049 기타줄"
   ]
  },
  {
   "cell_type": "code",
   "execution_count": 36,
   "id": "ba77cc8e",
   "metadata": {},
   "outputs": [
    {
     "name": "stdout",
     "output_type": "stream",
     "text": [
      "9 16\n",
      "21 25\n",
      "77 23\n",
      "23 88\n",
      "95 43\n",
      "96 19\n",
      "59 36\n",
      "80 13\n",
      "51 24\n",
      "15 8\n",
      "25 61\n",
      "21 22\n",
      "3 9\n",
      "68 68\n",
      "67 100\n",
      "83 98\n",
      "96 57\n",
      "6\n"
     ]
    }
   ],
   "source": [
    "N,M=map(int,input().split())\n",
    "a=1000\n",
    "b=1000\n",
    "for ik in range(M):\n",
    "    A,B=map(int,input().split())\n",
    "    if A<a:\n",
    "        a=A\n",
    "    if B<b:\n",
    "        b=B\n",
    "arr=[N*b]\n",
    "if N%6==0:\n",
    "    arr.append((N//6)*a)\n",
    "else:\n",
    "    arr.append((N//6+1)*a)\n",
    "    arr.append((N//6)*a+(N%6)*b)\n",
    "print(min(arr))"
   ]
  },
  {
   "cell_type": "markdown",
   "id": "5221547c",
   "metadata": {},
   "source": [
    "#### 17413 단어 뒤집기 2"
   ]
  },
  {
   "cell_type": "code",
   "execution_count": 63,
   "id": "9b16908c",
   "metadata": {},
   "outputs": [
    {
     "name": "stdout",
     "output_type": "stream",
     "text": [
      "<   space   >ecaps ecaps ecaps<    spa   c e>\n",
      "<   space   >space space space<    spa   c e>"
     ]
    }
   ],
   "source": [
    "S=input()\n",
    "arr=[]\n",
    "while(1):\n",
    "    if '<' in S:\n",
    "        arr.append(S[:S.index('<')])\n",
    "        arr.append(S[S.index('<'):S.index('>')+1])\n",
    "        S=S[S.index('>')+1:]\n",
    "    else:\n",
    "        arr.append(S)\n",
    "        break\n",
    "for ik in arr:\n",
    "    if '<' in ik:\n",
    "        print(ik,end='')\n",
    "    else:\n",
    "        t=list(ik.split())\n",
    "        T=''\n",
    "        for it in t:\n",
    "            T+=' '+''.join(list(reversed(it)))\n",
    "        print(T[1:],end='')"
   ]
  },
  {
   "cell_type": "markdown",
   "id": "fc225255",
   "metadata": {},
   "source": [
    "#### 14912 숫자 빈도수"
   ]
  },
  {
   "cell_type": "code",
   "execution_count": 66,
   "id": "d4383284",
   "metadata": {},
   "outputs": [
    {
     "name": "stdout",
     "output_type": "stream",
     "text": [
      "100000 6\n",
      "50000\n"
     ]
    }
   ],
   "source": [
    "n,d=map(int,input().split())\n",
    "ans=0\n",
    "for ik in range(1,n+1):\n",
    "    s=str(ik)\n",
    "    ans+=s.count(str(d))\n",
    "print(ans)"
   ]
  },
  {
   "cell_type": "markdown",
   "id": "50ff8e9c",
   "metadata": {},
   "source": [
    "#### 15954 인형들"
   ]
  },
  {
   "cell_type": "code",
   "execution_count": 99,
   "id": "239b98ed",
   "metadata": {},
   "outputs": [
    {
     "name": "stdout",
     "output_type": "stream",
     "text": [
      "5 3\n",
      "1 2 3 4 5\n",
      "[1, 2, 3]\n",
      "[2, 3, 4]\n",
      "[3, 4, 5]\n",
      "[1, 2, 3, 4]\n",
      "[2, 3, 4, 5]\n",
      "[1, 2, 3, 4, 5]\n",
      "0.816496580927726\n"
     ]
    }
   ],
   "source": [
    "N,K=map(int,input().split())\n",
    "arr=list(map(int,input().split()))\n",
    "ans=[]\n",
    "for ij in range(K,N+1):\n",
    "    for ik in range(N-ij+1):\n",
    "        A=arr[ik:ik+ij]\n",
    "        m=sum(A)/ij\n",
    "        d=0\n",
    "        for it in range(ij):\n",
    "            d+=((A[it]-m)**2)/ij\n",
    "        ans.append(d**(1/2))\n",
    "print(min(ans))"
   ]
  },
  {
   "cell_type": "code",
   "execution_count": null,
   "id": "42a85b87",
   "metadata": {},
   "outputs": [],
   "source": []
  }
 ],
 "metadata": {
  "kernelspec": {
   "display_name": "Python 3 (ipykernel)",
   "language": "python",
   "name": "python3"
  },
  "language_info": {
   "codemirror_mode": {
    "name": "ipython",
    "version": 3
   },
   "file_extension": ".py",
   "mimetype": "text/x-python",
   "name": "python",
   "nbconvert_exporter": "python",
   "pygments_lexer": "ipython3",
   "version": "3.9.7"
  }
 },
 "nbformat": 4,
 "nbformat_minor": 5
}
