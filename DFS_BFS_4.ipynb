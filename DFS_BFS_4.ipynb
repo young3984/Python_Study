{
 "cells": [
  {
   "cell_type": "markdown",
   "id": "0bc7bf1b",
   "metadata": {},
   "source": [
    "## DFS/BFS 4"
   ]
  },
  {
   "cell_type": "markdown",
   "id": "ea83c24f",
   "metadata": {},
   "source": [
    "#### 11060 점프 점프"
   ]
  },
  {
   "cell_type": "code",
   "execution_count": 1,
   "id": "90775c77",
   "metadata": {},
   "outputs": [],
   "source": [
    "from collections import deque"
   ]
  },
  {
   "cell_type": "code",
   "execution_count": 31,
   "id": "287e7e73",
   "metadata": {},
   "outputs": [
    {
     "name": "stdout",
     "output_type": "stream",
     "text": [
      "5\n",
      "0 0 0 1 0\n",
      "-1\n"
     ]
    }
   ],
   "source": [
    "N=int(input())\n",
    "A=list(map(int,input().split()))\n",
    "ans=[10000]*N\n",
    "Q=deque([0])\n",
    "while Q:\n",
    "    v=Q.popleft()\n",
    "    ans[0]=0\n",
    "    for ik in range(A[v]):\n",
    "        nx=v+ik+1\n",
    "        if nx<N:\n",
    "            if ans[nx]>(ans[v]+1):\n",
    "                ans[nx]=ans[v]+1\n",
    "                Q.append(nx)\n",
    "if ans[-1]==100:\n",
    "    print(-1)\n",
    "else:\n",
    "    print(ans[-1])            "
   ]
  },
  {
   "cell_type": "markdown",
   "id": "23b21c26",
   "metadata": {},
   "source": [
    "#### 10917 Your life"
   ]
  },
  {
   "cell_type": "code",
   "execution_count": 14,
   "id": "1e53dbd6",
   "metadata": {},
   "outputs": [
    {
     "name": "stdout",
     "output_type": "stream",
     "text": [
      "4 4\n",
      "1 2\n",
      "2 3\n",
      "3 4\n",
      "2 4\n",
      "2\n"
     ]
    }
   ],
   "source": [
    "from collections import deque\n",
    "N,M=map(int,input().split())\n",
    "R=[[] for ik in range(N+1)]\n",
    "for ik in range(M):\n",
    "    x,y=map(int,input().split())\n",
    "    R[y].append(x)\n",
    "ans=[0]*(N+1)\n",
    "ans[N]=1\n",
    "Q=deque([N])\n",
    "while Q:\n",
    "    v=Q.popleft()\n",
    "    for ik in R[v]:\n",
    "        if ans[ik]==0:\n",
    "            ans[ik]=ans[v]+1\n",
    "            Q.append(ik)\n",
    "if ans[1]==0:\n",
    "    print(-1)\n",
    "else:\n",
    "    print(ans[1]-1)"
   ]
  },
  {
   "cell_type": "markdown",
   "id": "ee422285",
   "metadata": {},
   "source": [
    "#### 10026 적록색약"
   ]
  },
  {
   "cell_type": "code",
   "execution_count": 26,
   "id": "e69f29c9",
   "metadata": {},
   "outputs": [],
   "source": [
    "def dfs_g(a,b):\n",
    "    if (a<=-1)|(b<=-1)|(a>=N)|(b>=N):\n",
    "        return False\n",
    "    if P[a][b]=='G':\n",
    "        P[a][b]=1\n",
    "        dfs_g(a+1,b)\n",
    "        dfs_g(a,b+1)\n",
    "        dfs_g(a-1,b)\n",
    "        dfs_g(a,b-1)\n",
    "        return True\n",
    "    return False\n",
    "def dfs_b(a,b):\n",
    "    if (a<=-1)|(b<=-1)|(a>=N)|(b>=N):\n",
    "        return False\n",
    "    if P[a][b]=='B':\n",
    "        P[a][b]=0\n",
    "        dfs_b(a+1,b)\n",
    "        dfs_b(a,b+1)\n",
    "        dfs_b(a-1,b)\n",
    "        dfs_b(a,b-1)\n",
    "        return True\n",
    "    return False\n",
    "def dfs_r(a,b):\n",
    "    if (a<=-1)|(b<=-1)|(a>=N)|(b>=N):\n",
    "        return False\n",
    "    if P[a][b]=='R':\n",
    "        P[a][b]=1\n",
    "        dfs_r(a+1,b)\n",
    "        dfs_r(a,b+1)\n",
    "        dfs_r(a-1,b)\n",
    "        dfs_r(a,b-1)\n",
    "        return True\n",
    "    return False\n",
    "def dfs_1(a,b):\n",
    "    if (a<=-1)|(b<=-1)|(a>=N)|(b>=N):\n",
    "        return False\n",
    "    if P[a][b]==1:\n",
    "        P[a][b]=0\n",
    "        dfs_1(a+1,b)\n",
    "        dfs_1(a,b+1)\n",
    "        dfs_1(a-1,b)\n",
    "        dfs_1(a,b-1)\n",
    "        return True\n",
    "    return False"
   ]
  },
  {
   "cell_type": "code",
   "execution_count": 27,
   "id": "7f02619c",
   "metadata": {},
   "outputs": [
    {
     "name": "stdout",
     "output_type": "stream",
     "text": [
      "5\n",
      "RRRBB\n",
      "GGBBB\n",
      "BBBRR\n",
      "BBRRR\n",
      "RRRRR\n"
     ]
    }
   ],
   "source": [
    "N=int(input())\n",
    "P=[]\n",
    "p=[]\n",
    "for ik in range(N):\n",
    "    temp=list(input())\n",
    "    P.append(temp)\n",
    "    p.append(temp)\n",
    "g=0\n",
    "r=0\n",
    "b=0\n",
    "rg=0\n",
    "for ik in range(N):\n",
    "    for it in range(N):\n",
    "        if P[ik][it] == 'B':\n",
    "            b+=1\n",
    "            dfs_b(ik,it)\n",
    "for ik in range(N):\n",
    "    for it in range(N):\n",
    "        if P[ik][it]=='R':\n",
    "            r+=1\n",
    "            dfs_r(ik,it)\n",
    "for ik in range(N):\n",
    "    for it in range(N):\n",
    "        if P[ik][it]=='G':\n",
    "            r+=1\n",
    "            dfs_g(ik,it)\n",
    "for ik in range(N):\n",
    "    for it in range(N):\n",
    "        if P[ik][it]==1:\n",
    "            rg+=1\n",
    "            dfs_1(ik,it)\n",
    "print(r+g+b,rg+b)           "
   ]
  },
  {
   "cell_type": "markdown",
   "id": "30dd5499",
   "metadata": {},
   "source": [
    "#### 10026 적록색약 2"
   ]
  },
  {
   "cell_type": "code",
   "execution_count": 1,
   "id": "e96e209e",
   "metadata": {},
   "outputs": [],
   "source": [
    "def dfs(a,b,t,c):\n",
    "    if (a<=-1)|(b<=-1)|(a>=N)|(b>=N):\n",
    "        return False\n",
    "    if P[a][b]==t:\n",
    "        P[a][b]=c\n",
    "        dfs(a+1,b,t,c)\n",
    "        dfs(a,b+1,t,c)\n",
    "        dfs(a-1,b,t,c)\n",
    "        dfs(a,b-1,t,c)\n",
    "        return True\n",
    "    return False"
   ]
  },
  {
   "cell_type": "code",
   "execution_count": 3,
   "id": "438b0b49",
   "metadata": {},
   "outputs": [
    {
     "name": "stdout",
     "output_type": "stream",
     "text": [
      "5\n",
      "RRRBB\n",
      "GGBBB\n",
      "BBBRR\n",
      "BBRRR\n",
      "RRRRR\n",
      "4 3\n"
     ]
    }
   ],
   "source": [
    "N=int(input())\n",
    "P=[]\n",
    "p=[]\n",
    "for ik in range(N):\n",
    "    temp=list(input())\n",
    "    P.append(temp)\n",
    "    p.append(temp)\n",
    "g=0\n",
    "r=0\n",
    "b=0\n",
    "rg=0\n",
    "for ik in range(N):\n",
    "    for it in range(N):\n",
    "        if P[ik][it] == 'B':\n",
    "            b+=1\n",
    "            dfs(ik,it,'B',0)\n",
    "for ik in range(N):\n",
    "    for it in range(N):\n",
    "        if P[ik][it]=='R':\n",
    "            r+=1\n",
    "            dfs(ik,it,'R',1)\n",
    "for ik in range(N):\n",
    "    for it in range(N):\n",
    "        if P[ik][it]=='G':\n",
    "            r+=1\n",
    "            dfs(ik,it,'G',1)\n",
    "for ik in range(N):\n",
    "    for it in range(N):\n",
    "        if P[ik][it]==1:\n",
    "            rg+=1\n",
    "            dfs(ik,it,1,0)\n",
    "print(r+g+b,rg+b)   "
   ]
  },
  {
   "cell_type": "markdown",
   "id": "e6f61156",
   "metadata": {},
   "source": [
    "#### 1240 노드사이의 거리"
   ]
  },
  {
   "cell_type": "code",
   "execution_count": null,
   "id": "9775f0e3",
   "metadata": {},
   "outputs": [],
   "source": [
    "N,M=map(int,input().split())\n",
    "T=[[]]*(N+1)\n",
    "for ik in range(N-1):\n",
    "    a,b,r=map(int,input().split())\n",
    "    T[a]=(b,r)\n",
    "    T[b]=(a,r)\n",
    "for ik in range(M):\n",
    "    \n",
    "    A,B=map(int,input().split())"
   ]
  },
  {
   "cell_type": "code",
   "execution_count": null,
   "id": "dc5d4451",
   "metadata": {},
   "outputs": [],
   "source": []
  },
  {
   "cell_type": "code",
   "execution_count": null,
   "id": "dfc24e66",
   "metadata": {},
   "outputs": [],
   "source": []
  }
 ],
 "metadata": {
  "kernelspec": {
   "display_name": "Python 3 (ipykernel)",
   "language": "python",
   "name": "python3"
  },
  "language_info": {
   "codemirror_mode": {
    "name": "ipython",
    "version": 3
   },
   "file_extension": ".py",
   "mimetype": "text/x-python",
   "name": "python",
   "nbconvert_exporter": "python",
   "pygments_lexer": "ipython3",
   "version": "3.9.7"
  }
 },
 "nbformat": 4,
 "nbformat_minor": 5
}
