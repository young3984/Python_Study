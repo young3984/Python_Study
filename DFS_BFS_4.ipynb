{
 "cells": [
  {
   "cell_type": "markdown",
   "id": "0bc7bf1b",
   "metadata": {},
   "source": [
    "## DFS/BFS 4"
   ]
  },
  {
   "cell_type": "markdown",
   "id": "ea83c24f",
   "metadata": {},
   "source": [
    "#### 11060 점프 점프"
   ]
  },
  {
   "cell_type": "code",
   "execution_count": 1,
   "id": "90775c77",
   "metadata": {},
   "outputs": [],
   "source": [
    "from collections import deque"
   ]
  },
  {
   "cell_type": "code",
   "execution_count": 31,
   "id": "287e7e73",
   "metadata": {},
   "outputs": [
    {
     "name": "stdout",
     "output_type": "stream",
     "text": [
      "5\n",
      "0 0 0 1 0\n",
      "-1\n"
     ]
    }
   ],
   "source": [
    "N=int(input())\n",
    "A=list(map(int,input().split()))\n",
    "ans=[10000]*N\n",
    "Q=deque([0])\n",
    "while Q:\n",
    "    v=Q.popleft()\n",
    "    ans[0]=0\n",
    "    for ik in range(A[v]):\n",
    "        nx=v+ik+1\n",
    "        if nx<N:\n",
    "            if ans[nx]>(ans[v]+1):\n",
    "                ans[nx]=ans[v]+1\n",
    "                Q.append(nx)\n",
    "if ans[-1]==100:\n",
    "    print(-1)\n",
    "else:\n",
    "    print(ans[-1])            "
   ]
  },
  {
   "cell_type": "markdown",
   "id": "23b21c26",
   "metadata": {},
   "source": [
    "#### 10917 Your life"
   ]
  },
  {
   "cell_type": "code",
   "execution_count": 14,
   "id": "1e53dbd6",
   "metadata": {},
   "outputs": [
    {
     "name": "stdout",
     "output_type": "stream",
     "text": [
      "4 4\n",
      "1 2\n",
      "2 3\n",
      "3 4\n",
      "2 4\n",
      "2\n"
     ]
    }
   ],
   "source": [
    "from collections import deque\n",
    "N,M=map(int,input().split())\n",
    "R=[[] for ik in range(N+1)]\n",
    "for ik in range(M):\n",
    "    x,y=map(int,input().split())\n",
    "    R[y].append(x)\n",
    "ans=[0]*(N+1)\n",
    "ans[N]=1\n",
    "Q=deque([N])\n",
    "while Q:\n",
    "    v=Q.popleft()\n",
    "    for ik in R[v]:\n",
    "        if ans[ik]==0:\n",
    "            ans[ik]=ans[v]+1\n",
    "            Q.append(ik)\n",
    "if ans[1]==0:\n",
    "    print(-1)\n",
    "else:\n",
    "    print(ans[1]-1)"
   ]
  },
  {
   "cell_type": "code",
   "execution_count": null,
   "id": "93ed28f7",
   "metadata": {},
   "outputs": [],
   "source": []
  }
 ],
 "metadata": {
  "kernelspec": {
   "display_name": "Python 3 (ipykernel)",
   "language": "python",
   "name": "python3"
  },
  "language_info": {
   "codemirror_mode": {
    "name": "ipython",
    "version": 3
   },
   "file_extension": ".py",
   "mimetype": "text/x-python",
   "name": "python",
   "nbconvert_exporter": "python",
   "pygments_lexer": "ipython3",
   "version": "3.9.7"
  }
 },
 "nbformat": 4,
 "nbformat_minor": 5
}
