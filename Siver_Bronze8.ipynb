{
 "cells": [
  {
   "cell_type": "markdown",
   "id": "8a6f26af",
   "metadata": {},
   "source": [
    "#### 1526 가장 큰 금민수"
   ]
  },
  {
   "cell_type": "code",
   "execution_count": 1,
   "id": "e0847a2e",
   "metadata": {},
   "outputs": [
    {
     "name": "stdout",
     "output_type": "stream",
     "text": [
      "100000\n",
      "77777\n"
     ]
    }
   ],
   "source": [
    "num=int(input())\n",
    "for ik in range(num,3,-1):\n",
    "    word=str(ik)\n",
    "    if '0' in word:\n",
    "        continue\n",
    "    else:\n",
    "        word=word.replace('7','')\n",
    "        word=word.replace('4','')\n",
    "        word+='0'\n",
    "    if int(word)==0:\n",
    "        print(ik)\n",
    "        break"
   ]
  },
  {
   "cell_type": "markdown",
   "id": "60e9e149",
   "metadata": {},
   "source": [
    "#### 1417 국회의원 선거"
   ]
  },
  {
   "cell_type": "code",
   "execution_count": 2,
   "id": "5f7bbd47",
   "metadata": {},
   "outputs": [
    {
     "name": "stdout",
     "output_type": "stream",
     "text": [
      "1\n",
      "1\n",
      "0\n"
     ]
    }
   ],
   "source": [
    "N=int(input())\n",
    "dasom=int(input())\n",
    "arr=[0]\n",
    "for ik in range(N-1):\n",
    "    arr.append(int(input()))\n",
    "mon=0\n",
    "while(1):\n",
    "    if dasom>max(arr):\n",
    "        break\n",
    "    else:\n",
    "        dasom+=1\n",
    "        arr[arr.index(max(arr))]-=1\n",
    "        mon+=1\n",
    "print(mon)"
   ]
  },
  {
   "cell_type": "code",
   "execution_count": null,
   "id": "a8f348db",
   "metadata": {},
   "outputs": [],
   "source": []
  },
  {
   "cell_type": "code",
   "execution_count": null,
   "id": "c5e730c2",
   "metadata": {},
   "outputs": [],
   "source": []
  },
  {
   "cell_type": "markdown",
   "id": "f4dab2ad",
   "metadata": {},
   "source": [
    "#### 2422 한윤정이 이탈리아에 가서 아이스크림을 사먹는데"
   ]
  },
  {
   "cell_type": "code",
   "execution_count": 14,
   "id": "8498bbc0",
   "metadata": {},
   "outputs": [
    {
     "name": "stdout",
     "output_type": "stream",
     "text": [
      "200 2\n",
      "1 2\n",
      "4 5\n",
      "1313200\n"
     ]
    }
   ],
   "source": [
    "N,M=map(int,input().split())\n",
    "ice=[]\n",
    "for ik in range(1,N-1):\n",
    "    for it in range(ik+1,N):\n",
    "        for iu in range(it+1,N+1):\n",
    "            ice.append([ik,it,iu])\n",
    "for ik in range(M):\n",
    "    a,b=map(int,input().split())\n",
    "    temp=ice\n",
    "    for it in temp:\n",
    "        if (a in it)&(b in it):\n",
    "            ice.remove(it)\n",
    "print(len(ice))"
   ]
  },
  {
   "cell_type": "markdown",
   "id": "0795d273",
   "metadata": {},
   "source": [
    "#### 5597 과제 안 내신 분..?"
   ]
  },
  {
   "cell_type": "code",
   "execution_count": 16,
   "id": "eb198a23",
   "metadata": {},
   "outputs": [
    {
     "name": "stdout",
     "output_type": "stream",
     "text": [
      "3\n",
      "1\n",
      "4\n",
      "5\n",
      "7\n",
      "9\n",
      "6\n",
      "10\n",
      "11\n",
      "12\n",
      "13\n",
      "14\n",
      "15\n",
      "16\n",
      "17\n",
      "18\n",
      "19\n",
      "20\n",
      "21\n",
      "22\n",
      "23\n",
      "24\n",
      "25\n",
      "26\n",
      "27\n",
      "28\n",
      "29\n",
      "30\n",
      "2\n",
      "8\n"
     ]
    }
   ],
   "source": [
    "arr=[ik+1 for ik in range(30)]\n",
    "for ik in range(28):\n",
    "    n=int(input())\n",
    "    arr.remove(n)\n",
    "print(arr[0])\n",
    "print(arr[1])"
   ]
  },
  {
   "cell_type": "markdown",
   "id": "d63f05f6",
   "metadata": {},
   "source": [
    "#### 16917 양념 반 후라이드 반"
   ]
  },
  {
   "cell_type": "code",
   "execution_count": 21,
   "id": "18850da0",
   "metadata": {},
   "outputs": [
    {
     "name": "stdout",
     "output_type": "stream",
     "text": [
      "1500 2000 500 90000 100000\n",
      "110000000\n"
     ]
    }
   ],
   "source": [
    "A,B,C,X,Y=map(int,input().split())\n",
    "if (A+B)<=(2*C):\n",
    "    print(A*X+B*Y)\n",
    "else:\n",
    "    if X>=Y:\n",
    "        print((X-Y)*A+Y*C*2)\n",
    "    else:\n",
    "        print((Y-X)*B+X*C*2)"
   ]
  },
  {
   "cell_type": "markdown",
   "id": "7caa6d9e",
   "metadata": {},
   "source": [
    "#### 2028 자기복제수"
   ]
  },
  {
   "cell_type": "code",
   "execution_count": 16,
   "id": "69b9a355",
   "metadata": {},
   "outputs": [
    {
     "name": "stdout",
     "output_type": "stream",
     "text": [
      "4\n",
      "1\n",
      "YES\n",
      "6\n",
      "YES\n",
      "76\n",
      "YES\n",
      "89\n",
      "NO\n"
     ]
    }
   ],
   "source": [
    "T=int(input())\n",
    "for ik in range(T):\n",
    "    n=int(input())\n",
    "    s=str(n*n)\n",
    "    if s[-1-len(str(n))+1:]==str(n):\n",
    "        print('YES')\n",
    "    else:\n",
    "        print(\"NO\")"
   ]
  },
  {
   "cell_type": "markdown",
   "id": "5269280b",
   "metadata": {},
   "source": [
    "#### 2417 정수제곱근"
   ]
  },
  {
   "cell_type": "code",
   "execution_count": 66,
   "id": "26564da9",
   "metadata": {},
   "outputs": [
    {
     "name": "stdout",
     "output_type": "stream",
     "text": [
      "122333444455555\n",
      "11060446\n"
     ]
    }
   ],
   "source": [
    "n=int(input())\n",
    "q=int(n**(1/2))\n",
    "while(1):\n",
    "    if q*q>=n:\n",
    "        print(q)\n",
    "        break\n",
    "    q+=1"
   ]
  },
  {
   "cell_type": "markdown",
   "id": "fe430592",
   "metadata": {},
   "source": [
    "#### 11050 이항 계수 1"
   ]
  },
  {
   "cell_type": "code",
   "execution_count": 72,
   "id": "30f021a0",
   "metadata": {},
   "outputs": [
    {
     "name": "stdout",
     "output_type": "stream",
     "text": [
      "5 3\n",
      "10\n"
     ]
    }
   ],
   "source": [
    "N,K=map(int,input().split())\n",
    "n=1; k=1;\n",
    "for ik in range(K):\n",
    "    n*=(N-ik)\n",
    "    k*=(ik+1)\n",
    "print(n//k)"
   ]
  },
  {
   "cell_type": "markdown",
   "id": "5a53adf0",
   "metadata": {},
   "source": [
    "#### 1735 분수 합"
   ]
  },
  {
   "cell_type": "code",
   "execution_count": 81,
   "id": "82cc5f5f",
   "metadata": {},
   "outputs": [
    {
     "name": "stdout",
     "output_type": "stream",
     "text": [
      "1 12\n",
      "1 12\n",
      "1 6\n"
     ]
    }
   ],
   "source": [
    "a1,b1=map(int,input().split())\n",
    "a2,b2=map(int,input().split())\n",
    "A=a2*b1+a1*b2\n",
    "B=b1*b2\n",
    "M=max(A,B)\n",
    "m=min(A,B)\n",
    "while(1):\n",
    "    N=M%m\n",
    "    if N==0:\n",
    "        break\n",
    "    else:\n",
    "        M=m; m=N;\n",
    "print(A//m, B//m)"
   ]
  },
  {
   "cell_type": "markdown",
   "id": "8041aa38",
   "metadata": {},
   "source": [
    "#### 1246 온라인 판매"
   ]
  },
  {
   "cell_type": "code",
   "execution_count": 105,
   "id": "bae6a842",
   "metadata": {},
   "outputs": [
    {
     "name": "stdout",
     "output_type": "stream",
     "text": [
      "5 4\n",
      "2\n",
      "8\n",
      "10\n",
      "7\n",
      "7 21\n"
     ]
    }
   ],
   "source": [
    "N,M=map(int,input().split())\n",
    "P=[]\n",
    "for ik in range(M):\n",
    "    P.append(int(input()))\n",
    "P.sort()\n",
    "ans=[]\n",
    "for ik in range(M):\n",
    "    buy=[it>=P[ik] for it in P]\n",
    "    if sum(buy)<=N:\n",
    "        ans.append(sum(buy)*P[ik])\n",
    "    else:\n",
    "        ans.append(N*P[ik])\n",
    "print(P[ans.index(max(ans))],max(ans))"
   ]
  },
  {
   "cell_type": "markdown",
   "id": "cc7b9dd1",
   "metadata": {},
   "source": [
    "#### 1032 명령 프롬프트"
   ]
  },
  {
   "cell_type": "code",
   "execution_count": 112,
   "id": "2e335439",
   "metadata": {},
   "outputs": [
    {
     "name": "stdout",
     "output_type": "stream",
     "text": [
      "1\n",
      "onlyonefile\n",
      "onlyonefile\n"
     ]
    }
   ],
   "source": [
    "N=int(input())\n",
    "sen=list(input())\n",
    "for ik in range(N-1):\n",
    "    vs=list(input())\n",
    "    for ik in range(len(vs)):\n",
    "        if sen[ik]!=vs[ik]:\n",
    "            sen[ik]='?'\n",
    "print(''.join(sen))"
   ]
  },
  {
   "cell_type": "markdown",
   "id": "4bfacf7e",
   "metadata": {},
   "source": [
    "#### 17283 I am Groot"
   ]
  },
  {
   "cell_type": "code",
   "execution_count": 10,
   "id": "5af90d57",
   "metadata": {},
   "outputs": [
    {
     "name": "stdout",
     "output_type": "stream",
     "text": [
      "500\n",
      "30\n",
      "588\n"
     ]
    }
   ],
   "source": [
    "L=int(input())\n",
    "R=int(input())\n",
    "ans=0; ik=1;\n",
    "while(1):\n",
    "    L=int(L*(R/100))\n",
    "    if L<=5:\n",
    "        break\n",
    "    ans+=L*(2**ik)\n",
    "    ik+=1; \n",
    "print(int(ans))"
   ]
  },
  {
   "cell_type": "markdown",
   "id": "8439ec27",
   "metadata": {},
   "source": [
    "#### 1969 DNA "
   ]
  },
  {
   "cell_type": "code",
   "execution_count": 38,
   "id": "d0c5cfb7",
   "metadata": {},
   "outputs": [
    {
     "name": "stdout",
     "output_type": "stream",
     "text": [
      "6 10\n",
      "ATGTTACCAT\n",
      "AAGTTACGAT\n",
      "AACAAAGCAA\n",
      "AAGTTACCTT\n",
      "AAGTTACCAA\n",
      "TACTTACCAA\n",
      "AAGTTACCAA\n",
      "12\n"
     ]
    }
   ],
   "source": [
    "N,M=map(int,input().split())\n",
    "dna=[]\n",
    "nc=['A','C','G','T']\n",
    "ans=''\n",
    "d=0\n",
    "for ik in range(N):\n",
    "    dna.append(input())\n",
    "for ik in range(M):\n",
    "    arr=[0]*4\n",
    "    col=[it[ik] for it in dna]\n",
    "    for iu in range(4):\n",
    "        arr[iu]=col.count(nc[iu])\n",
    "    ans+=nc[arr.index(max(arr))]\n",
    "    d=d+N-max(arr)\n",
    "print(ans)\n",
    "print(d)"
   ]
  },
  {
   "cell_type": "markdown",
   "id": "491efed1",
   "metadata": {},
   "source": [
    "#### 16917 양념반 후라이드 반"
   ]
  },
  {
   "cell_type": "code",
   "execution_count": 46,
   "id": "f00ee094",
   "metadata": {},
   "outputs": [
    {
     "name": "stdout",
     "output_type": "stream",
     "text": [
      "78 1 4 10 8\n",
      "80\n"
     ]
    }
   ],
   "source": [
    "A,B,C,X,Y=map(int,input().split())\n",
    "arr=[]\n",
    "arr.append(A*X+B*Y)\n",
    "if X>=Y:\n",
    "    arr.append(Y*2*C+(X-Y)*A)\n",
    "    arr.append(X*2*C)\n",
    "    arr.append(Y*B+A*2*X)\n",
    "else:\n",
    "    arr.append(X*2*C+(Y-X)*Y)\n",
    "    arr.append(Y*2*C)\n",
    "    arr.append(X*A+B*2*Y)\n",
    "print(min(arr))"
   ]
  },
  {
   "cell_type": "code",
   "execution_count": 41,
   "id": "311fa780",
   "metadata": {},
   "outputs": [
    {
     "data": {
      "text/plain": [
       "6398500"
      ]
     },
     "execution_count": 41,
     "metadata": {},
     "output_type": "execute_result"
    }
   ],
   "source": []
  },
  {
   "cell_type": "code",
   "execution_count": 42,
   "id": "ff5cc981",
   "metadata": {},
   "outputs": [
    {
     "data": {
      "text/plain": [
       "6400000"
      ]
     },
     "execution_count": 42,
     "metadata": {},
     "output_type": "execute_result"
    }
   ],
   "source": [
    "B*2*C"
   ]
  },
  {
   "cell_type": "code",
   "execution_count": null,
   "id": "db5a93b6",
   "metadata": {},
   "outputs": [],
   "source": []
  }
 ],
 "metadata": {
  "kernelspec": {
   "display_name": "Python 3 (ipykernel)",
   "language": "python",
   "name": "python3"
  },
  "language_info": {
   "codemirror_mode": {
    "name": "ipython",
    "version": 3
   },
   "file_extension": ".py",
   "mimetype": "text/x-python",
   "name": "python",
   "nbconvert_exporter": "python",
   "pygments_lexer": "ipython3",
   "version": "3.9.7"
  }
 },
 "nbformat": 4,
 "nbformat_minor": 5
}
