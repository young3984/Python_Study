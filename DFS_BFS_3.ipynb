{
 "cells": [
  {
   "cell_type": "markdown",
   "id": "960ec545",
   "metadata": {},
   "source": [
    "## DFS/BFS3"
   ]
  },
  {
   "cell_type": "code",
   "execution_count": 7,
   "id": "54393802",
   "metadata": {},
   "outputs": [],
   "source": [
    "def dfs(a,b):\n",
    "    global A\n",
    "    if (a<=-1)|(b<=-1)|(a>=N)|(b>=M):\n",
    "        return False\n",
    "    if R[a][b]==1:\n",
    "        A+=1\n",
    "        R[a][b]=0\n",
    "        dfs(a-1,b)\n",
    "        dfs(a+1,b)\n",
    "        dfs(a,b-1)\n",
    "        dfs(a,b+1)\n",
    "        return True\n",
    "    return False"
   ]
  },
  {
   "cell_type": "code",
   "execution_count": 8,
   "id": "df850f55",
   "metadata": {},
   "outputs": [
    {
     "name": "stdout",
     "output_type": "stream",
     "text": [
      "3 4 5\n",
      "3 2\n",
      "2 2\n",
      "3 1\n",
      "2 3\n",
      "1 1\n",
      "4\n"
     ]
    }
   ],
   "source": [
    "N,M,K=map(int,input().split())\n",
    "R=[[0]*M for ik in range(N)]\n",
    "for ik in range(K):\n",
    "    a,b=map(int,input().split())\n",
    "    R[a-1][b-1]=1\n",
    "ans=[]\n",
    "for ik in range(N):\n",
    "    for it in range(M):\n",
    "        if R[ik][it]==1:\n",
    "            A=0\n",
    "            dfs(ik,it)\n",
    "            ans.append(A)\n",
    "print(max(ans))"
   ]
  },
  {
   "cell_type": "markdown",
   "id": "26856e0e",
   "metadata": {},
   "source": [
    "#### 13565 침투"
   ]
  },
  {
   "cell_type": "code",
   "execution_count": 5,
   "id": "cc145510",
   "metadata": {},
   "outputs": [],
   "source": [
    "def dfs(a,b):\n",
    "    if (a<=-1)|(b<=-1)|(a>=M)|(b>=N):\n",
    "        return False\n",
    "    if R[a][b]==0:\n",
    "        c.append(a)\n",
    "        R[a][b]=1\n",
    "        dfs(a-1,b)\n",
    "        dfs(a+1,b)\n",
    "        dfs(a,b-1)\n",
    "        dfs(a,b+1)\n",
    "        return True\n",
    "    return False"
   ]
  },
  {
   "cell_type": "code",
   "execution_count": 7,
   "id": "8837b725",
   "metadata": {},
   "outputs": [
    {
     "name": "stdout",
     "output_type": "stream",
     "text": [
      "8 8\n",
      "11000111\n",
      "01100000\n",
      "00011001\n",
      "11001000\n",
      "10001001\n",
      "10111100\n",
      "01010000\n",
      "00001011\n",
      "YES\n"
     ]
    }
   ],
   "source": [
    "M,N=map(int,input().split())\n",
    "R=[]\n",
    "for ik in range(M):\n",
    "    R.append(list(map(int,list(input()))))\n",
    "ans='NO'\n",
    "for ik in range(N):\n",
    "    if R[0][ik]==0:\n",
    "        c=[]\n",
    "        dfs(0,ik)\n",
    "        if M-1 in c:\n",
    "            ans='YES'\n",
    "print(ans)"
   ]
  },
  {
   "cell_type": "code",
   "execution_count": 3,
   "id": "c1b86688",
   "metadata": {},
   "outputs": [
    {
     "data": {
      "text/plain": [
       "[2, 2, 3, 4, 4, 4, 5]"
      ]
     },
     "execution_count": 3,
     "metadata": {},
     "output_type": "execute_result"
    }
   ],
   "source": [
    "c"
   ]
  },
  {
   "cell_type": "code",
   "execution_count": 4,
   "id": "7f9bd4dd",
   "metadata": {},
   "outputs": [
    {
     "data": {
      "text/plain": [
       "[[1, 1, 1, 1, 1, 1],\n",
       " [1, 1, 1, 1, 1, 1],\n",
       " [1, 1, 1, 1, 1, 1],\n",
       " [1, 0, 0, 0, 1, 1],\n",
       " [0, 0, 1, 0, 1, 1]]"
      ]
     },
     "execution_count": 4,
     "metadata": {},
     "output_type": "execute_result"
    }
   ],
   "source": [
    "R"
   ]
  },
  {
   "cell_type": "code",
   "execution_count": null,
   "id": "41fa53f9",
   "metadata": {},
   "outputs": [],
   "source": []
  }
 ],
 "metadata": {
  "kernelspec": {
   "display_name": "Python 3 (ipykernel)",
   "language": "python",
   "name": "python3"
  },
  "language_info": {
   "codemirror_mode": {
    "name": "ipython",
    "version": 3
   },
   "file_extension": ".py",
   "mimetype": "text/x-python",
   "name": "python",
   "nbconvert_exporter": "python",
   "pygments_lexer": "ipython3",
   "version": "3.9.7"
  }
 },
 "nbformat": 4,
 "nbformat_minor": 5
}
