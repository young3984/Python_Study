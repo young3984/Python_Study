{
 "cells": [
  {
   "cell_type": "markdown",
   "id": "960ec545",
   "metadata": {},
   "source": [
    "## DFS/BFS3"
   ]
  },
  {
   "cell_type": "code",
   "execution_count": 7,
   "id": "54393802",
   "metadata": {},
   "outputs": [],
   "source": [
    "def dfs(a,b):\n",
    "    global A\n",
    "    if (a<=-1)|(b<=-1)|(a>=N)|(b>=M):\n",
    "        return False\n",
    "    if R[a][b]==1:\n",
    "        A+=1\n",
    "        R[a][b]=0\n",
    "        dfs(a-1,b)\n",
    "        dfs(a+1,b)\n",
    "        dfs(a,b-1)\n",
    "        dfs(a,b+1)\n",
    "        return True\n",
    "    return False"
   ]
  },
  {
   "cell_type": "code",
   "execution_count": 8,
   "id": "df850f55",
   "metadata": {},
   "outputs": [
    {
     "name": "stdout",
     "output_type": "stream",
     "text": [
      "3 4 5\n",
      "3 2\n",
      "2 2\n",
      "3 1\n",
      "2 3\n",
      "1 1\n",
      "4\n"
     ]
    }
   ],
   "source": [
    "N,M,K=map(int,input().split())\n",
    "R=[[0]*M for ik in range(N)]\n",
    "for ik in range(K):\n",
    "    a,b=map(int,input().split())\n",
    "    R[a-1][b-1]=1\n",
    "ans=[]\n",
    "for ik in range(N):\n",
    "    for it in range(M):\n",
    "        if R[ik][it]==1:\n",
    "            A=0\n",
    "            dfs(ik,it)\n",
    "            ans.append(A)\n",
    "print(max(ans))"
   ]
  },
  {
   "cell_type": "markdown",
   "id": "26856e0e",
   "metadata": {},
   "source": [
    "#### 13565 침투"
   ]
  },
  {
   "cell_type": "code",
   "execution_count": 5,
   "id": "cc145510",
   "metadata": {},
   "outputs": [],
   "source": [
    "def dfs(a,b):\n",
    "    if (a<=-1)|(b<=-1)|(a>=M)|(b>=N):\n",
    "        return False\n",
    "    if R[a][b]==0:\n",
    "        c.append(a)\n",
    "        R[a][b]=1\n",
    "        dfs(a-1,b)\n",
    "        dfs(a+1,b)\n",
    "        dfs(a,b-1)\n",
    "        dfs(a,b+1)\n",
    "        return True\n",
    "    return False"
   ]
  },
  {
   "cell_type": "code",
   "execution_count": 7,
   "id": "8837b725",
   "metadata": {},
   "outputs": [
    {
     "name": "stdout",
     "output_type": "stream",
     "text": [
      "8 8\n",
      "11000111\n",
      "01100000\n",
      "00011001\n",
      "11001000\n",
      "10001001\n",
      "10111100\n",
      "01010000\n",
      "00001011\n",
      "YES\n"
     ]
    }
   ],
   "source": [
    "M,N=map(int,input().split())\n",
    "R=[]\n",
    "for ik in range(M):\n",
    "    R.append(list(map(int,list(input()))))\n",
    "ans='NO'\n",
    "for ik in range(N):\n",
    "    if R[0][ik]==0:\n",
    "        c=[]\n",
    "        dfs(0,ik)\n",
    "        if M-1 in c:\n",
    "            ans='YES'\n",
    "print(ans)"
   ]
  },
  {
   "cell_type": "markdown",
   "id": "8a1466ff",
   "metadata": {},
   "source": [
    "#### 9204 체스"
   ]
  },
  {
   "cell_type": "code",
   "execution_count": 3,
   "id": "8e7c2308",
   "metadata": {},
   "outputs": [],
   "source": [
    "def dfs(x,y):\n",
    "    global xx,yy\n",
    "    if (x<=-1)|(y<=-1)|(x>=8)|(y>=8):\n",
    "        return False\n",
    "    if (x,y) not in T:\n",
    "        T.append((x,y))\n",
    "        if ((x-y)==(a-b))|((x+y)==(a+b)):\n",
    "            ans.extend([x,y])\n",
    "            return True\n",
    "        else:\n",
    "            dfs(x+xx,y+yy)\n",
    "            return True\n",
    "        return True\n",
    "    return True"
   ]
  },
  {
   "cell_type": "code",
   "execution_count": 4,
   "id": "c4198a3f",
   "metadata": {},
   "outputs": [
    {
     "name": "stdout",
     "output_type": "stream",
     "text": [
      "3\n",
      "E 2 E 3\n",
      "Impossible\n",
      "F 1 E 8\n",
      "2 F 1 B 5 E 8\n",
      "A 3 A 3\n",
      "0 A 3\n"
     ]
    }
   ],
   "source": [
    "N=int(input())\n",
    "for ik in range(N):\n",
    "    x,y,a,b=input().split()\n",
    "    C=[[1,0]*4,[0,1]*4]*4\n",
    "    x=ord(x)-65\n",
    "    a=ord(a)-65\n",
    "    y=int(y)-1\n",
    "    b=int(b)-1\n",
    "    if C[x][y]!=C[a][b]:\n",
    "        print(\"Impossible\")\n",
    "    elif (x==a)&(y==b):\n",
    "        print(0,chr(x+65),y+1)\n",
    "    elif ((x-y)==(a-b))|((x+y)==(a+b)):\n",
    "        print(1,chr(x+65),y+1,chr(a+65),b+1)\n",
    "    else:\n",
    "        ans=[]\n",
    "        dx=[1,1,-1,-1]\n",
    "        dy=[1,-1,1,-1]\n",
    "        for ik in range(4):\n",
    "            T=[]\n",
    "            xx=dx[ik]\n",
    "            yy=dy[ik]\n",
    "            dfs(x,y)\n",
    "        print(2,chr(x+65),y+1,chr(ans[0]+65),ans[1]+1,chr(a+65),b+1)"
   ]
  },
  {
   "cell_type": "markdown",
   "id": "ff4fd2c0",
   "metadata": {},
   "source": [
    "#### 14496 그대, 그머가 되어"
   ]
  },
  {
   "cell_type": "code",
   "execution_count": 1,
   "id": "dd976c88",
   "metadata": {},
   "outputs": [],
   "source": [
    "from collections import deque"
   ]
  },
  {
   "cell_type": "code",
   "execution_count": 7,
   "id": "19fc3d3d",
   "metadata": {},
   "outputs": [],
   "source": [
    "def bfs(n):\n",
    "    Q=deque([n])\n",
    "    ans[n]=1\n",
    "    while Q:\n",
    "        v=Q.popleft()\n",
    "        for ik in R[v]:\n",
    "            if ans[ik]==0:\n",
    "                Q.append(ik)\n",
    "                ans[ik]+=(ans[v]+1)"
   ]
  },
  {
   "cell_type": "code",
   "execution_count": 9,
   "id": "c5c69860",
   "metadata": {},
   "outputs": [
    {
     "name": "stdout",
     "output_type": "stream",
     "text": [
      "2 3\n",
      "3 3\n",
      "1 2\n",
      "1 3\n",
      "3 2\n",
      "1\n"
     ]
    }
   ],
   "source": [
    "a,b=map(int,input().split())\n",
    "N,M=map(int,input().split())\n",
    "R=[[] for ik in range(N+1)]\n",
    "ans=[0]*(N+1)\n",
    "for ik in range(M):\n",
    "    n,m=map(int,input().split())\n",
    "    R[n].append(m)\n",
    "    R[m].append(n)\n",
    "bfs(a)\n",
    "if ans[b]==0:\n",
    "    print(-1)\n",
    "else:\n",
    "    print(ans[b]-1)"
   ]
  },
  {
   "cell_type": "markdown",
   "id": "581dc8af",
   "metadata": {},
   "source": [
    "#### 14716 현수막"
   ]
  },
  {
   "cell_type": "code",
   "execution_count": 5,
   "id": "b1cd6635",
   "metadata": {},
   "outputs": [],
   "source": [
    "def dfs(a,b):\n",
    "    if (a<=-1)|(b<=-1)|(a>=M)|(b>=N):\n",
    "        return False\n",
    "    if R[a][b]==1:\n",
    "        R[a][b]=0\n",
    "        dfs(a+1,b)\n",
    "        dfs(a-1,b)\n",
    "        dfs(a,b+1)\n",
    "        dfs(a,b-1)\n",
    "        dfs(a+1,b+1)\n",
    "        dfs(a+1,b-1)\n",
    "        dfs(a-1,b+1)\n",
    "        dfs(a-1,b-1)\n",
    "        return True\n",
    "    return False"
   ]
  },
  {
   "cell_type": "code",
   "execution_count": 8,
   "id": "aa6a9757",
   "metadata": {},
   "outputs": [
    {
     "name": "stdout",
     "output_type": "stream",
     "text": [
      "8 19\n",
      "0 0 0 0 0 0 0 0 0 0 0 0 0 0 0 0 0 0 0\n",
      "0 0 0 1 0 0 0 1 0 0 0 1 0 1 1 1 1 1 0\n",
      "0 0 1 0 1 0 0 1 1 0 0 1 0 0 0 1 0 0 0\n",
      "0 1 0 0 0 1 0 1 0 1 0 1 0 0 0 1 0 0 0\n",
      "0 1 1 1 1 1 0 1 0 1 0 1 0 0 0 1 0 0 0\n",
      "0 1 0 0 0 1 0 1 0 0 1 1 0 0 0 1 0 0 0\n",
      "0 1 0 0 0 1 0 1 0 0 0 1 0 0 0 1 0 0 0\n",
      "0 0 0 0 0 0 0 0 0 0 0 0 0 0 0 0 0 0 0\n",
      "3\n"
     ]
    }
   ],
   "source": [
    "M,N=map(int,input().split())\n",
    "R=[]\n",
    "ans=0\n",
    "for ik in range(M):\n",
    "    R.append(list(map(int,input().split())))\n",
    "for ik in range(M):\n",
    "    for it in range(N):\n",
    "        if R[ik][it]==1:\n",
    "            dfs(ik,it)\n",
    "            ans+=1\n",
    "print(ans)          "
   ]
  },
  {
   "cell_type": "markdown",
   "id": "d1979060",
   "metadata": {},
   "source": [
    "#### 21736 헌내기는 친구가 필요해"
   ]
  },
  {
   "cell_type": "code",
   "execution_count": 1,
   "id": "ff4f89c4",
   "metadata": {},
   "outputs": [],
   "source": [
    "from collections import deque"
   ]
  },
  {
   "cell_type": "code",
   "execution_count": 42,
   "id": "1ddfdbc1",
   "metadata": {},
   "outputs": [],
   "source": [
    "def bfs(a,b):\n",
    "    global ans\n",
    "    if (a<=-1)|(b<=-1)|(a>=N)|(b>=M):\n",
    "        return False\n",
    "    Q=deque([(a,b)])\n",
    "    while Q:\n",
    "        v=Q.popleft()\n",
    "        for ik in range(4):\n",
    "            nx=v[0]+dx[ik]\n",
    "            ny=v[1]+dy[ik]\n",
    "            if (nx<=-1)|(ny<=-1)|(nx>=N)|(ny>=M):\n",
    "                continue\n",
    "            if R[nx][ny]=='P':\n",
    "                ans+=1\n",
    "                R[nx][ny]='X'\n",
    "                Q.append((nx,ny))\n",
    "            if R[nx][ny]=='O':\n",
    "                R[nx][ny]='X'\n",
    "                Q.append((nx,ny))"
   ]
  },
  {
   "cell_type": "code",
   "execution_count": 44,
   "id": "a105b8cd",
   "metadata": {},
   "outputs": [
    {
     "name": "stdout",
     "output_type": "stream",
     "text": [
      "3 3\n",
      "IOX\n",
      "OXP\n",
      "XPP\n",
      "TT\n"
     ]
    }
   ],
   "source": [
    "N,M=map(int,input().split())\n",
    "R=[]\n",
    "dx=[1,-1,0,0]\n",
    "dy=[0,0,1,-1]\n",
    "for ik in range(N):\n",
    "    t=list(input())\n",
    "    R.append(t)\n",
    "    if 'I' in t:\n",
    "        a=ik; b=t.index('I')\n",
    "ans=0\n",
    "bfs(a,b)\n",
    "if ans==0:\n",
    "    print('TT')\n",
    "else:\n",
    "    print(ans)"
   ]
  },
  {
   "cell_type": "markdown",
   "id": "0325b0ad",
   "metadata": {},
   "source": [
    "#### 1804 현명한 나이트"
   ]
  },
  {
   "cell_type": "code",
   "execution_count": 3,
   "id": "c826ee2c",
   "metadata": {},
   "outputs": [],
   "source": [
    "from collections import deque"
   ]
  },
  {
   "cell_type": "code",
   "execution_count": 11,
   "id": "6edb9708",
   "metadata": {},
   "outputs": [],
   "source": [
    "def bfs(a,b):\n",
    "    Q=deque([(a,b)])\n",
    "    R[a][b]=1\n",
    "    while Q:\n",
    "        v=Q.popleft()\n",
    "        for ik in range(8):\n",
    "            nx=v[0]+dx[ik]\n",
    "            ny=v[1]+dy[ik]\n",
    "            if (nx<=-1)|(ny<=-1)|(nx>=N)|(ny>=N):\n",
    "                continue\n",
    "            if R[nx][ny]==0:\n",
    "                R[nx][ny]+=(R[v[0]][v[1]]+1)\n",
    "                Q.append((nx,ny))        "
   ]
  },
  {
   "cell_type": "code",
   "execution_count": 13,
   "id": "9dfdb04c",
   "metadata": {},
   "outputs": [
    {
     "name": "stdout",
     "output_type": "stream",
     "text": [
      "5 3\n",
      "2 4\n",
      "3 2\n",
      "3 5\n",
      "4 5\n",
      "1 2 1 "
     ]
    }
   ],
   "source": [
    "N,M=map(int,input().split())\n",
    "a=[]\n",
    "X,Y=map(int,input().split())\n",
    "R=[[0]*N for ik in range(N)]\n",
    "dx=[1,1,2,2,-1,-1,-2,-2]\n",
    "dy=[2,-2,1,-1,2,-2,1,-1]\n",
    "for ik in range(M):\n",
    "    a.append(list(map(int,input().split())))\n",
    "bfs(X-1,Y-1)\n",
    "for ik in range(len(a)):\n",
    "    print(R[a[ik][0]-1][a[ik][1]-1]-1,end=' ')"
   ]
  },
  {
   "cell_type": "markdown",
   "id": "92dc27a7",
   "metadata": {},
   "source": [
    "#### 17204 죽음의 게임"
   ]
  },
  {
   "cell_type": "code",
   "execution_count": 1,
   "id": "0ed25491",
   "metadata": {},
   "outputs": [],
   "source": [
    "from collections import deque"
   ]
  },
  {
   "cell_type": "code",
   "execution_count": 15,
   "id": "0dd2109f",
   "metadata": {},
   "outputs": [],
   "source": [
    "def bfs(n):\n",
    "    Q=deque([n])\n",
    "    ans[n]=1\n",
    "    while Q:\n",
    "        v=Q.popleft()\n",
    "        for ik in R[v]:\n",
    "            if ans[ik]==0:\n",
    "                ans[ik]+=(ans[v]+1)\n",
    "                Q.append(ik)"
   ]
  },
  {
   "cell_type": "code",
   "execution_count": 22,
   "id": "8fc99d72",
   "metadata": {},
   "outputs": [
    {
     "name": "stdout",
     "output_type": "stream",
     "text": [
      "6 2\n",
      "1\n",
      "3\n",
      "5\n",
      "4\n",
      "0\n",
      "2\n",
      "-1\n"
     ]
    }
   ],
   "source": [
    "N,K=map(int,input().split())\n",
    "R=[[] for ik in range(N)]\n",
    "ans=[0]*N\n",
    "for ik in range(N):\n",
    "    R[int(input())].append(ik)\n",
    "bfs(K)\n",
    "if ans[0]==1:\n",
    "    print(-1)\n",
    "else:\n",
    "    print(ans[0]-1)"
   ]
  },
  {
   "cell_type": "markdown",
   "id": "6560d159",
   "metadata": {},
   "source": [
    "#### 17391 무한부스터"
   ]
  },
  {
   "cell_type": "code",
   "execution_count": 1,
   "id": "816e8de2",
   "metadata": {},
   "outputs": [],
   "source": [
    "from collections import deque"
   ]
  },
  {
   "cell_type": "code",
   "execution_count": 53,
   "id": "c58b9469",
   "metadata": {},
   "outputs": [],
   "source": [
    "def bfs(a,b):\n",
    "    Q=deque([(a,b)])\n",
    "    C[0][0]=0\n",
    "    while Q:\n",
    "        v=Q.popleft()\n",
    "        for ik in range(G[v[0]][v[1]]):\n",
    "            nx=v[0]+(ik+1)\n",
    "            ny=v[1]\n",
    "            if (nx<=-1)|(ny<=-1)|(nx>=N)|(ny>=M):\n",
    "                continue\n",
    "            if (C[nx][ny])>(C[v[0]][v[1]]+1):\n",
    "                C[nx][ny]=C[v[0]][v[1]]+1\n",
    "                Q.append((nx,ny))\n",
    "        for ik in range(G[v[0]][v[1]]):\n",
    "            nx=v[0]\n",
    "            ny=v[1]+(ik+1)\n",
    "            if (nx<=-1)|(ny<=-1)|(nx>=N)|(ny>=M):\n",
    "                continue\n",
    "            if (C[nx][ny])>(C[v[0]][v[1]]+1):\n",
    "                C[nx][ny]=C[v[0]][v[1]]+1\n",
    "                Q.append((nx,ny))"
   ]
  },
  {
   "cell_type": "code",
   "execution_count": 56,
   "id": "0827c216",
   "metadata": {},
   "outputs": [
    {
     "name": "stdout",
     "output_type": "stream",
     "text": [
      "5 4 \n",
      "2 4 2 3\n",
      "1 1 1 3\n",
      "2 1 2 2\n",
      "1 4 4 1 \n",
      "1 2 2 1\n",
      "3\n"
     ]
    }
   ],
   "source": [
    "N,M=map(int,input().split())\n",
    "G=[]\n",
    "C=[[1000]*M for ik in range(N)]\n",
    "for ik in range(N):\n",
    "    G.append(list(map(int,input().split())))\n",
    "bfs(0,0)\n",
    "print(C[N-1][M-1])"
   ]
  },
  {
   "cell_type": "code",
   "execution_count": null,
   "id": "78c67643",
   "metadata": {},
   "outputs": [],
   "source": []
  },
  {
   "cell_type": "code",
   "execution_count": 57,
   "id": "954908fe",
   "metadata": {},
   "outputs": [
    {
     "data": {
      "text/plain": [
       "[[0, 1, 1, 2], [1, 2, 2, 3], [1, 2, 2, 3], [2, 2, 3, 3], [2, 2, 3, 3]]"
      ]
     },
     "execution_count": 57,
     "metadata": {},
     "output_type": "execute_result"
    }
   ],
   "source": [
    "C"
   ]
  },
  {
   "cell_type": "code",
   "execution_count": null,
   "id": "cf0b0290",
   "metadata": {},
   "outputs": [],
   "source": []
  }
 ],
 "metadata": {
  "kernelspec": {
   "display_name": "Python 3 (ipykernel)",
   "language": "python",
   "name": "python3"
  },
  "language_info": {
   "codemirror_mode": {
    "name": "ipython",
    "version": 3
   },
   "file_extension": ".py",
   "mimetype": "text/x-python",
   "name": "python",
   "nbconvert_exporter": "python",
   "pygments_lexer": "ipython3",
   "version": "3.9.7"
  }
 },
 "nbformat": 4,
 "nbformat_minor": 5
}
