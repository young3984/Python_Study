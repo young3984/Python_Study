{
 "cells": [
  {
   "cell_type": "markdown",
   "id": "58daa646",
   "metadata": {},
   "source": [
    "#### 25193 곰곰이의 식단 관리"
   ]
  },
  {
   "cell_type": "code",
   "execution_count": 7,
   "id": "80231aa6",
   "metadata": {},
   "outputs": [
    {
     "name": "stdout",
     "output_type": "stream",
     "text": [
      "5\n",
      "ACCCC\n",
      "2\n"
     ]
    }
   ],
   "source": [
    "N=int(input())\n",
    "S=list(input())\n",
    "chick=S.count('C')\n",
    "non=len(S)-chick\n",
    "if chick%(non+1)==0:\n",
    "    print(chick//(non+1))\n",
    "else:\n",
    "    print(chick//(non+1)+1)"
   ]
  },
  {
   "cell_type": "markdown",
   "id": "8c4d0c32",
   "metadata": {},
   "source": [
    "#### 1316 그룹 단어 체커"
   ]
  },
  {
   "cell_type": "code",
   "execution_count": 16,
   "id": "8eb4d23b",
   "metadata": {},
   "outputs": [
    {
     "name": "stdout",
     "output_type": "stream",
     "text": [
      "1\n",
      "aabcbb\n",
      "0\n"
     ]
    }
   ],
   "source": [
    "N=int(input())\n",
    "ans=N\n",
    "for ik in range(N):\n",
    "    word=list(input())\n",
    "    A=[word[0]]\n",
    "    a=word[0]\n",
    "    for it in range(1,len(word)):\n",
    "        if word[it]!=a:\n",
    "            if word[it] in A:\n",
    "                ans-=1\n",
    "                break\n",
    "            else:\n",
    "                a=word[it]\n",
    "                A.append(word[it])\n",
    "print(ans)"
   ]
  },
  {
   "cell_type": "markdown",
   "id": "28660939",
   "metadata": {},
   "source": [
    "#### 11659 구간 합 구하기 4"
   ]
  },
  {
   "cell_type": "code",
   "execution_count": 20,
   "id": "4e868f72",
   "metadata": {},
   "outputs": [
    {
     "name": "stdout",
     "output_type": "stream",
     "text": [
      "5 3\n",
      "5 4 3 2 1\n",
      "1 3\n",
      "12\n",
      "2 4\n",
      "9\n",
      "5 5\n",
      "1\n"
     ]
    }
   ],
   "source": [
    "N,M=map(int,input().split())\n",
    "arr=list(map(int,input().split()))\n",
    "S=[0]\n",
    "for ik in range(N):\n",
    "    S.append(S[-1]+arr[ik])\n",
    "for ik in range(M):\n",
    "    a,b=map(int,input().split())\n",
    "    print(S[b]-S[a-1])"
   ]
  },
  {
   "cell_type": "markdown",
   "id": "fe79553f",
   "metadata": {},
   "source": [
    "#### 11660 구간 합 구하기 5 "
   ]
  },
  {
   "cell_type": "code",
   "execution_count": 55,
   "id": "065ea820",
   "metadata": {},
   "outputs": [
    {
     "name": "stdout",
     "output_type": "stream",
     "text": [
      "2 4\n",
      "1 2\n",
      "3 4\n",
      "1 1 1 1\n",
      "1\n",
      "1 2 1 2 \n",
      "2\n",
      "2 1 2 1\n",
      "3\n",
      "2 2 2 2\n",
      "4\n"
     ]
    }
   ],
   "source": [
    "N,M=map(int,input().split())\n",
    "arr=[]\n",
    "for ik in range(N):\n",
    "    T=list(map(int,input().split()))\n",
    "    arr.append(T)\n",
    "S=[[0]*1 for ik in range(4)]\n",
    "for ik in range(N):\n",
    "    for it in range(N):\n",
    "        S[ik].append(S[ik][-1]+arr[ik][it])\n",
    "for ik in range(M):\n",
    "    ans=0\n",
    "    x1,y1,x2,y2=map(int,input().split())\n",
    "    if x1==x2:\n",
    "        ans+=S[x1-1][y2]-S[x1-1][y1-1]\n",
    "    else:\n",
    "        ans+=S[x1-1][y2]-S[x1-1][y1-1]\n",
    "        for it in range(x1,x2-1):\n",
    "            ans+=S[it][y2]-S[it][y1-1]\n",
    "        ans+=S[x2-1][y2]-S[x2-1][y1-1]\n",
    "    print(ans)"
   ]
  },
  {
   "cell_type": "code",
   "execution_count": 60,
   "id": "b3b70749",
   "metadata": {},
   "outputs": [
    {
     "name": "stdout",
     "output_type": "stream",
     "text": [
      "4 0\n",
      "1 2 3 4\n",
      "2 3 4 5\n",
      "3 4 5 6\n",
      "4 5 6 7\n"
     ]
    }
   ],
   "source": [
    "N,M=map(int,input().split())\n",
    "arr=[]\n",
    "for ik in range(N):\n",
    "    T=list(map(int,input().split()))\n",
    "    arr.append(T)\n",
    "S=[[0]*1 for ik in range(N)]\n",
    "for ik in range(N):\n",
    "    for it in range(N):\n",
    "        S[ik].append(S[ik][-1]+arr[ik][it])\n",
    "for ik in range(M):\n",
    "    ans=0\n",
    "    x1,y1,x2,y2=map(int,input().split())\n",
    "    for it in range(x1-1,x2):\n",
    "        ans+=S[it][y2]-S[it][y1-1]\n",
    "    print(ans)"
   ]
  },
  {
   "cell_type": "markdown",
   "id": "977e00c1",
   "metadata": {},
   "source": [
    "#### 1239 차트"
   ]
  },
  {
   "cell_type": "code",
   "execution_count": 101,
   "id": "763a9664",
   "metadata": {},
   "outputs": [
    {
     "name": "stdout",
     "output_type": "stream",
     "text": [
      "2\n",
      "50 50\n",
      "1\n"
     ]
    }
   ],
   "source": [
    "N=int(input())\n",
    "arr=list(map(int,input().split()))\n",
    "from itertools import permutations\n",
    "S=list(set(permutations(arr, N)))\n",
    "ans=[]\n",
    "for ik in S:\n",
    "    s=[0]\n",
    "    t=0\n",
    "    for it in range(N):\n",
    "        s.append(ik[it]+s[-1])\n",
    "    for it in range(1,N):\n",
    "        if (s[it]+50) in s:\n",
    "            t+=1\n",
    "    ans.append(t)\n",
    "print(max(ans))"
   ]
  },
  {
   "cell_type": "markdown",
   "id": "756d5583",
   "metadata": {},
   "source": [
    "#### 3154 알람시계"
   ]
  },
  {
   "cell_type": "code",
<<<<<<< Updated upstream
   "execution_count": 146,
   "id": "ffee72a3",
=======
   "execution_count": 2,
   "id": "5cd9f1ab",
>>>>>>> Stashed changes
   "metadata": {},
   "outputs": [
    {
     "name": "stdout",
     "output_type": "stream",
     "text": [
<<<<<<< Updated upstream
      "55:90\n",
      "55:90\n"
=======
      "55:78\n",
      "55:78\n"
>>>>>>> Stashed changes
     ]
    }
   ],
   "source": [
    "T=list(map(int,input().split(':')))\n",
    "cor=[[4,2],[1,1],[1,2],[1,3],[2,1],[2,2],[2,3],[3,1],[3,2],[3,3]]\n",
    "ans=[]\n",
    "C=[]\n",
    "for ik in range((99-T[0])//24+1):\n",
    "    for it in range((99-T[1])//24+1):\n",
    "        E=0\n",
    "        t=list(\"%02d%02d\"%((T[0]+ik*24),(T[1]+it*60)))\n",
    "        for iu in range(3):\n",
    "            a=int(t[iu])\n",
    "            b=int(t[iu+1])\n",
    "            E+=abs(cor[a][0]-cor[b][0])+abs(cor[a][1]-cor[b][1])\n",
    "        ans.append(E)\n",
    "        C.append([ik,it])\n",
    "I=ans.index(min(ans))\n",
    "a=C[I][0]\n",
    "b=C[I][1]\n",
    "print(\"%02d:%02d\"%(T[0]+a*24,T[1]+b*60))"
   ]
  },
  {
   "cell_type": "code",
<<<<<<< Updated upstream
   "execution_count": 145,
   "id": "b9e82ba7",
=======
   "execution_count": 3,
   "id": "23906f25",
>>>>>>> Stashed changes
   "metadata": {},
   "outputs": [
    {
     "data": {
      "text/plain": [
       "[3, 5]"
      ]
     },
     "execution_count": 3,
     "metadata": {},
     "output_type": "execute_result"
    }
   ],
   "source": [
    "ans"
   ]
  },
  {
   "cell_type": "code",
   "execution_count": null,
   "id": "7d3c4168",
   "metadata": {},
   "outputs": [],
   "source": []
  }
 ],
 "metadata": {
  "kernelspec": {
   "display_name": "Python 3 (ipykernel)",
   "language": "python",
   "name": "python3"
  },
  "language_info": {
   "codemirror_mode": {
    "name": "ipython",
    "version": 3
   },
   "file_extension": ".py",
   "mimetype": "text/x-python",
   "name": "python",
   "nbconvert_exporter": "python",
   "pygments_lexer": "ipython3",
   "version": "3.9.7"
  }
 },
 "nbformat": 4,
 "nbformat_minor": 5
}
